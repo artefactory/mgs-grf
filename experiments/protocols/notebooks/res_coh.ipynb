{
 "cells": [
  {
   "cell_type": "markdown",
   "id": "0",
   "metadata": {},
   "source": [
    "<center><h1  style=\"color:white; background-color:#000000; border-radius: 0px; padding:25px;\"> MGS-GRF </h1></center>"
   ]
  },
  {
   "cell_type": "markdown",
   "id": "1",
   "metadata": {},
   "source": [
    "This notebook produces the results from section 4.2."
   ]
  },
  {
   "cell_type": "code",
   "execution_count": null,
   "id": "2",
   "metadata": {},
   "outputs": [],
   "source": [
    "import os\n",
    "import sys\n",
    "sys.path.insert(1, os.path.dirname(os.path.abspath(os.path.join(os.getcwd(), os.pardir))))\n",
    "from pathlib import Path\n",
    "from collections import Counter\n",
    "\n",
    "import scipy\n",
    "import numpy as np\n",
    "import pandas as pd\n",
    "import matplotlib.pyplot as plt\n",
    "import matplotlib as mpl\n",
    "from sklearn.metrics import precision_score, recall_score, roc_auc_score,balanced_accuracy_score,average_precision_score\n",
    "\n",
    "from validation.classif_experiments import (compute_metrics, compute_metrics_several_protocols,\n",
    "                                            prec_at_recall_version3, prec_at_recall_version3_02)\n",
    "\n",
    "from matplotlib.cm import ScalarMappable"
   ]
  },
  {
   "cell_type": "code",
   "execution_count": null,
   "id": "3",
   "metadata": {},
   "outputs": [],
   "source": [
    "list_metric = [\n",
    "    (prec_at_recall_version3_02,'p@r=0.2','proba'),\n",
    "    (prec_at_recall_version3,'p@r=0.5','proba'),\n",
    "    (average_precision_score,'avg_pr_auc', 'proba'),\n",
    "    (roc_auc_score,'roc_auc','proba') \n",
    "]"
   ]
  },
  {
   "cell_type": "code",
   "execution_count": null,
   "id": "4",
   "metadata": {},
   "outputs": [],
   "source": [
    "def compute_metric_and_incoherent(output_dir,list_metric,curr_metric= \"avg_pr_auc\",strategy_name = \"SmoteNC (K=5)\",\n",
    "                                  n_iter=20,categorical_features= [-2,-1],init_name_file=\"2027-01-07-lgbm_\"):\n",
    "\n",
    "    list_metric_none=[]\n",
    "    list_metric_strategy=[]\n",
    "    list_ncso=[]\n",
    "    list_ncss=[]\n",
    "    for i in range(n_iter):\n",
    "        name_file=init_name_file+str(i)+\".npy\"\n",
    "        df_final_mean,df_final_std =compute_metrics(output_dir=output_dir,name_file=name_file,list_metric=list_metric,n_fold=1)\n",
    "        strategy_value = df_final_mean.loc[[curr_metric],[strategy_name]].to_numpy().ravel()[0]\n",
    "        none_value = df_final_mean.loc[[curr_metric],['None']].to_numpy().ravel()[0]\n",
    "        list_metric_none.append(none_value)\n",
    "        list_metric_strategy.append(strategy_value)\n",
    "        \n",
    "        X_train = np.load(os.path.join(output_dir, \"xtrain\" + name_file),allow_pickle=True)\n",
    "        y_train = np.load(os.path.join(output_dir, \"ytrain\" + name_file))\n",
    "        X_res = np.load(os.path.join(output_dir, \"xres\" +strategy_name+ name_file),allow_pickle=True)\n",
    "        y_res = np.load(os.path.join(output_dir, \"yres\" +strategy_name+ name_file),allow_pickle=True)\n",
    "        X_train_minority_comb = [str(xxx) for xxx in X_train[y_train==1][:,categorical_features]]\n",
    "        counter_train = Counter(X_train_minority_comb)\n",
    "        X_res_minority_comb = [str(xxx) for xxx in X_res[y_res==1][:,categorical_features]]\n",
    "        counter_res = Counter(X_res_minority_comb)\n",
    "    \n",
    "        ncso = 0\n",
    "        train_keys = counter_train.keys()\n",
    "        for key in counter_res.keys():\n",
    "            if key not in train_keys:\n",
    "                ncso += counter_res[key]\n",
    "        list_ncso.append(ncso/ sum(counter_res.values())) ## Compute and save ncso\n",
    "        \n",
    "        ncss = 0\n",
    "        n_original = sum(counter_train.values())\n",
    "        train_keys = counter_train.keys()\n",
    "        for key in counter_res.keys():\n",
    "            if key not in train_keys:\n",
    "                ncss += counter_res[key]\n",
    "        \n",
    "        list_ncss.append(ncss / (sum(counter_res.values())-n_original) ) ## Compute and save ncss\n",
    "    return list_metric_none, list_metric_strategy, list_ncso, list_ncss"
   ]
  },
  {
   "cell_type": "markdown",
   "id": "5",
   "metadata": {},
   "source": [
    "## Results over seeral runs :"
   ]
  },
  {
   "cell_type": "code",
   "execution_count": null,
   "id": "6",
   "metadata": {},
   "outputs": [],
   "source": [
    "output_dir_path =  \"../saved_experiments_categorial_features/sim_coh/2025/lgbm/5ksamples/case2\" ## Fill it\n",
    "df_final_mean_bankmark,df_final_std_bankmark = compute_metrics_several_protocols(\n",
    "    output_dir=output_dir_path,\n",
    "    init_name_file='2027-01-07-lgbm_',\n",
    "    list_metric=list_metric,\n",
    "    bool_roc_auc_only=False,n_iter=50,n_fold=1)\n",
    "df_final_mean_bankmark.style.format(precision=3).highlight_max(props='font-weight:bold;color:#090E19', axis = 1)"
   ]
  },
  {
   "cell_type": "code",
   "execution_count": null,
   "id": "7",
   "metadata": {},
   "outputs": [],
   "source": [
    "df_final_std_bankmark.style.format(precision=3).highlight_max(props='font-weight:bold;color:#090E19', axis = 1)"
   ]
  },
  {
   "cell_type": "code",
   "execution_count": null,
   "id": "8",
   "metadata": {},
   "outputs": [],
   "source": [
    "list_metric_none1, list_metric_strategy1, list_ncso1, list_ncss1 = compute_metric_and_incoherent(\n",
    "    output_dir=\"../saved_experiments_categorial_features/sim_coh/2025/lgbm/5ksamples/case2\",\n",
    "    list_metric=list_metric,curr_metric= \"avg_pr_auc\",strategy_name = \"SmoteNC (K=5)\", #MGS(mu)(d+1)(EmpCov) 5-NN #SmoteNC (K=5)\n",
    "    n_iter=50,categorical_features= [-2,-1],init_name_file=\"2027-01-07-lgbm_\")\n",
    "print(\"Mean CSO for this case : \",np.mean(list_ncss1))\n",
    "print(\"std : \",np.std(list_ncss1))"
   ]
  },
  {
   "cell_type": "code",
   "execution_count": null,
   "id": "9",
   "metadata": {},
   "outputs": [],
   "source": [
    "list_metric_none1, list_metric_strategy1, list_ncso1, list_ncss1 = compute_metric_and_incoherent(\n",
    "    output_dir=\"../saved_experiments_categorial_features/sim_coh/2025/lgbm/5ksamples/case2\",\n",
    "    list_metric=list_metric,curr_metric= \"avg_pr_auc\",strategy_name = \"MGS(mu)(d+1)(EmpCov) 5-NN\", #MGS(mu)(d+1)(EmpCov) 5-NN #SmoteNC (K=5)\n",
    "    n_iter=50,categorical_features= [-2,-1],init_name_file=\"2027-01-07-lgbm_\")\n",
    "print(\"Mean CSO for this case : \",np.mean(list_ncss1))\n",
    "print(\"std : \",np.std(list_ncss1))"
   ]
  },
  {
   "cell_type": "code",
   "execution_count": null,
   "id": "10",
   "metadata": {},
   "outputs": [],
   "source": [
    "list_metric_none1, list_metric_strategy1, list_ncso1, list_ncss1 = compute_metric_and_incoherent(\n",
    "    output_dir=\"../saved_experiments_categorial_features/sim_coh/2025/lgbm/5ksamples/case2\",\n",
    "    list_metric=list_metric,curr_metric= \"avg_pr_auc\",strategy_name = \"MGS-NC(mu)(d+1)(EmpCov)\", #MGS(mu)(d+1)(EmpCov) 5-NN #SmoteNC (K=5)\n",
    "    n_iter=50,categorical_features= [-2,-1],init_name_file=\"2027-01-07-lgbm_\")\n",
    "print(\"Mean CSO for this case : \",np.mean(list_ncss1))\n",
    "print(\"std : \",np.std(list_ncss1))"
   ]
  },
  {
   "cell_type": "markdown",
   "id": "11",
   "metadata": {},
   "source": [
    "## Plots :"
   ]
  },
  {
   "cell_type": "code",
   "execution_count": null,
   "id": "12",
   "metadata": {},
   "outputs": [],
   "source": [
    "list_metric_none1, list_metric_strategy1, list_ncso1, list_ncss1 = compute_metric_and_incoherent(\n",
    "    output_dir=\"../saved_experiments_categorial_features/sim_coh/2025/lgbm/5ksamples/case1\",\n",
    "    list_metric=list_metric,curr_metric= \"avg_pr_auc\",strategy_name = \"MGS(mu)(d+1)(EmpCov) 5-NN\", #MGS(mu)(d+1)(EmpCov) 5-NN #SmoteNC (K=5)\n",
    "    n_iter=50,categorical_features= [-2,-1],init_name_file=\"2027-01-07-lgbm_\")"
   ]
  },
  {
   "cell_type": "code",
   "execution_count": null,
   "id": "13",
   "metadata": {},
   "outputs": [],
   "source": [
    "list_metric_none2, list_metric_strategy2, list_ncso2, list_ncss2 = compute_metric_and_incoherent(\n",
    "    output_dir=\"../saved_experiments_categorial_features/sim_coh/2025/lgbm/5ksamples/case2\",\n",
    "    list_metric=list_metric,curr_metric= \"avg_pr_auc\",strategy_name = \"MGS(mu)(d+1)(EmpCov) 5-NN\",\n",
    "    n_iter=50,categorical_features= [-2,-1],init_name_file=\"2027-01-07-lgbm_\")"
   ]
  },
  {
   "cell_type": "code",
   "execution_count": null,
   "id": "14",
   "metadata": {},
   "outputs": [],
   "source": [
    "list_metric_none3, list_metric_strategy3, list_ncso3, list_ncss3 = compute_metric_and_incoherent(\n",
    "    output_dir=\"../saved_experiments_categorial_features/sim_coh/2025/lgbm/5ksamples/case3\",\n",
    "    list_metric=list_metric,curr_metric= \"avg_pr_auc\",strategy_name = \"MGS(mu)(d+1)(EmpCov) 5-NN\",\n",
    "    n_iter=50,categorical_features= [-2,-1],init_name_file=\"2027-01-07-lgbm_\")"
   ]
  },
  {
   "cell_type": "code",
   "execution_count": null,
   "id": "15",
   "metadata": {},
   "outputs": [],
   "source": [
    "list_metric_none4, list_metric_strategy4, list_ncso4, list_ncss4 = compute_metric_and_incoherent(\n",
    "    output_dir=\"../saved_experiments_categorial_features/sim_coh/2025/lgbm/5ksamples/case4\",\n",
    "    list_metric=list_metric,curr_metric= \"avg_pr_auc\",strategy_name = \"MGS(mu)(d+1)(EmpCov) 5-NN\",\n",
    "    n_iter=50,categorical_features= [-2,-1],init_name_file=\"2027-01-07-lgbm_\")"
   ]
  },
  {
   "cell_type": "code",
   "execution_count": null,
   "id": "16",
   "metadata": {},
   "outputs": [],
   "source": [
    "list_metric_none5, list_metric_strategy5, list_ncso5, list_ncss5 = compute_metric_and_incoherent(\n",
    "    output_dir=\"../saved_experiments_categorial_features/sim_coh/2025/lgbm/5ksamples/case5\",\n",
    "    list_metric=list_metric,curr_metric= \"avg_pr_auc\",strategy_name = \"MGS(mu)(d+1)(EmpCov) 5-NN\",\n",
    "    n_iter=50,categorical_features= [-2,-1],init_name_file=\"2027-01-07-lgbm_\") #n_iter=35 for uniform"
   ]
  },
  {
   "cell_type": "code",
   "execution_count": null,
   "id": "17",
   "metadata": {},
   "outputs": [],
   "source": [
    "## Normal case only\n",
    "list_metric_none6, list_metric_strategy6, list_ncso6, list_ncss6 = compute_metric_and_incoherent(\n",
    "    output_dir=\"../saved_experiments_categorial_features/sim_coh/2025/lgbm/5ksamples/case6\",\n",
    "    list_metric=list_metric,curr_metric= \"avg_pr_auc\",strategy_name = \"MGS(mu)(d+1)(EmpCov) 5-NN\",\n",
    "    n_iter=50,categorical_features= [-2,-1],init_name_file=\"2027-01-07-lgbm_\") #n_iter=35 for uniform"
   ]
  },
  {
   "cell_type": "code",
   "execution_count": null,
   "id": "18",
   "metadata": {},
   "outputs": [],
   "source": [
    "list_metric_none_drf_1, list_metric_drf_1, list_ncso_drf_1, list_ncss_drf_1 = compute_metric_and_incoherent(\n",
    "    output_dir=\"../saved_experiments_categorial_features/sim_coh/2025/lgbm/5ksamples/case1\",\n",
    "    list_metric=list_metric,curr_metric= \"avg_pr_auc\",strategy_name = \"MGS(mu)(d+1)(EmpCov) 1-NN\",  #MGS(mu)(d+1)(EmpCov) DRFsk classique (mtry=def=sqrt) #MGS(mu)(d+1)(EmpCov) 1-NN \n",
    "    n_iter=50,categorical_features= [-2,-1],init_name_file=\"2027-01-07-lgbm_\")\n",
    "\n",
    "list_metric_none_drf_2, list_metric_drf_2, list_ncso_drf_2, list_ncss_drf_2 = compute_metric_and_incoherent(\n",
    "    output_dir=\"../saved_experiments_categorial_features/sim_coh/2025/lgbm/5ksamples/case2\",\n",
    "    list_metric=list_metric,curr_metric= \"avg_pr_auc\",strategy_name = \"MGS(mu)(d+1)(EmpCov) 1-NN\",\n",
    "    n_iter=50,categorical_features= [-2,-1],init_name_file=\"2027-01-07-lgbm_\")\n",
    "\n",
    "list_metric_none_drf_3, list_metric_drf_3, list_ncso_drf_3, list_ncss_drf_3 = compute_metric_and_incoherent(\n",
    "    output_dir=\"../saved_experiments_categorial_features/sim_coh/2025/lgbm/5ksamples/case3\",\n",
    "    list_metric=list_metric,curr_metric= \"avg_pr_auc\",strategy_name = \"MGS(mu)(d+1)(EmpCov) 1-NN\",\n",
    "    n_iter=50,categorical_features= [-2,-1],init_name_file=\"2027-01-07-lgbm_\")\n",
    "\n",
    "list_metric_none_drf_4, list_metric_drf_4, list_ncso_drf_4, list_ncss_drf_4 = compute_metric_and_incoherent(\n",
    "    output_dir=\"../saved_experiments_categorial_features/sim_coh/2025/lgbm/5ksamples/case4\",\n",
    "    list_metric=list_metric,curr_metric= \"avg_pr_auc\",strategy_name = \"MGS(mu)(d+1)(EmpCov) 1-NN\",\n",
    "    n_iter=50,categorical_features= [-2,-1],init_name_file=\"2027-01-07-lgbm_\")\n",
    "\n",
    "list_metric_none_drf_5, list_metric_drf_5, list_ncso_drf_5, list_ncss_drf_5 = compute_metric_and_incoherent(\n",
    "    output_dir=\"../saved_experiments_categorial_features/sim_coh/2025/lgbm/5ksamples/case5\",\n",
    "    list_metric=list_metric,curr_metric= \"avg_pr_auc\",strategy_name = \"MGS(mu)(d+1)(EmpCov) 1-NN\",\n",
    "    n_iter=50,categorical_features= [-2,-1],init_name_file=\"2027-01-07-lgbm_\")\n",
    "\n",
    "list_metric_none_drf_6, list_metric_drf_6, list_ncso_drf_6, list_ncss_drf_6 = compute_metric_and_incoherent(\n",
    "    output_dir=\"../saved_experiments_categorial_features/sim_coh/2025/lgbm/5ksamples/case6\",\n",
    "    list_metric=list_metric,curr_metric= \"avg_pr_auc\",strategy_name = \"MGS(mu)(d+1)(EmpCov) 1-NN\",\n",
    "    n_iter=50,categorical_features= [-2,-1],init_name_file=\"2027-01-07-lgbm_\")"
   ]
  },
  {
   "cell_type": "code",
   "execution_count": null,
   "id": "19",
   "metadata": {},
   "outputs": [],
   "source": [
    "list_metric_none = []\n",
    "list_metric_none.extend(list_metric_none1)\n",
    "list_metric_none.extend(list_metric_none2)\n",
    "list_metric_none.extend(list_metric_none3)\n",
    "list_metric_none.extend(list_metric_none4)\n",
    "list_metric_none.extend(list_metric_none5)\n",
    "list_metric_none.extend(list_metric_none6)\n",
    "array_metric_none = np.array(list_metric_none)\n",
    "\n",
    "list_metric_strategy = []\n",
    "list_metric_strategy.extend(list_metric_strategy1)\n",
    "list_metric_strategy.extend(list_metric_strategy2)\n",
    "list_metric_strategy.extend(list_metric_strategy3)\n",
    "list_metric_strategy.extend(list_metric_strategy4)\n",
    "list_metric_strategy.extend(list_metric_strategy5)\n",
    "list_metric_strategy.extend(list_metric_strategy6)\n",
    "array_metric_smote = np.array(list_metric_strategy)\n",
    "\n",
    "\n",
    "list_ncso = []\n",
    "list_ncso.extend(list_ncso1)\n",
    "list_ncso.extend(list_ncso2)\n",
    "list_ncso.extend(list_ncso3)\n",
    "list_ncso.extend(list_ncso4)\n",
    "list_ncso.extend(list_ncso5)\n",
    "list_ncso.extend(list_ncso6)\n",
    "array_ncso = np.array(list_ncso)\n",
    "\n",
    "list_ncss = []\n",
    "list_ncss.extend(list_ncss1)\n",
    "list_ncss.extend(list_ncss2)\n",
    "list_ncss.extend(list_ncss3)\n",
    "list_ncss.extend(list_ncss4)\n",
    "list_ncss.extend(list_ncss5)\n",
    "list_ncss.extend(list_ncss6)\n",
    "array_ncss = np.array(list_ncss)\n"
   ]
  },
  {
   "cell_type": "code",
   "execution_count": null,
   "id": "20",
   "metadata": {},
   "outputs": [],
   "source": [
    "list_metric_none_drf = []\n",
    "list_metric_none_drf.extend(list_metric_none_drf_1)\n",
    "list_metric_none_drf.extend(list_metric_none_drf_2)\n",
    "list_metric_none_drf.extend(list_metric_none_drf_3)\n",
    "list_metric_none_drf.extend(list_metric_none_drf_4)\n",
    "list_metric_none_drf.extend(list_metric_none_drf_5)\n",
    "list_metric_none_drf.extend(list_metric_none_drf_6)\n",
    "array_metric_none_drf = np.array(list_metric_none_drf)\n",
    "\n",
    "\n",
    "list_metric_drf = []\n",
    "list_metric_drf.extend(list_metric_drf_1)\n",
    "list_metric_drf.extend(list_metric_drf_2)\n",
    "list_metric_drf.extend(list_metric_drf_3)\n",
    "list_metric_drf.extend(list_metric_drf_4)\n",
    "list_metric_drf.extend(list_metric_drf_5)\n",
    "list_metric_drf.extend(list_metric_drf_6)\n",
    "array_metric_drf = np.array(list_metric_drf)\n",
    "\n",
    "\n",
    "list_ncso_drf = []\n",
    "list_ncso_drf.extend(list_ncso_drf_1)\n",
    "list_ncso_drf.extend(list_ncso_drf_2)\n",
    "list_ncso_drf.extend(list_ncso_drf_3)\n",
    "list_ncso_drf.extend(list_ncso_drf_4)\n",
    "list_ncso_drf.extend(list_ncso_drf_5)\n",
    "list_ncso_drf.extend(list_ncso_drf_6)\n",
    "array_ncso_drf = np.array(list_ncso_drf)\n",
    "\n",
    "list_ncss_drf = []\n",
    "list_ncss_drf.extend(list_ncss_drf_1)\n",
    "list_ncss_drf.extend(list_ncss_drf_2)\n",
    "list_ncss_drf.extend(list_ncss_drf_3)\n",
    "list_ncss_drf.extend(list_ncss_drf_4)\n",
    "list_ncss_drf.extend(list_ncss_drf_5)\n",
    "list_ncss_drf.extend(list_ncss_drf_6)\n",
    "array_ncss_drf = np.array(list_ncss_drf)"
   ]
  },
  {
   "cell_type": "code",
   "execution_count": null,
   "id": "21",
   "metadata": {},
   "outputs": [],
   "source": [
    "from sklearn.linear_model import LinearRegression"
   ]
  },
  {
   "cell_type": "code",
   "execution_count": null,
   "id": "22",
   "metadata": {},
   "outputs": [],
   "source": [
    "x_grid = np.arange(-0.1,1.1,0.01)\n",
    "lin_reg_smote = LinearRegression()\n",
    "lin_reg_smote.fit(array_metric_none.reshape(-1, 1),array_metric_smote)\n",
    "pred_lin_reg_smote = lin_reg_smote.predict(x_grid.reshape(-1, 1))"
   ]
  },
  {
   "cell_type": "code",
   "execution_count": null,
   "id": "23",
   "metadata": {},
   "outputs": [],
   "source": [
    "x_grid = np.arange(-0.1,1.1,0.01)\n",
    "lin_reg_drf = LinearRegression()\n",
    "lin_reg_drf.fit(array_metric_none.reshape(-1, 1),array_metric_drf)\n",
    "pred_lin_reg_drf = lin_reg_drf.predict(x_grid.reshape(-1, 1))"
   ]
  },
  {
   "cell_type": "code",
   "execution_count": null,
   "id": "24",
   "metadata": {},
   "outputs": [],
   "source": [
    "plt.figure(figsize=(9, 6))\n",
    "zs = np.concatenate([1-array_ncss, 1-array_ncss_drf,], axis=0)\n",
    "min_, max_ = zs.min(), zs.max()\n",
    "\n",
    "plt.scatter(array_metric_none,array_metric_smote,label=\"MGS-5NN\",c=1-array_ncss,cmap=\"Blues\",marker='s')\n",
    "plt.clim(min_, max_)\n",
    "plt.scatter(array_metric_none,array_metric_drf,label=\"MGS-1NN\",c=1-array_ncss_drf,cmap=\"Blues\",marker='o') #RdYlGn\n",
    "plt.clim(min_, max_)\n",
    "#cax = fig.add_axes([0.94, 0.1, 0.05, 0.75])  # [left, bottom, width 5% of figure width, height 75% of figure height]\n",
    "plt.colorbar().set_label('Coh',fontsize=15,labelpad=-30,y=1.05,rotation=0)\n",
    "plt.plot(x_grid,pred_lin_reg_smote,c='blue',linestyle='-') #label=\"SMOTE-NC fit\"\n",
    "\n",
    "\n",
    "plt.plot(x_grid,pred_lin_reg_drf,c='blue',linestyle='--')  #label=\"MGS-GRF fit\"\n",
    "plt.plot(x_grid,x_grid,c='grey',alpha=0.8)\n",
    "\n",
    "\n",
    "plt.xlabel(\"PR AUC None\",fontsize=20)\n",
    "plt.ylabel(\"PR AUC strategy\",fontsize=20)\n",
    "plt.title(\"\")\n",
    "plt.xlim([-0.01,1.01])\n",
    "plt.ylim([-0.01,1.01])\n",
    "plt.legend(bbox_to_anchor =(0.5,-0.28),ncol=4, loc='lower center',fontsize=20) #handlelength=0.5\n",
    "plt.savefig(\"sim2-normalv2-lin-2.pdf\",bbox_inches='tight')\n",
    "plt.show()"
   ]
  },
  {
   "cell_type": "code",
   "execution_count": null,
   "id": "25",
   "metadata": {},
   "outputs": [],
   "source": [
    "from sklearn.preprocessing import PolynomialFeatures"
   ]
  },
  {
   "cell_type": "code",
   "execution_count": null,
   "id": "26",
   "metadata": {},
   "outputs": [],
   "source": [
    "x_grid = np.arange(-0.1,1.1,0.01)\n",
    "poly = PolynomialFeatures(degree=2)\n",
    "array_metric_none_poly = poly.fit_transform(array_metric_none.reshape(-1, 1))\n",
    "x_grid_poly = poly.transform(x_grid.reshape(-1, 1))\n",
    "lin_reg_smote_poly = LinearRegression()\n",
    "lin_reg_smote_poly.fit(array_metric_none_poly,array_metric_smote)\n",
    "pred_lin_reg_poly_smote = lin_reg_smote_poly.predict(x_grid_poly)"
   ]
  },
  {
   "cell_type": "code",
   "execution_count": null,
   "id": "27",
   "metadata": {},
   "outputs": [],
   "source": [
    "x_grid = np.arange(-0.1,1.1,0.01)\n",
    "poly = PolynomialFeatures(degree=2)\n",
    "array_metric_none_poly = poly.fit_transform(array_metric_none.reshape(-1, 1))\n",
    "x_grid_poly = poly.transform(x_grid.reshape(-1, 1))\n",
    "lin_reg_drf_poly = LinearRegression()\n",
    "lin_reg_drf_poly.fit(array_metric_none_poly,array_metric_drf)\n",
    "pred_lin_reg_poly_drf = lin_reg_drf_poly.predict(x_grid_poly)"
   ]
  },
  {
   "cell_type": "code",
   "execution_count": null,
   "id": "28",
   "metadata": {},
   "outputs": [],
   "source": [
    "plt.figure(figsize=(9, 6))\n",
    "zs = np.concatenate([1-array_ncss, 1-array_ncss_drf,], axis=0)\n",
    "min_, max_ = zs.min(), zs.max()\n",
    "\n",
    "plt.scatter(array_metric_none,array_metric_smote,label=\"MGS-5NN\",c=1-array_ncss,cmap=\"Blues\",marker='s')\n",
    "plt.clim(min_, max_)\n",
    "plt.scatter(array_metric_none,array_metric_drf,label=\"MGS-1NN\",c=1-array_ncss_drf,cmap=\"Blues\",marker='o') #RdYlGn\n",
    "plt.clim(min_, max_)\n",
    "#cax = fig.add_axes([0.94, 0.1, 0.05, 0.75])  # [left, bottom, width 5% of figure width, height 75% of figure height]\n",
    "plt.colorbar().set_label('Coh',fontsize=15,labelpad=-30,y=1.05,rotation=0)\n",
    "plt.plot(x_grid,pred_lin_reg_poly_smote,c='blue',linestyle='-') #label=\"SMOTE-NC fit\"\n",
    "\n",
    "\n",
    "plt.plot(x_grid,pred_lin_reg_poly_drf,c='blue',linestyle='--')  #label=\"MGS-GRF fit\"\n",
    "plt.plot(x_grid,x_grid,c='grey',alpha=0.8)\n",
    "\n",
    "\n",
    "plt.xlabel(\"PR AUC None\",fontsize=20)\n",
    "plt.ylabel(\"PR AUC strategy\",fontsize=20)\n",
    "plt.title(\"\")\n",
    "plt.xlim([-0.01,1.01])\n",
    "plt.ylim([-0.01,1.01])\n",
    "plt.legend(bbox_to_anchor =(0.5,-0.28),ncol=4, loc='lower center',fontsize=20) #handlelength=0.5\n",
    "plt.savefig(\"sim2-normalv2-quadratic-2.pdf\",bbox_inches='tight')\n",
    "plt.show()"
   ]
  },
  {
   "cell_type": "markdown",
   "id": "29",
   "metadata": {},
   "source": [
    "## Runing time derivation :"
   ]
  },
  {
   "cell_type": "code",
   "execution_count": null,
   "id": "30",
   "metadata": {},
   "outputs": [],
   "source": [
    "def average_runing_time(output_dir_path,init_name_file,n_iter=50):\n",
    "    df_final = pd.DataFrame()\n",
    "    for i in range(n_iter):\n",
    "        name_file = init_name_file + str(i) + \".csv\"\n",
    "        curr_df = pd.read_csv(os.path.join(output_dir_path, \"runtime\" + name_file))\n",
    "        df_final = pd.concat([df_final,curr_df],axis=0)\n",
    "    return df_final.reset_index(drop=True)\n"
   ]
  },
  {
   "cell_type": "code",
   "execution_count": null,
   "id": "31",
   "metadata": {},
   "outputs": [],
   "source": [
    "df = average_runing_time(output_dir_path=\"../saved_experiments_categorial_features/sim_coh/2025/lgbm/5ksamples/case2\",\n",
    "                    init_name_file=\"2027-01-07-lgbm_\",\n",
    "                    n_iter=50)\n",
    "df.mean(axis=0).to_frame().T.style.format(precision=2).highlight_max(props='font-weight:bold;color:#090E19', axis = 1)"
   ]
  },
  {
   "cell_type": "code",
   "execution_count": null,
   "id": "32",
   "metadata": {},
   "outputs": [],
   "source": [
    "df.std(axis=0).to_frame().T.style.format(precision=2).highlight_max(props='font-weight:bold;color:#090E19', axis = 1)"
   ]
  },
  {
   "cell_type": "code",
   "execution_count": null,
   "id": "33",
   "metadata": {},
   "outputs": [],
   "source": [
    "df = average_runing_time(output_dir_path=\"../saved_experiments_categorial_features/sim_coh/2025/lgbm/5ksamples/case2\",\n",
    "                    init_name_file=\"2027-01-07-lgbm_\",\n",
    "                    n_iter=50)\n",
    "df.mean(axis=0).to_frame().T.style.format(precision=2).highlight_max(props='font-weight:bold;color:#090E19', axis = 1)"
   ]
  },
  {
   "cell_type": "code",
   "execution_count": null,
   "id": "34",
   "metadata": {},
   "outputs": [],
   "source": [
    "df.std(axis=0).to_frame().T.style.format(precision=2).highlight_max(props='font-weight:bold;color:#090E19', axis = 1)"
   ]
  },
  {
   "cell_type": "markdown",
   "id": "35",
   "metadata": {},
   "source": [
    "## Plot samp ratio :"
   ]
  },
  {
   "cell_type": "code",
   "execution_count": null,
   "id": "36",
   "metadata": {},
   "outputs": [],
   "source": [
    "def compute_runs_over_samp(list_samps,strategies,init_output_dir_path,init_name_file,n_iter=20,n_fold=5):\n",
    "    array_res_mean = np.zeros((len(list_samps),len(strategies)))\n",
    "    array_res_std = np.zeros((len(list_samps),len(strategies)))\n",
    "    \n",
    "    for i,samp in enumerate(list_samps) :\n",
    "        output_dir_path =init_output_dir_path +str(samp)\n",
    "        df_final_mean,df_final_std = compute_metrics_several_protocols(\n",
    "            output_dir=output_dir_path,\n",
    "            init_name_file=init_name_file,\n",
    "            list_metric=list_metric,\n",
    "            bool_roc_auc_only=False,n_iter=n_iter,n_fold=n_fold)\n",
    "        for j,strat in enumerate(strategies) :\n",
    "            array_res_mean[i,j] = df_final_mean.loc['avg_pr_auc'][strat]\n",
    "            array_res_std[i,j] = df_final_std.loc['avg_pr_auc'][strat]\n",
    "    \n",
    "    array_res_mean_with_dim = np.hstack((np.array(list_samps).reshape(-1,1),array_res_mean))\n",
    "    array_res_std_with_dim = np.hstack((np.array(list_samps).reshape(-1,1),array_res_std))\n",
    "    columns_with_dim = ['n_samples_min']\n",
    "    columns_with_dim.extend(strategies)\n",
    "    df_res_mean= pd.DataFrame(array_res_mean_with_dim,columns=columns_with_dim)\n",
    "    df_res_std= pd.DataFrame(array_res_std_with_dim,columns=columns_with_dim)\n",
    "    return df_res_mean,df_res_std\n",
    "    \n",
    "def plot_(df,df_std,xlim=[-0.1,510],ylim=[0.55,1.0],fontsize=20,plot_error_fill=False,title='',\n",
    "         name_strats_to_plot= None,to_save=False,name_file_saving='img.pdf'):\n",
    "    plt.figure(figsize=(12,8))\n",
    "    list_start = df.columns.tolist()[1:]\n",
    "    list_fmt= ['o','v','^','s','*','8']*((len(list_start) // 6)+1)\n",
    "    list_colors = ['#1f77b4', '#ff7f0e', '#2ca02c', '#d62728', '#9467bd', '#8c564b', '#e377c2',\n",
    "                   '#7f7f7f', '#bcbd22', '#17becf'] *((len(list_start) // 10)+1)\n",
    "    for i,strat in enumerate(list_start):\n",
    "        if plot_error_fill:\n",
    "            if name_strats_to_plot :\n",
    "                name_strat= name_strats_to_plot[i]\n",
    "            else:\n",
    "                name_strat=strat\n",
    "            #plt.errorbar(df[['n_samples_min']].values.ravel(),df[[strat]].values.ravel(),\n",
    "            #                 yerr=df_std[[strat]].values.ravel(),fmt=list_fmt[i], markersize=3,elinewidth=0.5, capsize=6,label=name_strat\n",
    "            #                )\n",
    "            plt.plot(df[['n_samples_min']].values.ravel(),df[[strat]].values.ravel(), \n",
    "                     marker=list_fmt[i],linestyle=\"--\", label=name_strat,c=list_colors[i],\n",
    "                    )\n",
    "            plt.fill_between(df[['n_samples_min']].values.ravel(),df[[strat]].values.ravel()- df_std[[strat]].values.ravel(),\n",
    "                             df[[strat]].values.ravel()+ df_std[[strat]].values.ravel(),color=list_colors[i], alpha=0.2\n",
    "                            )\n",
    "        else:\n",
    "            plt.plot(df[['n_samples_min']],df[[strat]],linestyle=\"--\")\n",
    "            plt.scatter(df[['n_samples_min']],df[[strat]],label=strat)\n",
    "\n",
    "    plt.axvline(x = 3600, color = 'gray',alpha=0.8, label = 'Equilibrium')\n",
    "    plt.xlim(xlim)\n",
    "    plt.ylim(ylim)\n",
    "    plt.title(title,fontsize=fontsize)\n",
    "    plt.xlabel(\"n final\",fontsize=fontsize)\n",
    "    plt.ylabel(\"PR AUC\",fontsize=fontsize)\n",
    "    #plt.legend(fontsize=fontsize)\n",
    "    plt.legend(bbox_to_anchor =(0.5,-0.38),ncol=3, loc='lower center',fontsize=fontsize)\n",
    "    if to_save:\n",
    "        plt.savefig(name_file_saving,bbox_inches='tight')\n",
    "    plt.show()"
   ]
  },
  {
   "cell_type": "code",
   "execution_count": null,
   "id": "37",
   "metadata": {},
   "outputs": [],
   "source": [
    "df_res_mean,df_res_std = compute_runs_over_samp(list_samps=[200, 750, 1000, 1500, 2000, 2500, 3000, 3600, 5000], \n",
    "                             strategies=['None','SmoteNC (K=5)','MGS(mu)(d+1)(EmpCov) 1-NN',\n",
    "                                         'MGS(mu)(d+1)(EmpCov) 5-NN','MGS(mu)(d+1)(EmpCov) DRFsk classique (mtry=def=sqrt)',],\n",
    "                             init_output_dir_path=\"../saved_experiments_categorial_features/sim_coh/2025/lgbm/5ksamples/case6/\",\n",
    "                             init_name_file='2027-01-07-lgbm_', n_fold=1,n_iter=50)"
   ]
  },
  {
   "cell_type": "code",
   "execution_count": null,
   "id": "38",
   "metadata": {},
   "outputs": [],
   "source": [
    "plot_(df=df_res_mean,\n",
    "      df_std=df_res_std,\n",
    "      xlim=[100,5500],ylim=[0.,1.02],plot_error_fill=True,fontsize=20,\n",
    "     name_strats_to_plot =['None','SMOTE-NC','MGS-1NN','MGS-kNN','MGS-GRF'],\n",
    "     title=\"\",to_save=True,name_file_saving='2025-images/sim1-samp-ratio.pdf')"
   ]
  },
  {
   "cell_type": "code",
   "execution_count": null,
   "id": "39",
   "metadata": {},
   "outputs": [],
   "source": [
    "df_res_mean,df_res_std = compute_runs_over_samp(list_samps=[450, 750, 1000, 1500, 2000, 2500, 3000, 3600, 5000, 6000], \n",
    "                             strategies=['None','SmoteNC (K=5)','MGS(mu)(d+1)(EmpCov) 1-NN',\n",
    "                                         'MGS(mu)(d+1)(EmpCov) 5-NN','MGS(mu)(d+1)(EmpCov) DRFsk classique (mtry=def=sqrt)',],\n",
    "                             init_output_dir_path=\"../saved_experiments_categorial_features/sim_coh/2025/lgbm/5ksamples/case4/\",\n",
    "                             init_name_file='2027-01-07-lgbm_', n_fold=1,n_iter=50)"
   ]
  },
  {
   "cell_type": "code",
   "execution_count": null,
   "id": "40",
   "metadata": {},
   "outputs": [],
   "source": [
    "plot_(df=df_res_mean,\n",
    "      df_std=df_res_std,\n",
    "      xlim=[100,5500],ylim=[0.,1.01],plot_error_fill=True,fontsize=20,\n",
    "     name_strats_to_plot =['None','SMOTE-NC','MGS-1NN','MGS-kNN','MGS-GRF'],\n",
    "     title=\"\",to_save=True,name_file_saving='2025-images/sim1-samp-ratio.pdf')"
   ]
  },
  {
   "cell_type": "code",
   "execution_count": null,
   "id": "41",
   "metadata": {},
   "outputs": [],
   "source": [
    "df_res_mean,df_res_std = compute_runs_over_samp(list_samps=[450, 750, 1000, 1500, 2000, 2500, 3000, 3600, 5000, 6000], \n",
    "                             strategies=['None','SmoteNC (K=5)','MGS(mu)(d+1)(EmpCov) 1-NN',\n",
    "                                         'MGS(mu)(d+1)(EmpCov) 5-NN','MGS(mu)(d+1)(EmpCov) DRFsk classique (mtry=def=sqrt)',],\n",
    "                             init_output_dir_path=\"../saved_experiments_categorial_features/sim_coh/2025/lgbm/5ksamples/case5/\",\n",
    "                             init_name_file='2027-01-07-lgbm_', n_fold=1,n_iter=50)"
   ]
  },
  {
   "cell_type": "code",
   "execution_count": null,
   "id": "42",
   "metadata": {},
   "outputs": [],
   "source": [
    "plot_(df=df_res_mean,\n",
    "      df_std=df_res_std,\n",
    "      xlim=[100,5500],ylim=[0.,1.01],plot_error_fill=True,fontsize=20,\n",
    "     name_strats_to_plot =['None','SMOTE-NC','MGS-1NN','MGS-kNN','MGS-GRF'],\n",
    "     title=\"\",to_save=True,name_file_saving='2025-images/sim1-samp-ratio.pdf')"
   ]
  },
  {
   "cell_type": "code",
   "execution_count": null,
   "id": "43",
   "metadata": {},
   "outputs": [],
   "source": []
  }
 ],
 "metadata": {
  "kernelspec": {
   "display_name": "Python 3 (ipykernel)",
   "language": "python",
   "name": "python3"
  },
  "language_info": {
   "codemirror_mode": {
    "name": "ipython",
    "version": 3
   },
   "file_extension": ".py",
   "mimetype": "text/x-python",
   "name": "python",
   "nbconvert_exporter": "python",
   "pygments_lexer": "ipython3",
   "version": "3.11.9"
  }
 },
 "nbformat": 4,
 "nbformat_minor": 5
}
