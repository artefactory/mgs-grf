{
 "cells": [
  {
   "cell_type": "markdown",
   "id": "0",
   "metadata": {},
   "source": [
    "<center><h1  style=\"color:white; background-color:#000000; border-radius: 0px; padding:25px;\"> MGS-GRF </h1></center>"
   ]
  },
  {
   "cell_type": "markdown",
   "id": "1",
   "metadata": {},
   "source": [
    "This notebook produces the results from section 4.2."
   ]
  },
  {
   "cell_type": "code",
   "execution_count": null,
   "id": "2",
   "metadata": {},
   "outputs": [],
   "source": [
    "import os\n",
    "import sys\n",
    "sys.path.insert(1, os.path.abspath(Path(__file__).parents[3]))\n",
    "from pathlib import Path\n",
    "from collections import Counter\n",
    "\n",
    "import numpy as np\n",
    "import pandas as pd\n",
    "from sklearn.metrics import precision_score, recall_score, roc_auc_score,balanced_accuracy_score,average_precision_score\n",
    "\n",
    "from experiments.validation.classif_experiments import (compute_metrics_several_protocols,\n",
    "                                            prec_at_recall_version3, prec_at_recall_version3_02)"
   ]
  },
  {
   "cell_type": "code",
   "execution_count": null,
   "id": "3",
   "metadata": {},
   "outputs": [],
   "source": [
    "import matplotlib.pyplot as plt"
   ]
  },
  {
   "cell_type": "markdown",
   "id": "4",
   "metadata": {},
   "source": [
    "## Utils :"
   ]
  },
  {
   "cell_type": "code",
   "execution_count": null,
   "id": "5",
   "metadata": {},
   "outputs": [],
   "source": [
    "def compute_runs_over_dimensions(dimensions,strategies,init_output_dir_path,init_name_file,n_iter=20,n_fold=5):\n",
    "    array_res_mean = np.zeros((len(dimensions),len(strategies)))\n",
    "    array_res_std = np.zeros((len(dimensions),len(strategies)))\n",
    "    \n",
    "    for i,dimension in enumerate(dimensions) :\n",
    "        output_dir_path =init_output_dir_path  +str(dimension)\n",
    "        df_final_mean,df_final_std = compute_metrics_several_protocols(\n",
    "            output_dir=output_dir_path,\n",
    "            init_name_file=init_name_file,\n",
    "            list_metric=list_metric,\n",
    "            bool_roc_auc_only=False,n_iter=n_iter,n_fold=n_fold)\n",
    "        for j,strat in enumerate(strategies) :\n",
    "            array_res_mean[i,j] = df_final_mean.loc['avg_pr_auc'][strat]\n",
    "            array_res_std[i,j] = df_final_std.loc['avg_pr_auc'][strat]\n",
    "    \n",
    "    array_res_mean_with_dim = np.hstack((np.array(dimensions).reshape(-1,1),array_res_mean))\n",
    "    array_res_std_with_dim = np.hstack((np.array(dimensions).reshape(-1,1),array_res_std))\n",
    "    columns_with_dim = ['Dimension']\n",
    "    columns_with_dim.extend(strategies)\n",
    "    df_res_mean= pd.DataFrame(array_res_mean_with_dim,columns=columns_with_dim)\n",
    "    df_res_std= pd.DataFrame(array_res_std_with_dim,columns=columns_with_dim)\n",
    "    return df_res_mean,df_res_std\n",
    "    \n",
    "def plot_(df,df_std,xlim=[-0.1,510],ylim=[0.55,1.0],fontsize=20,plot_error_fill=False,title='',\n",
    "         name_strats_to_plot= None,to_save=False,name_file_saving='img.pdf'):\n",
    "    plt.figure(figsize=(12,8))\n",
    "    list_start = df.columns.tolist()[1:]\n",
    "    list_fmt= ['o','v','^','s','*','8']*((len(list_start) // 6)+1)\n",
    "    list_colors = ['#1f77b4', '#ff7f0e', '#2ca02c', '#d62728', '#9467bd', '#8c564b', '#e377c2',\n",
    "                   '#7f7f7f', '#bcbd22', '#17becf'] *((len(list_start) // 10)+1)\n",
    "    for i,strat in enumerate(list_start):\n",
    "        if plot_error_fill:\n",
    "            if name_strats_to_plot :\n",
    "                name_strat= name_strats_to_plot[i]\n",
    "            else:\n",
    "                name_strat=strat\n",
    "            #plt.errorbar(df[['Dimension']].values.ravel(),df[[strat]].values.ravel(),\n",
    "            #                 yerr=df_std[[strat]].values.ravel(),fmt=list_fmt[i], markersize=3,elinewidth=0.5, capsize=6,label=name_strat\n",
    "            #                )\n",
    "            plt.plot(df[['Dimension']].values.ravel(),df[[strat]].values.ravel(), \n",
    "                     marker=list_fmt[i],linestyle=\"--\", label=name_strat,c=list_colors[i],\n",
    "                    )\n",
    "            plt.fill_between(df[['Dimension']].values.ravel(),df[[strat]].values.ravel()- df_std[[strat]].values.ravel(),\n",
    "                             df[[strat]].values.ravel()+ df_std[[strat]].values.ravel(),color=list_colors[i], alpha=0.2\n",
    "                            )\n",
    "        else:\n",
    "            plt.plot(df[['Dimension']],df[[strat]],linestyle=\"--\")\n",
    "            plt.scatter(df[['Dimension']],df[[strat]],label=strat)\n",
    "        \n",
    "    plt.xlim(xlim)\n",
    "    plt.ylim(ylim)\n",
    "    plt.title(title,fontsize=fontsize)\n",
    "    plt.xlabel(\"Dimension\",fontsize=fontsize)\n",
    "    plt.ylabel(\"PR AUC\",fontsize=fontsize)\n",
    "    #plt.legend(fontsize=fontsize)\n",
    "    plt.legend(bbox_to_anchor =(0.5,-0.38),ncol=3, loc='lower center',fontsize=28)\n",
    "    if to_save:\n",
    "        plt.savefig(name_file_saving,bbox_inches='tight')\n",
    "    plt.show()"
   ]
  },
  {
   "cell_type": "code",
   "execution_count": null,
   "id": "6",
   "metadata": {},
   "outputs": [],
   "source": [
    "list_metric = [\n",
    "    #(precision_score,'precision','pred'),\n",
    "    #(recall_score,'recall','pred'),\n",
    "    #(balanced_accuracy_score,'balanced acc','pred'),\n",
    "    (prec_at_recall_version3_02,'p@r=0.2','proba'),\n",
    "    (prec_at_recall_version3,'p@r=0.5','proba'),\n",
    "    (average_precision_score,'avg_pr_auc', 'proba'),\n",
    "    (roc_auc_score,'roc_auc','proba') \n",
    "]"
   ]
  },
  {
   "cell_type": "markdown",
   "id": "7",
   "metadata": {},
   "source": [
    "<center><h1  style=\"color:white; background-color:#808b96; border-radius: 10px; padding:15px;\"> Simulations 1 </h1></center>"
   ]
  },
  {
   "cell_type": "markdown",
   "id": "8",
   "metadata": {},
   "source": [
    "## New :"
   ]
  },
  {
   "cell_type": "code",
   "execution_count": null,
   "id": "9",
   "metadata": {},
   "outputs": [],
   "source": [
    "df_res_mean,df_res_std = compute_runs_over_dimensions(dimensions=[5,10,20,30,50,100,150,200], #150,200\n",
    "                             strategies=['None','SmoteNC (K=5)','MGS-NC(mu)(5)(EmpCov)',\n",
    "                                         'MGS(mu)(d+1)(EmpCov) 1-NN','MGS(mu)(d+1)(EmpCov) 5-NN','MGS(mu)(d+1)(EmpCov) DRFsk classique (mtry=None)',],\n",
    "                             init_output_dir_path=\"../saved_experiments_categorial_features/sim_asso/2025/normal/dimension_\",\n",
    "                             init_name_file='2024-10-01-synthetic_', n_fold=1,n_iter=20)"
   ]
  },
  {
   "cell_type": "code",
   "execution_count": null,
   "id": "10",
   "metadata": {},
   "outputs": [],
   "source": [
    "plot_(df=df_res_mean,\n",
    "      df_std=df_res_std,\n",
    "      xlim=[0,205],ylim=[0.5,1.02],plot_error_fill=True,fontsize=20,\n",
    "     name_strats_to_plot =['None','SMOTE-NC','MGS-NC','MGS-1NN','MGS-5NN','MGS-GRF'],\n",
    "     title=\"\",to_save=True,name_file_saving='2025-images/sim1-corps.pdf')"
   ]
  },
  {
   "cell_type": "markdown",
   "id": "11",
   "metadata": {},
   "source": [
    "<center><h1  style=\"color:white; background-color:#808b96; border-radius: 10px; padding:15px;\"> Simulations 1 : Ecess Risk </h1></center>"
   ]
  },
  {
   "cell_type": "code",
   "execution_count": null,
   "id": "12",
   "metadata": {},
   "outputs": [],
   "source": [
    "from sklearn.model_selection import LeaveOneOut\n",
    "from sklearn.neighbors import KNeighborsClassifier\n",
    "from sklearn.dummy import DummyClassifier\n",
    "from oversampling_strategies.forest_for_categorical import DrfSk\n",
    "from data.simulated_data import generate_initial_data_onecat_2025_02_28\n",
    "import lightgbm as lgb"
   ]
  },
  {
   "cell_type": "code",
   "execution_count": null,
   "id": "13",
   "metadata": {},
   "outputs": [],
   "source": [
    "def compute_asso(X_train,y_train,clf):\n",
    "    X_train_minority = X_train[y_train == 1]\n",
    "    preds, gts = [], []\n",
    "    cv = LeaveOneOut()\n",
    "    for train, test in cv.split(X_train_minority):\n",
    "        clf.fit(X_train_minority[train, :-1].astype(float), X_train_minority[train, -1])\n",
    "        pred = clf.predict(X_train_minority[test, :-1].astype(float))\n",
    "        preds.append(pred[0])\n",
    "        gts.append(X_train_minority[test, -1][0])\n",
    "    gts = np.array(gts)\n",
    "    essai_preds = np.array(preds)\n",
    "    res = (gts == essai_preds).mean()\n",
    "    return res"
   ]
  },
  {
   "cell_type": "code",
   "execution_count": null,
   "id": "14",
   "metadata": {},
   "outputs": [],
   "source": [
    "def compute_asso_over_dimensions(\n",
    "    dimensions,init_output_dir_path,init_name_file,clf = None,n_iter=20,\n",
    "):\n",
    "    list_asso_final_mean = []\n",
    "    list_asso_final_std = []\n",
    "    list_acc_bayes = []\n",
    "    list_acc_bayes_std = []\n",
    "    list_bayes_diff_mean = []\n",
    "    list_bayes_diff_std = []\n",
    "    for i,dimension in enumerate(dimensions):           \n",
    "        list_asso_dim = []\n",
    "        list_acc_bayes_curr = []\n",
    "        ## Bayes classifier :\n",
    "        X_tilde, target_numeric_tilde, w_gauss_tilde = generate_initial_data_onecat_2025_02_28(dimension_continuous=dimension,n_samples=1000000,random_state=100+i)\n",
    "        X_minority_tilde = X_tilde[target_numeric_tilde == 1]\n",
    "        del X_tilde,target_numeric_tilde,w_gauss_tilde\n",
    "        clf_bayes = lgb.LGBMClassifier(verbosity=-1,n_jobs=5,random_state=0)\n",
    "        clf_bayes.fit(X_minority_tilde[:, :-1].astype(float), X_minority_tilde[:, -1])\n",
    "        for i in range(n_iter):\n",
    "            output_dir_path =init_output_dir_path  +str(dimension)\n",
    "            name_file = init_name_file + str(i) + \".npy\"\n",
    "            X_train = np.load(\n",
    "                os.path.join(output_dir_path, \"xtrain\" + name_file),allow_pickle=True,\n",
    "            )\n",
    "            y_train = np.load(\n",
    "                os.path.join(output_dir_path, \"ytrain\" + name_file),allow_pickle=True,\n",
    "            )\n",
    "            #X_test = np.load(\n",
    "            #    os.path.join(output_dir_path, \"xtest\" + name_file),allow_pickle=True,\n",
    "            #)\n",
    "            #oversample_strategies = np.load(os.path.join(output_dir_path, \"name_strats\" + name_file))\n",
    "            #predictions_by_strategy = np.load(os.path.join(output_dir_path, \"preds_\" + name_file))\n",
    "            #df_all = pd.DataFrame(predictions_by_strategy, columns=oversample_strategies)\n",
    "            #df_fold_0 = df_all[df_all[\"fold\"] == 0] # it's a train/test\n",
    "            #y_test = df_fold_0[['y_true']].to_numpy().ravel()\n",
    "            current_asso = compute_asso(X_train,y_train,clf)\n",
    "            list_asso_dim.append(current_asso)\n",
    "            #print(current_asso)\n",
    "\n",
    "            X_train_minority = X_train[y_train==1]\n",
    "            preds = clf_bayes.predict(X_train_minority[:, :-1].astype(float))\n",
    "            acc_bayes = (X_train_minority[:, -1] == np.array(preds)).mean()\n",
    "            list_acc_bayes_curr.append(acc_bayes)\n",
    "\n",
    "        print(\"End dim \",  dimension)\n",
    "        list_asso_final_mean.append(np.mean(list_asso_dim))\n",
    "        list_asso_final_std.append(np.std(list_asso_dim))\n",
    "        \n",
    "        list_acc_bayes.append(np.mean(list_acc_bayes_curr))\n",
    "        list_acc_bayes_std.append(np.std(list_acc_bayes_curr))\n",
    "        list_bayes_diff_mean.append(np.mean( np.array(list_acc_bayes_curr) -  np.array(list_asso_dim) ))\n",
    "        list_bayes_diff_std.append(np.std( np.array(list_acc_bayes_curr) -  np.array(list_asso_dim) ))\n",
    "        \n",
    "    print(list_acc_bayes)\n",
    "    return list_asso_final_mean, list_asso_final_std, list_acc_bayes,list_acc_bayes_std, list_bayes_diff_mean, list_bayes_diff_std"
   ]
  },
  {
   "cell_type": "code",
   "execution_count": null,
   "id": "15",
   "metadata": {},
   "outputs": [],
   "source": [
    "list_asso_final_mean_1nn, list_asso_final_std_1nn,list_acc_bayes_1nn,list_acc_bayes_1nn_std, list_bayes_diff_mean_1nn, list_bayes_diff_std_1nn = compute_asso_over_dimensions(\n",
    "    dimensions = [5,10,20,30,50,100,150,200],\n",
    "    init_output_dir_path=\"../saved_experiments_categorial_features/sim_asso/2025/normal/dimension_\",\n",
    "    init_name_file='2024-10-01-synthetic_',\n",
    "    clf = KNeighborsClassifier(n_neighbors=1),n_iter=20,\n",
    ")\n",
    "list_asso_final_mean_1nn"
   ]
  },
  {
   "cell_type": "code",
   "execution_count": null,
   "id": "16",
   "metadata": {},
   "outputs": [],
   "source": [
    "list_asso_final_mean_5nn, list_asso_final_std_5nn,list_acc_bayes_5nn,list_acc_bayes_5nn_std, list_bayes_diff_mean_5nn, list_bayes_diff_std_5nn = compute_asso_over_dimensions(\n",
    "    dimensions = [5,10,20,30,50,100,150,200],\n",
    "    init_output_dir_path=\"../saved_experiments_categorial_features/sim_asso/2025/normal/dimension_\",\n",
    "    init_name_file='2024-10-01-synthetic_',\n",
    "    clf = KNeighborsClassifier(n_neighbors=5)\n",
    ")"
   ]
  },
  {
   "cell_type": "code",
   "execution_count": null,
   "id": "17",
   "metadata": {},
   "outputs": [],
   "source": [
    "list_asso_final_mean_grf, list_asso_final_std_grf, list_acc_bayes_grf,list_acc_bayes_grf_std, list_bayes_diff_mean_grf, list_bayes_diff_std_grf = compute_asso_over_dimensions(\n",
    "    dimensions = [5,10,20,30,50,100,150,200], #\n",
    "    init_output_dir_path=\"../saved_experiments_categorial_features/sim_asso/2025/normal/dimension_\",\n",
    "    init_name_file='2024-10-01-synthetic_',\n",
    "    clf = DrfSk(random_state=1,max_features=None,n_jobs=12),n_iter=20,\n",
    ")"
   ]
  },
  {
   "cell_type": "code",
   "execution_count": null,
   "id": "18",
   "metadata": {},
   "outputs": [],
   "source": [
    "plt.figure(figsize=(12,8))\n",
    "dimensions = [5,10,20,30,50,100,150,200]\n",
    "list_fmt= ['o','v','^','s','*','8']\n",
    "\n",
    "#plt.errorbar(dimensions,list_asso_final_mean_dummy,\n",
    "#             yerr=list_asso_final_std_dummy,fmt=list_fmt[0], markersize=3,elinewidth=0.5, capsize=6,label=\"Random\"\n",
    "#            )\n",
    "plt.plot(dimensions, 1-np.array(list_bayes_diff_mean_1nn), marker=list_fmt[3],linestyle=\"--\", label=\"1NN\",c=\"#d62728\",\n",
    "            )\n",
    "plt.fill_between(dimensions,(1-np.array(list_bayes_diff_mean_1nn) )-np.array(list_bayes_diff_std_1nn),\n",
    "                 np.array((1-np.array(list_bayes_diff_mean_1nn) )+np.array(list_bayes_diff_std_1nn)),\n",
    "                 color=\"#d62728\", alpha=0.2)\n",
    "\n",
    "plt.plot(dimensions,1-np.array(list_bayes_diff_mean_5nn), marker=list_fmt[4],linestyle=\"--\", label=\"5NN\",c=\"#9467bd\",\n",
    "            )\n",
    "plt.fill_between(dimensions,(1-np.array(list_bayes_diff_mean_5nn) )-np.array(list_bayes_diff_std_5nn),\n",
    "                 (1-np.array(list_bayes_diff_mean_5nn) )+np.array(list_bayes_diff_std_5nn),\n",
    "                 color=\"#9467bd\", alpha=0.2)\n",
    "\n",
    "plt.plot(dimensions,1-np.array(list_bayes_diff_mean_grf), marker=list_fmt[5],linestyle=\"--\", label=\"GRF\",c=\"#8c564b\",\n",
    "            )\n",
    "plt.fill_between(dimensions,(1-np.array(list_bayes_diff_mean_grf) )-np.array(list_bayes_diff_std_grf),\n",
    "                 (1-np.array(list_bayes_diff_mean_grf) )+np.array(list_bayes_diff_std_grf),\n",
    "                 color=\"#9467bd\", alpha=0.2)\n",
    "\n",
    "\n",
    "plt.xlim([0,205])\n",
    "plt.ylim([0,1])\n",
    "plt.title(\"\",fontsize=20)\n",
    "plt.xlabel(\"Dimension\",fontsize=20)\n",
    "plt.ylabel(r\"$Asso$\",fontsize=20)\n",
    "#plt.legend(fontsize=fontsize)\n",
    "plt.legend(bbox_to_anchor =(0.5,-0.38),ncol=3, loc='lower center',fontsize=40)\n",
    "if True:\n",
    "    plt.savefig('sim1-corps-acc-final.pdf',bbox_inches='tight')\n",
    "plt.show()"
   ]
  },
  {
   "cell_type": "code",
   "execution_count": null,
   "id": "19",
   "metadata": {},
   "outputs": [],
   "source": []
  }
 ],
 "metadata": {
  "kernelspec": {
   "display_name": "Python 3 (ipykernel)",
   "language": "python",
   "name": "python3"
  },
  "language_info": {
   "codemirror_mode": {
    "name": "ipython",
    "version": 3
   },
   "file_extension": ".py",
   "mimetype": "text/x-python",
   "name": "python",
   "nbconvert_exporter": "python",
   "pygments_lexer": "ipython3",
   "version": "3.11.9"
  }
 },
 "nbformat": 4,
 "nbformat_minor": 5
}
