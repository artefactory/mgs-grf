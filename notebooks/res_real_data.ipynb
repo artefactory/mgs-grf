{
 "cells": [
  {
   "cell_type": "markdown",
   "id": "d23ef583",
   "metadata": {},
   "source": [
    "<center><h1  style=\"color:white; background-color:#000000; border-radius: 0px; padding:25px;\"> MGS-GRF </h1></center>"
   ]
  },
  {
   "cell_type": "markdown",
   "id": "290db701",
   "metadata": {},
   "source": [
    "This notebook produces the results on open source data sets.\n",
    "\n",
    "<ins>Experimented Datasets: </ins>\n",
    "- Bankmarketing\n",
    "- BankChurners\n",
    "\n",
    "All the sections of this notebook are independent. The user should run the following two introduction code chunk. Then one can choose a given data set section and run exclusively the chunks code of the selected section. "
   ]
  },
  {
   "cell_type": "code",
   "execution_count": 1,
   "id": "d3b46d90",
   "metadata": {},
   "outputs": [],
   "source": [
    "import os\n",
    "import sys\n",
    "sys.path.insert(1, os.path.abspath(os.path.join(os.getcwd(), os.pardir)))\n",
    "from pathlib import Path\n",
    "from collections import Counter\n",
    "\n",
    "\n",
    "import numpy as np\n",
    "import pandas as pd\n",
    "import matplotlib.pyplot as plt\n",
    "from sklearn.metrics import precision_score, recall_score, roc_auc_score,balanced_accuracy_score,average_precision_score\n",
    "\n",
    "from validation.classif_experiments import (compute_metrics_several_protocols,\n",
    "                                            prec_at_recall_version3, prec_at_recall_version3_02)"
   ]
  },
  {
   "cell_type": "markdown",
   "id": "9b1dc19d-93a5-4806-b3ef-5f0bdab7e3a9",
   "metadata": {},
   "source": [
    "## Utils :"
   ]
  },
  {
   "cell_type": "code",
   "execution_count": 2,
   "id": "17961aaf-88b8-4f69-9001-a2b447da8773",
   "metadata": {},
   "outputs": [],
   "source": [
    "list_metric = [\n",
    "    #(precision_score,'precision','pred'),\n",
    "    #(recall_score,'recall','pred'),\n",
    "    #(balanced_accuracy_score,'balanced acc','pred'),\n",
    "    (prec_at_recall_version3_02,'p@r=0.2','proba'),\n",
    "    (prec_at_recall_version3,'p@r=0.5','proba'),\n",
    "    (average_precision_score,'avg_pr_auc', 'proba'),\n",
    "    (roc_auc_score,'roc_auc','proba') \n",
    "]"
   ]
  },
  {
   "cell_type": "markdown",
   "id": "45bf2347",
   "metadata": {},
   "source": [
    "<center><h1  style=\"color:white; background-color:#808b96; border-radius: 10px; padding:15px;\"> Results </h1></center>"
   ]
  },
  {
   "cell_type": "markdown",
   "id": "d5471881-0bcf-4758-ae88-b13d2090d254",
   "metadata": {},
   "source": [
    "## Bankmarketing :"
   ]
  },
  {
   "cell_type": "code",
   "execution_count": 3,
   "id": "80bf5e88-ed59-4bb2-8f50-6d563e6cf29e",
   "metadata": {},
   "outputs": [
    {
     "ename": "FileNotFoundError",
     "evalue": "[Errno 2] No such file or directory: '../saved_experiments_categorial_features/BankMarketing/2025/lgbm/subsample_to_1/name_strats2024-11-30-lgbm_0.npy'",
     "output_type": "error",
     "traceback": [
      "\u001b[0;31m---------------------------------------------------------------------------\u001b[0m",
      "\u001b[0;31mFileNotFoundError\u001b[0m                         Traceback (most recent call last)",
      "Cell \u001b[0;32mIn[3], line 2\u001b[0m\n\u001b[1;32m      1\u001b[0m output_dir_path \u001b[38;5;241m=\u001b[39m  \u001b[38;5;124m\"\u001b[39m\u001b[38;5;124m../saved_experiments_categorial_features/BankMarketing/2025/lgbm/subsample_to_1\u001b[39m\u001b[38;5;124m\"\u001b[39m \u001b[38;5;66;03m## Fill it\u001b[39;00m\n\u001b[0;32m----> 2\u001b[0m df_final_mean_bankmark,df_final_std_bankmark \u001b[38;5;241m=\u001b[39m compute_metrics_several_protocols(\n\u001b[1;32m      3\u001b[0m     output_dir\u001b[38;5;241m=\u001b[39moutput_dir_path,\n\u001b[1;32m      4\u001b[0m     init_name_file\u001b[38;5;241m=\u001b[39m\u001b[38;5;124m'\u001b[39m\u001b[38;5;124m2024-11-30-lgbm_\u001b[39m\u001b[38;5;124m'\u001b[39m,\n\u001b[1;32m      5\u001b[0m     list_metric\u001b[38;5;241m=\u001b[39mlist_metric,\n\u001b[1;32m      6\u001b[0m     bool_roc_auc_only\u001b[38;5;241m=\u001b[39m\u001b[38;5;28;01mFalse\u001b[39;00m,n_iter\u001b[38;5;241m=\u001b[39m\u001b[38;5;241m20\u001b[39m)\n\u001b[1;32m      7\u001b[0m df_final_mean_bankmark\u001b[38;5;241m.\u001b[39mstyle\u001b[38;5;241m.\u001b[39mformat(precision\u001b[38;5;241m=\u001b[39m\u001b[38;5;241m3\u001b[39m)\u001b[38;5;241m.\u001b[39mhighlight_max(props\u001b[38;5;241m=\u001b[39m\u001b[38;5;124m'\u001b[39m\u001b[38;5;124mfont-weight:bold;color:#090E19\u001b[39m\u001b[38;5;124m'\u001b[39m, axis \u001b[38;5;241m=\u001b[39m \u001b[38;5;241m1\u001b[39m)\n",
      "File \u001b[0;32m~/S2/smote_strategies_study_categorical/validation/classif_experiments.py:474\u001b[0m, in \u001b[0;36mcompute_metrics_several_protocols\u001b[0;34m(output_dir, init_name_file, list_metric, std_by_fold, bool_roc_auc_only, n_iter, n_fold)\u001b[0m\n\u001b[1;32m    472\u001b[0m \u001b[38;5;28;01mfor\u001b[39;00m i \u001b[38;5;129;01min\u001b[39;00m \u001b[38;5;28mrange\u001b[39m(n_iter):\n\u001b[1;32m    473\u001b[0m     name_file \u001b[38;5;241m=\u001b[39m init_name_file \u001b[38;5;241m+\u001b[39m \u001b[38;5;28mstr\u001b[39m(i) \u001b[38;5;241m+\u001b[39m \u001b[38;5;124m\"\u001b[39m\u001b[38;5;124m.npy\u001b[39m\u001b[38;5;124m\"\u001b[39m\n\u001b[0;32m--> 474\u001b[0m     df_metrics_mean, df_metrics_std \u001b[38;5;241m=\u001b[39m compute_metrics(\n\u001b[1;32m    475\u001b[0m         output_dir\u001b[38;5;241m=\u001b[39moutput_dir,\n\u001b[1;32m    476\u001b[0m         name_file\u001b[38;5;241m=\u001b[39mname_file,\n\u001b[1;32m    477\u001b[0m         list_metric\u001b[38;5;241m=\u001b[39mlist_metric,\n\u001b[1;32m    478\u001b[0m         n_fold\u001b[38;5;241m=\u001b[39mn_fold,\n\u001b[1;32m    479\u001b[0m     )\n\u001b[1;32m    481\u001b[0m     list_res\u001b[38;5;241m.\u001b[39mappend(df_metrics_mean\u001b[38;5;241m.\u001b[39mto_numpy())\n\u001b[1;32m    483\u001b[0m name_cols \u001b[38;5;241m=\u001b[39m df_metrics_mean\u001b[38;5;241m.\u001b[39mcolumns\n",
      "File \u001b[0;32m~/S2/smote_strategies_study_categorical/validation/classif_experiments.py:374\u001b[0m, in \u001b[0;36mcompute_metrics\u001b[0;34m(output_dir, name_file, list_metric, n_fold)\u001b[0m\n\u001b[1;32m    372\u001b[0m \u001b[38;5;28;01mfor\u001b[39;00m m \u001b[38;5;129;01min\u001b[39;00m \u001b[38;5;28mrange\u001b[39m(n_metric):\n\u001b[1;32m    373\u001b[0m     metrics_names\u001b[38;5;241m.\u001b[39mappend(list_metric[m][\u001b[38;5;241m1\u001b[39m])\n\u001b[0;32m--> 374\u001b[0m oversample_strategies \u001b[38;5;241m=\u001b[39m np\u001b[38;5;241m.\u001b[39mload(os\u001b[38;5;241m.\u001b[39mpath\u001b[38;5;241m.\u001b[39mjoin(output_dir, \u001b[38;5;124m\"\u001b[39m\u001b[38;5;124mname_strats\u001b[39m\u001b[38;5;124m\"\u001b[39m \u001b[38;5;241m+\u001b[39m name_file))\n\u001b[1;32m    375\u001b[0m predictions_by_strategy \u001b[38;5;241m=\u001b[39m np\u001b[38;5;241m.\u001b[39mload(os\u001b[38;5;241m.\u001b[39mpath\u001b[38;5;241m.\u001b[39mjoin(output_dir, \u001b[38;5;124m\"\u001b[39m\u001b[38;5;124mpreds_\u001b[39m\u001b[38;5;124m\"\u001b[39m \u001b[38;5;241m+\u001b[39m name_file))\n\u001b[1;32m    376\u001b[0m df_all \u001b[38;5;241m=\u001b[39m pd\u001b[38;5;241m.\u001b[39mDataFrame(predictions_by_strategy, columns\u001b[38;5;241m=\u001b[39moversample_strategies)\n",
      "File \u001b[0;32m~/miniconda3/envs/dev_env/lib/python3.11/site-packages/numpy/lib/npyio.py:405\u001b[0m, in \u001b[0;36mload\u001b[0;34m(file, mmap_mode, allow_pickle, fix_imports, encoding, max_header_size)\u001b[0m\n\u001b[1;32m    403\u001b[0m     own_fid \u001b[38;5;241m=\u001b[39m \u001b[38;5;28;01mFalse\u001b[39;00m\n\u001b[1;32m    404\u001b[0m \u001b[38;5;28;01melse\u001b[39;00m:\n\u001b[0;32m--> 405\u001b[0m     fid \u001b[38;5;241m=\u001b[39m stack\u001b[38;5;241m.\u001b[39menter_context(\u001b[38;5;28mopen\u001b[39m(os_fspath(file), \u001b[38;5;124m\"\u001b[39m\u001b[38;5;124mrb\u001b[39m\u001b[38;5;124m\"\u001b[39m))\n\u001b[1;32m    406\u001b[0m     own_fid \u001b[38;5;241m=\u001b[39m \u001b[38;5;28;01mTrue\u001b[39;00m\n\u001b[1;32m    408\u001b[0m \u001b[38;5;66;03m# Code to distinguish from NumPy binary files and pickles.\u001b[39;00m\n",
      "\u001b[0;31mFileNotFoundError\u001b[0m: [Errno 2] No such file or directory: '../saved_experiments_categorial_features/BankMarketing/2025/lgbm/subsample_to_1/name_strats2024-11-30-lgbm_0.npy'"
     ]
    }
   ],
   "source": [
    "output_dir_path =  \"../saved_experiments_categorial_features/BankMarketing/2025/lgbm/subsample_to_1\" ## Fill it\n",
    "df_final_mean_bankmark,df_final_std_bankmark = compute_metrics_several_protocols(\n",
    "    output_dir=output_dir_path,\n",
    "    init_name_file='2024-11-30-lgbm_',\n",
    "    list_metric=list_metric,\n",
    "    bool_roc_auc_only=False,n_iter=20)\n",
    "df_final_mean_bankmark.style.format(precision=3).highlight_max(props='font-weight:bold;color:#090E19', axis = 1)"
   ]
  },
  {
   "cell_type": "code",
   "execution_count": null,
   "id": "21e8696f-8b9c-4df2-a9b1-bb30ca581ee0",
   "metadata": {},
   "outputs": [],
   "source": [
    "df_final_std_bankmark.style.format(precision=3).highlight_max(props='font-weight:bold;color:#090E19', axis = 1)"
   ]
  },
  {
   "cell_type": "markdown",
   "id": "81d6b113-e9f0-4904-ab52-a60b5b19187a",
   "metadata": {},
   "source": [
    "## BankChurners :"
   ]
  },
  {
   "cell_type": "code",
   "execution_count": null,
   "id": "816b0b1c-6d12-4df9-a7f5-5f1c0a506e52",
   "metadata": {},
   "outputs": [],
   "source": [
    "output_dir_path =  \"../saved_experiments_categorial_features/BankChurners/2025/subsample_to_1\" ## Fill it\n",
    "df_final_mean,df_final_std = compute_metrics_several_protocols(\n",
    "    output_dir=output_dir_path,\n",
    "    init_name_file='2024-11-30-lgbm_',\n",
    "    list_metric=list_metric,\n",
    "    bool_roc_auc_only=False,n_iter=20)\n",
    "df_final_mean.style.format(precision=3).highlight_max(props='font-weight:bold;color:#090E19', axis = 1)"
   ]
  },
  {
   "cell_type": "code",
   "execution_count": null,
   "id": "215a1230-66f5-4376-a49c-98b48b7ba313",
   "metadata": {},
   "outputs": [],
   "source": [
    "df_final_std.style.format(precision=3).highlight_max(props='font-weight:bold;color:#090E19', axis = 1)"
   ]
  },
  {
   "cell_type": "markdown",
   "id": "3faa831b-c653-4ada-a1f4-7f7de3810267",
   "metadata": {},
   "source": [
    "<center><h1  style=\"color:white; background-color:#808b96; border-radius: 10px; padding:15px;\"> Runing time </h1></center>"
   ]
  },
  {
   "cell_type": "code",
   "execution_count": 8,
   "id": "91778685-99e1-4af9-86e2-d2342b30fde0",
   "metadata": {},
   "outputs": [],
   "source": [
    "def average_runing_time(output_dir_path,init_name_file,n_iter=50):\n",
    "    df_final = pd.DataFrame()\n",
    "    for i in range(n_iter):\n",
    "        name_file = init_name_file + str(i) + \".csv\"\n",
    "        curr_df = pd.read_csv(os.path.join(output_dir_path, \"runtime\" + name_file))\n",
    "        df_final = pd.concat([df_final,curr_df],axis=0)\n",
    "    return df_final.reset_index(drop=True)"
   ]
  },
  {
   "cell_type": "code",
   "execution_count": null,
   "id": "5cf920fa-b03d-41c7-8b03-b4e47d0d819a",
   "metadata": {},
   "outputs": [],
   "source": [
    "df = average_runing_time(output_dir_path=\"../saved_experiments_categorial_features/BankMarketing/2025/subsample_to_1\",\n",
    "                    init_name_file=\"2024-11-30-lgbm_\",\n",
    "                    n_iter=20)\n",
    "df.mean(axis=0).to_frame().T.style.format(precision=3).highlight_max(props='font-weight:bold;color:#090E19', axis = 1)"
   ]
  },
  {
   "cell_type": "code",
   "execution_count": null,
   "id": "9c41edbf-6a56-4c0d-9466-ed26e05fdf88",
   "metadata": {},
   "outputs": [],
   "source": [
    "df.std(axis=0).to_frame().T.style.format(precision=3).highlight_max(props='font-weight:bold;color:#090E19', axis = 1)"
   ]
  },
  {
   "cell_type": "code",
   "execution_count": 9,
   "id": "bc7de57c-2f95-4e3d-9aca-ca9794f1cac8",
   "metadata": {},
   "outputs": [
    {
     "data": {
      "text/html": [
       "<style type=\"text/css\">\n",
       "#T_d65e9_row0_col8 {\n",
       "  font-weight: bold;\n",
       "  color: #090E19;\n",
       "}\n",
       "</style>\n",
       "<table id=\"T_d65e9\">\n",
       "  <thead>\n",
       "    <tr>\n",
       "      <th class=\"blank level0\" >&nbsp;</th>\n",
       "      <th id=\"T_d65e9_level0_col0\" class=\"col_heading level0 col0\" >Unnamed: 0</th>\n",
       "      <th id=\"T_d65e9_level0_col1\" class=\"col_heading level0 col1\" >None</th>\n",
       "      <th id=\"T_d65e9_level0_col2\" class=\"col_heading level0 col2\" >CW</th>\n",
       "      <th id=\"T_d65e9_level0_col3\" class=\"col_heading level0 col3\" >ROS</th>\n",
       "      <th id=\"T_d65e9_level0_col4\" class=\"col_heading level0 col4\" >RUS</th>\n",
       "      <th id=\"T_d65e9_level0_col5\" class=\"col_heading level0 col5\" >SmoteNC (K=5)</th>\n",
       "      <th id=\"T_d65e9_level0_col6\" class=\"col_heading level0 col6\" >MGS(mu)(d+1)(EmpCov) 1-NN</th>\n",
       "      <th id=\"T_d65e9_level0_col7\" class=\"col_heading level0 col7\" >MGS(mu)(d+1)(EmpCov) 5-NN</th>\n",
       "      <th id=\"T_d65e9_level0_col8\" class=\"col_heading level0 col8\" >MGS-NC(mu)(d+1)(EmpCov)</th>\n",
       "      <th id=\"T_d65e9_level0_col9\" class=\"col_heading level0 col9\" >MGS(mu)(d+1)(EmpCov) DRFsk classique (mtry=def=sqrt)</th>\n",
       "    </tr>\n",
       "  </thead>\n",
       "  <tbody>\n",
       "    <tr>\n",
       "      <th id=\"T_d65e9_level0_row0\" class=\"row_heading level0 row0\" >0</th>\n",
       "      <td id=\"T_d65e9_row0_col0\" class=\"data row0 col0\" >0.000</td>\n",
       "      <td id=\"T_d65e9_row0_col1\" class=\"data row0 col1\" >0.113</td>\n",
       "      <td id=\"T_d65e9_row0_col2\" class=\"data row0 col2\" >0.115</td>\n",
       "      <td id=\"T_d65e9_row0_col3\" class=\"data row0 col3\" >0.169</td>\n",
       "      <td id=\"T_d65e9_row0_col4\" class=\"data row0 col4\" >0.014</td>\n",
       "      <td id=\"T_d65e9_row0_col5\" class=\"data row0 col5\" >0.446</td>\n",
       "      <td id=\"T_d65e9_row0_col6\" class=\"data row0 col6\" >0.832</td>\n",
       "      <td id=\"T_d65e9_row0_col7\" class=\"data row0 col7\" >0.867</td>\n",
       "      <td id=\"T_d65e9_row0_col8\" class=\"data row0 col8\" >1.825</td>\n",
       "      <td id=\"T_d65e9_row0_col9\" class=\"data row0 col9\" >0.513</td>\n",
       "    </tr>\n",
       "  </tbody>\n",
       "</table>\n"
      ],
      "text/plain": [
       "<pandas.io.formats.style.Styler at 0x736f87a7c450>"
      ]
     },
     "execution_count": 9,
     "metadata": {},
     "output_type": "execute_result"
    }
   ],
   "source": [
    "df = average_runing_time(output_dir_path=\"../saved_experiments_categorial_features/BankChurners/2025/subsample_to_1\",\n",
    "                    init_name_file=\"2024-11-30-lgbm_\",\n",
    "                    n_iter=20)\n",
    "df.mean(axis=0).to_frame().T.style.format(precision=3).highlight_max(props='font-weight:bold;color:#090E19', axis = 1)"
   ]
  },
  {
   "cell_type": "code",
   "execution_count": 10,
   "id": "77d1cc89-cd06-4836-a7b5-d848c60a73b0",
   "metadata": {},
   "outputs": [
    {
     "data": {
      "text/html": [
       "<style type=\"text/css\">\n",
       "#T_81d40_row0_col8 {\n",
       "  font-weight: bold;\n",
       "  color: #090E19;\n",
       "}\n",
       "</style>\n",
       "<table id=\"T_81d40\">\n",
       "  <thead>\n",
       "    <tr>\n",
       "      <th class=\"blank level0\" >&nbsp;</th>\n",
       "      <th id=\"T_81d40_level0_col0\" class=\"col_heading level0 col0\" >Unnamed: 0</th>\n",
       "      <th id=\"T_81d40_level0_col1\" class=\"col_heading level0 col1\" >None</th>\n",
       "      <th id=\"T_81d40_level0_col2\" class=\"col_heading level0 col2\" >CW</th>\n",
       "      <th id=\"T_81d40_level0_col3\" class=\"col_heading level0 col3\" >ROS</th>\n",
       "      <th id=\"T_81d40_level0_col4\" class=\"col_heading level0 col4\" >RUS</th>\n",
       "      <th id=\"T_81d40_level0_col5\" class=\"col_heading level0 col5\" >SmoteNC (K=5)</th>\n",
       "      <th id=\"T_81d40_level0_col6\" class=\"col_heading level0 col6\" >MGS(mu)(d+1)(EmpCov) 1-NN</th>\n",
       "      <th id=\"T_81d40_level0_col7\" class=\"col_heading level0 col7\" >MGS(mu)(d+1)(EmpCov) 5-NN</th>\n",
       "      <th id=\"T_81d40_level0_col8\" class=\"col_heading level0 col8\" >MGS-NC(mu)(d+1)(EmpCov)</th>\n",
       "      <th id=\"T_81d40_level0_col9\" class=\"col_heading level0 col9\" >MGS(mu)(d+1)(EmpCov) DRFsk classique (mtry=def=sqrt)</th>\n",
       "    </tr>\n",
       "  </thead>\n",
       "  <tbody>\n",
       "    <tr>\n",
       "      <th id=\"T_81d40_level0_row0\" class=\"row_heading level0 row0\" >0</th>\n",
       "      <td id=\"T_81d40_row0_col0\" class=\"data row0 col0\" >0.000</td>\n",
       "      <td id=\"T_81d40_row0_col1\" class=\"data row0 col1\" >0.005</td>\n",
       "      <td id=\"T_81d40_row0_col2\" class=\"data row0 col2\" >0.005</td>\n",
       "      <td id=\"T_81d40_row0_col3\" class=\"data row0 col3\" >0.010</td>\n",
       "      <td id=\"T_81d40_row0_col4\" class=\"data row0 col4\" >0.001</td>\n",
       "      <td id=\"T_81d40_row0_col5\" class=\"data row0 col5\" >0.015</td>\n",
       "      <td id=\"T_81d40_row0_col6\" class=\"data row0 col6\" >0.016</td>\n",
       "      <td id=\"T_81d40_row0_col7\" class=\"data row0 col7\" >0.018</td>\n",
       "      <td id=\"T_81d40_row0_col8\" class=\"data row0 col8\" >0.056</td>\n",
       "      <td id=\"T_81d40_row0_col9\" class=\"data row0 col9\" >0.017</td>\n",
       "    </tr>\n",
       "  </tbody>\n",
       "</table>\n"
      ],
      "text/plain": [
       "<pandas.io.formats.style.Styler at 0x736f880aa9d0>"
      ]
     },
     "execution_count": 10,
     "metadata": {},
     "output_type": "execute_result"
    }
   ],
   "source": [
    "df.std(axis=0).to_frame().T.style.format(precision=3).highlight_max(props='font-weight:bold;color:#090E19', axis = 1)"
   ]
  },
  {
   "cell_type": "code",
   "execution_count": null,
   "id": "5e4891c5-d7b1-4065-b8c8-d8700e2d4542",
   "metadata": {},
   "outputs": [],
   "source": []
  },
  {
   "cell_type": "code",
   "execution_count": null,
   "id": "854eca6f-2425-49d3-9fc5-713d05de69c5",
   "metadata": {},
   "outputs": [],
   "source": []
  }
 ],
 "metadata": {
  "kernelspec": {
   "display_name": "Python 3 (ipykernel)",
   "language": "python",
   "name": "python3"
  },
  "language_info": {
   "codemirror_mode": {
    "name": "ipython",
    "version": 3
   },
   "file_extension": ".py",
   "mimetype": "text/x-python",
   "name": "python",
   "nbconvert_exporter": "python",
   "pygments_lexer": "ipython3",
   "version": "3.11.9"
  }
 },
 "nbformat": 4,
 "nbformat_minor": 5
}
