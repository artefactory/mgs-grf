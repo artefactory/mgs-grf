{
 "cells": [
  {
   "cell_type": "markdown",
   "id": "d23ef583",
   "metadata": {},
   "source": [
    "<center><h1  style=\"color:white; background-color:#000000; border-radius: 0px; padding:25px;\"> MGS-GRF </h1></center>"
   ]
  },
  {
   "cell_type": "markdown",
   "id": "290db701",
   "metadata": {},
   "source": [
    "This notebook produces the results on open source data sets.\n",
    "\n",
    "<ins>Experimented Datasets: </ins>\n",
    "- Bankmarketing\n",
    "- BankChurners\n",
    "\n",
    "All the sections of this notebook are independent. The user should run the following two introduction code chunk. Then one can choose a given data set section and run exclusively the chunks code of the selected section. "
   ]
  },
  {
   "cell_type": "code",
   "execution_count": null,
   "id": "d3b46d90",
   "metadata": {},
   "outputs": [],
   "source": [
    "import os\n",
    "import sys\n",
    "sys.path.insert(1, os.path.abspath(os.path.join(os.getcwd(), os.pardir)))\n",
    "from pathlib import Path\n",
    "from collections import Counter\n",
    "\n",
    "\n",
    "import numpy as np\n",
    "import pandas as pd\n",
    "import matplotlib.pyplot as plt\n",
    "from sklearn.metrics import precision_score, recall_score, roc_auc_score,balanced_accuracy_score,average_precision_score\n",
    "\n",
    "from validation.classif_experiments import (compute_metrics_several_protocols,\n",
    "                                            prec_at_recall_version3, prec_at_recall_version3_02)"
   ]
  },
  {
   "cell_type": "markdown",
   "id": "9b1dc19d-93a5-4806-b3ef-5f0bdab7e3a9",
   "metadata": {},
   "source": [
    "## Utils :"
   ]
  },
  {
   "cell_type": "code",
   "execution_count": null,
   "id": "17961aaf-88b8-4f69-9001-a2b447da8773",
   "metadata": {},
   "outputs": [],
   "source": [
    "list_metric = [\n",
    "    #(precision_score,'precision','pred'),\n",
    "    #(recall_score,'recall','pred'),\n",
    "    #(balanced_accuracy_score,'balanced acc','pred'),\n",
    "    (prec_at_recall_version3_02,'p@r=0.2','proba'),\n",
    "    (prec_at_recall_version3,'p@r=0.5','proba'),\n",
    "    (average_precision_score,'avg_pr_auc', 'proba'),\n",
    "    (roc_auc_score,'roc_auc','proba') \n",
    "]"
   ]
  },
  {
   "cell_type": "markdown",
   "id": "45bf2347",
   "metadata": {},
   "source": [
    "<center><h1  style=\"color:white; background-color:#808b96; border-radius: 10px; padding:15px;\"> Results </h1></center>"
   ]
  },
  {
   "cell_type": "markdown",
   "id": "d5471881-0bcf-4758-ae88-b13d2090d254",
   "metadata": {},
   "source": [
    "## Bankmarketing :"
   ]
  },
  {
   "cell_type": "code",
   "execution_count": null,
   "id": "80bf5e88-ed59-4bb2-8f50-6d563e6cf29e",
   "metadata": {},
   "outputs": [],
   "source": [
    "output_dir_path =  \"../saved_experiments_categorial_features/2024-06-19_BankMarketing/2025/lgbm/data-runtimev2/subsample_to_1\" ## Fill it\n",
    "df_final_mean_bankmark,df_final_std_bankmark = compute_metrics_several_protocols(\n",
    "    output_dir=output_dir_path,\n",
    "    init_name_file='2024-11-30-lgbm_',\n",
    "    list_metric=list_metric,\n",
    "    bool_roc_auc_only=False,n_iter=20)\n",
    "df_final_mean_bankmark.style.format(precision=3).highlight_max(props='font-weight:bold;color:#090E19', axis = 1)"
   ]
  },
  {
   "cell_type": "code",
   "execution_count": null,
   "id": "21e8696f-8b9c-4df2-a9b1-bb30ca581ee0",
   "metadata": {},
   "outputs": [],
   "source": [
    "df_final_std_bankmark.style.format(precision=3).highlight_max(props='font-weight:bold;color:#090E19', axis = 1)"
   ]
  },
  {
   "cell_type": "markdown",
   "id": "81d6b113-e9f0-4904-ab52-a60b5b19187a",
   "metadata": {},
   "source": [
    "## BankChurners :"
   ]
  },
  {
   "cell_type": "code",
   "execution_count": null,
   "id": "816b0b1c-6d12-4df9-a7f5-5f1c0a506e52",
   "metadata": {},
   "outputs": [],
   "source": [
    "output_dir_path =  \"../saved_experiments_categorial_features/2024-06-19_BankChurners/2025/lgbm/data-runtimev2/subsample_to_1\" ## Fill it\n",
    "df_final_mean,df_final_std = compute_metrics_several_protocols(\n",
    "    output_dir=output_dir_path,\n",
    "    init_name_file='2024-11-30-lgbm_',\n",
    "    list_metric=list_metric,\n",
    "    bool_roc_auc_only=False,n_iter=20)\n",
    "df_final_mean.style.format(precision=3).highlight_max(props='font-weight:bold;color:#090E19', axis = 1)"
   ]
  },
  {
   "cell_type": "code",
   "execution_count": null,
   "id": "215a1230-66f5-4376-a49c-98b48b7ba313",
   "metadata": {},
   "outputs": [],
   "source": [
    "df_final_std.style.format(precision=3).highlight_max(props='font-weight:bold;color:#090E19', axis = 1)"
   ]
  },
  {
   "cell_type": "markdown",
   "id": "3faa831b-c653-4ada-a1f4-7f7de3810267",
   "metadata": {},
   "source": [
    "<center><h1  style=\"color:white; background-color:#808b96; border-radius: 10px; padding:15px;\"> Runing time </h1></center>"
   ]
  },
  {
   "cell_type": "code",
   "execution_count": null,
   "id": "91778685-99e1-4af9-86e2-d2342b30fde0",
   "metadata": {},
   "outputs": [],
   "source": [
    "def average_runing_time(output_dir_path,init_name_file,n_iter=50):\n",
    "    df_final = pd.DataFrame()\n",
    "    for i in range(n_iter):\n",
    "        name_file = init_name_file + str(i) + \".csv\"\n",
    "        curr_df = pd.read_csv(os.path.join(output_dir_path, \"runtime\" + name_file))\n",
    "        df_final = pd.concat([df_final,curr_df],axis=0)\n",
    "    return df_final.reset_index(drop=True)"
   ]
  },
  {
   "cell_type": "code",
   "execution_count": null,
   "id": "5cf920fa-b03d-41c7-8b03-b4e47d0d819a",
   "metadata": {},
   "outputs": [],
   "source": [
    "df = average_runing_time(output_dir_path=\"../saved_experiments_categorial_features/2024-06-19_BankMarketing/2025/lgbm1000/subsample_to_1\",\n",
    "                    init_name_file=\"2024-11-30-lgbm_\",\n",
    "                    n_iter=20)\n",
    "df.mean(axis=0).to_frame().T.style.format(precision=3).highlight_max(props='font-weight:bold;color:#090E19', axis = 1)"
   ]
  },
  {
   "cell_type": "code",
   "execution_count": null,
   "id": "9c41edbf-6a56-4c0d-9466-ed26e05fdf88",
   "metadata": {},
   "outputs": [],
   "source": [
    "df.std(axis=0).to_frame().T.style.format(precision=3).highlight_max(props='font-weight:bold;color:#090E19', axis = 1)"
   ]
  },
  {
   "cell_type": "code",
   "execution_count": null,
   "id": "bc7de57c-2f95-4e3d-9aca-ca9794f1cac8",
   "metadata": {},
   "outputs": [],
   "source": [
    "df = average_runing_time(output_dir_path=\"../saved_experiments_categorial_features/2024-06-19_BankChurners/2025/lgbm1000/subsample_to_1\",\n",
    "                    init_name_file=\"2024-11-30-lgbm_\",\n",
    "                    n_iter=20)\n",
    "df.mean(axis=0).to_frame().T.style.format(precision=3).highlight_max(props='font-weight:bold;color:#090E19', axis = 1)"
   ]
  },
  {
   "cell_type": "code",
   "execution_count": null,
   "id": "77d1cc89-cd06-4836-a7b5-d848c60a73b0",
   "metadata": {},
   "outputs": [],
   "source": [
    "df.std(axis=0).to_frame().T.style.format(precision=3).highlight_max(props='font-weight:bold;color:#090E19', axis = 1)"
   ]
  },
  {
   "cell_type": "code",
   "execution_count": null,
   "id": "5e4891c5-d7b1-4065-b8c8-d8700e2d4542",
   "metadata": {},
   "outputs": [],
   "source": []
  },
  {
   "cell_type": "code",
   "execution_count": null,
   "id": "854eca6f-2425-49d3-9fc5-713d05de69c5",
   "metadata": {},
   "outputs": [],
   "source": []
  }
 ],
 "metadata": {
  "kernelspec": {
   "display_name": "Python 3 (ipykernel)",
   "language": "python",
   "name": "python3"
  },
  "language_info": {
   "codemirror_mode": {
    "name": "ipython",
    "version": 3
   },
   "file_extension": ".py",
   "mimetype": "text/x-python",
   "name": "python",
   "nbconvert_exporter": "python",
   "pygments_lexer": "ipython3",
   "version": "3.11.9"
  }
 },
 "nbformat": 4,
 "nbformat_minor": 5
}
