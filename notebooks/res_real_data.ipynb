{
 "cells": [
  {
   "cell_type": "markdown",
   "id": "d23ef583",
   "metadata": {},
   "source": [
    "<center><h1  style=\"color:white; background-color:#000000; border-radius: 0px; padding:25px;\"> MGS-GRF </h1></center>"
   ]
  },
  {
   "cell_type": "markdown",
   "id": "290db701",
   "metadata": {},
   "source": [
    "This notebook produces the results on open source data sets.\n",
    "\n",
    "<ins>Experimented Datasets: </ins>\n",
    "- Bankmarketing\n",
    "- BankChurners\n",
    "\n",
    "All the sections of this notebook are independent. The user should run the following two introduction code chunk. Then one can choose a given data set section and run exclusively the chunks code of the selected section. "
   ]
  },
  {
   "cell_type": "code",
   "execution_count": 2,
   "id": "d3b46d90",
   "metadata": {},
   "outputs": [],
   "source": [
    "import os\n",
    "import sys\n",
    "sys.path.insert(1, os.path.abspath(os.path.join(os.getcwd(), os.pardir)))\n",
    "from pathlib import Path\n",
    "from collections import Counter\n",
    "\n",
    "\n",
    "import numpy as np\n",
    "import pandas as pd\n",
    "import matplotlib.pyplot as plt\n",
    "from sklearn.metrics import precision_score, recall_score, roc_auc_score,balanced_accuracy_score,average_precision_score\n",
    "\n",
    "from validation.classif_experiments import (compute_metrics_several_protocols,\n",
    "                                            prec_at_recall_version3, prec_at_recall_version3_02)"
   ]
  },
  {
   "cell_type": "markdown",
   "id": "9b1dc19d-93a5-4806-b3ef-5f0bdab7e3a9",
   "metadata": {},
   "source": [
    "## Utils :"
   ]
  },
  {
   "cell_type": "code",
   "execution_count": 4,
   "id": "17961aaf-88b8-4f69-9001-a2b447da8773",
   "metadata": {},
   "outputs": [],
   "source": [
    "list_metric = [\n",
    "    #(precision_score,'precision','pred'),\n",
    "    #(recall_score,'recall','pred'),\n",
    "    #(balanced_accuracy_score,'balanced acc','pred'),\n",
    "    (prec_at_recall_version3_02,'p@r=0.2','proba'),\n",
    "    (prec_at_recall_version3,'p@r=0.5','proba'),\n",
    "    (average_precision_score,'avg_pr_auc', 'proba'),\n",
    "    (roc_auc_score,'roc_auc','proba') \n",
    "]"
   ]
  },
  {
   "cell_type": "markdown",
   "id": "45bf2347",
   "metadata": {},
   "source": [
    "<center><h1  style=\"color:white; background-color:#808b96; border-radius: 10px; padding:15px;\"> Results </h1></center>"
   ]
  },
  {
   "cell_type": "markdown",
   "id": "d5471881-0bcf-4758-ae88-b13d2090d254",
   "metadata": {},
   "source": [
    "## Bankmarketing :"
   ]
  },
  {
   "cell_type": "code",
   "execution_count": 30,
   "id": "80bf5e88-ed59-4bb2-8f50-6d563e6cf29e",
   "metadata": {},
   "outputs": [
    {
     "data": {
      "text/html": [
       "<style type=\"text/css\">\n",
       "#T_63cff_row0_col9, #T_63cff_row1_col5, #T_63cff_row2_col9, #T_63cff_row3_col5 {\n",
       "  font-weight: bold;\n",
       "  color: #090E19;\n",
       "}\n",
       "</style>\n",
       "<table id=\"T_63cff\">\n",
       "  <thead>\n",
       "    <tr>\n",
       "      <th class=\"blank level0\" >&nbsp;</th>\n",
       "      <th id=\"T_63cff_level0_col0\" class=\"col_heading level0 col0\" >None</th>\n",
       "      <th id=\"T_63cff_level0_col1\" class=\"col_heading level0 col1\" >CW</th>\n",
       "      <th id=\"T_63cff_level0_col2\" class=\"col_heading level0 col2\" >ROS</th>\n",
       "      <th id=\"T_63cff_level0_col3\" class=\"col_heading level0 col3\" >RUS</th>\n",
       "      <th id=\"T_63cff_level0_col4\" class=\"col_heading level0 col4\" >SmoteNC (K=5)</th>\n",
       "      <th id=\"T_63cff_level0_col5\" class=\"col_heading level0 col5\" >MGS(mu)(d+1)(EmpCov) 1-NN</th>\n",
       "      <th id=\"T_63cff_level0_col6\" class=\"col_heading level0 col6\" >MGS(mu)(d+1)(EmpCov) 5-NN</th>\n",
       "      <th id=\"T_63cff_level0_col7\" class=\"col_heading level0 col7\" >MGS-NC(mu)(5)(EmpCov)</th>\n",
       "      <th id=\"T_63cff_level0_col8\" class=\"col_heading level0 col8\" >MGS-NC(mu)(d+1)(EmpCov)</th>\n",
       "      <th id=\"T_63cff_level0_col9\" class=\"col_heading level0 col9\" >MGS(mu)(d+1)(EmpCov) DRFsk classique (mtry=def=sqrt)</th>\n",
       "    </tr>\n",
       "  </thead>\n",
       "  <tbody>\n",
       "    <tr>\n",
       "      <th id=\"T_63cff_level0_row0\" class=\"row_heading level0 row0\" >p@r=0.2</th>\n",
       "      <td id=\"T_63cff_row0_col0\" class=\"data row0 col0\" >0.119</td>\n",
       "      <td id=\"T_63cff_row0_col1\" class=\"data row0 col1\" >0.118</td>\n",
       "      <td id=\"T_63cff_row0_col2\" class=\"data row0 col2\" >0.115</td>\n",
       "      <td id=\"T_63cff_row0_col3\" class=\"data row0 col3\" >0.106</td>\n",
       "      <td id=\"T_63cff_row0_col4\" class=\"data row0 col4\" >0.093</td>\n",
       "      <td id=\"T_63cff_row0_col5\" class=\"data row0 col5\" >0.128</td>\n",
       "      <td id=\"T_63cff_row0_col6\" class=\"data row0 col6\" >0.126</td>\n",
       "      <td id=\"T_63cff_row0_col7\" class=\"data row0 col7\" >0.127</td>\n",
       "      <td id=\"T_63cff_row0_col8\" class=\"data row0 col8\" >0.128</td>\n",
       "      <td id=\"T_63cff_row0_col9\" class=\"data row0 col9\" >0.129</td>\n",
       "    </tr>\n",
       "    <tr>\n",
       "      <th id=\"T_63cff_level0_row1\" class=\"row_heading level0 row1\" >p@r=0.5</th>\n",
       "      <td id=\"T_63cff_row1_col0\" class=\"data row1 col0\" >0.084</td>\n",
       "      <td id=\"T_63cff_row1_col1\" class=\"data row1 col1\" >0.079</td>\n",
       "      <td id=\"T_63cff_row1_col2\" class=\"data row1 col2\" >0.078</td>\n",
       "      <td id=\"T_63cff_row1_col3\" class=\"data row1 col3\" >0.071</td>\n",
       "      <td id=\"T_63cff_row1_col4\" class=\"data row1 col4\" >0.063</td>\n",
       "      <td id=\"T_63cff_row1_col5\" class=\"data row1 col5\" >0.093</td>\n",
       "      <td id=\"T_63cff_row1_col6\" class=\"data row1 col6\" >0.092</td>\n",
       "      <td id=\"T_63cff_row1_col7\" class=\"data row1 col7\" >0.092</td>\n",
       "      <td id=\"T_63cff_row1_col8\" class=\"data row1 col8\" >0.090</td>\n",
       "      <td id=\"T_63cff_row1_col9\" class=\"data row1 col9\" >0.093</td>\n",
       "    </tr>\n",
       "    <tr>\n",
       "      <th id=\"T_63cff_level0_row2\" class=\"row_heading level0 row2\" >avg_pr_auc</th>\n",
       "      <td id=\"T_63cff_row2_col0\" class=\"data row2 col0\" >0.092</td>\n",
       "      <td id=\"T_63cff_row2_col1\" class=\"data row2 col1\" >0.090</td>\n",
       "      <td id=\"T_63cff_row2_col2\" class=\"data row2 col2\" >0.090</td>\n",
       "      <td id=\"T_63cff_row2_col3\" class=\"data row2 col3\" >0.082</td>\n",
       "      <td id=\"T_63cff_row2_col4\" class=\"data row2 col4\" >0.076</td>\n",
       "      <td id=\"T_63cff_row2_col5\" class=\"data row2 col5\" >0.098</td>\n",
       "      <td id=\"T_63cff_row2_col6\" class=\"data row2 col6\" >0.099</td>\n",
       "      <td id=\"T_63cff_row2_col7\" class=\"data row2 col7\" >0.099</td>\n",
       "      <td id=\"T_63cff_row2_col8\" class=\"data row2 col8\" >0.099</td>\n",
       "      <td id=\"T_63cff_row2_col9\" class=\"data row2 col9\" >0.100</td>\n",
       "    </tr>\n",
       "    <tr>\n",
       "      <th id=\"T_63cff_level0_row3\" class=\"row_heading level0 row3\" >roc_auc</th>\n",
       "      <td id=\"T_63cff_row3_col0\" class=\"data row3 col0\" >0.890</td>\n",
       "      <td id=\"T_63cff_row3_col1\" class=\"data row3 col1\" >0.882</td>\n",
       "      <td id=\"T_63cff_row3_col2\" class=\"data row3 col2\" >0.878</td>\n",
       "      <td id=\"T_63cff_row3_col3\" class=\"data row3 col3\" >0.881</td>\n",
       "      <td id=\"T_63cff_row3_col4\" class=\"data row3 col4\" >0.861</td>\n",
       "      <td id=\"T_63cff_row3_col5\" class=\"data row3 col5\" >0.899</td>\n",
       "      <td id=\"T_63cff_row3_col6\" class=\"data row3 col6\" >0.899</td>\n",
       "      <td id=\"T_63cff_row3_col7\" class=\"data row3 col7\" >0.899</td>\n",
       "      <td id=\"T_63cff_row3_col8\" class=\"data row3 col8\" >0.899</td>\n",
       "      <td id=\"T_63cff_row3_col9\" class=\"data row3 col9\" >0.899</td>\n",
       "    </tr>\n",
       "  </tbody>\n",
       "</table>\n"
      ],
      "text/plain": [
       "<pandas.io.formats.style.Styler at 0x7f55f031f890>"
      ]
     },
     "execution_count": 30,
     "metadata": {},
     "output_type": "execute_result"
    }
   ],
   "source": [
    "output_dir_path =  \"../saved_experiments_categorial_features/2024-06-19_BankMarketing/2025/lgbm/data-runtimev2/subsample_to_1\" ## Fill it\n",
    "df_final_mean_bankmark,df_final_std_bankmark = compute_metrics_several_protocols(\n",
    "    output_dir=output_dir_path,\n",
    "    init_name_file='2024-11-30-lgbm_',\n",
    "    list_metric=list_metric,\n",
    "    bool_roc_auc_only=False,n_iter=20)\n",
    "df_final_mean_bankmark.style.format(precision=3).highlight_max(props='font-weight:bold;color:#090E19', axis = 1)"
   ]
  },
  {
   "cell_type": "code",
   "execution_count": 31,
   "id": "21e8696f-8b9c-4df2-a9b1-bb30ca581ee0",
   "metadata": {},
   "outputs": [
    {
     "data": {
      "text/html": [
       "<style type=\"text/css\">\n",
       "#T_1587e_row0_col8, #T_1587e_row1_col0, #T_1587e_row2_col0, #T_1587e_row3_col4 {\n",
       "  font-weight: bold;\n",
       "  color: #090E19;\n",
       "}\n",
       "</style>\n",
       "<table id=\"T_1587e\">\n",
       "  <thead>\n",
       "    <tr>\n",
       "      <th class=\"blank level0\" >&nbsp;</th>\n",
       "      <th id=\"T_1587e_level0_col0\" class=\"col_heading level0 col0\" >None</th>\n",
       "      <th id=\"T_1587e_level0_col1\" class=\"col_heading level0 col1\" >CW</th>\n",
       "      <th id=\"T_1587e_level0_col2\" class=\"col_heading level0 col2\" >ROS</th>\n",
       "      <th id=\"T_1587e_level0_col3\" class=\"col_heading level0 col3\" >RUS</th>\n",
       "      <th id=\"T_1587e_level0_col4\" class=\"col_heading level0 col4\" >SmoteNC (K=5)</th>\n",
       "      <th id=\"T_1587e_level0_col5\" class=\"col_heading level0 col5\" >MGS(mu)(d+1)(EmpCov) 1-NN</th>\n",
       "      <th id=\"T_1587e_level0_col6\" class=\"col_heading level0 col6\" >MGS(mu)(d+1)(EmpCov) 5-NN</th>\n",
       "      <th id=\"T_1587e_level0_col7\" class=\"col_heading level0 col7\" >MGS-NC(mu)(5)(EmpCov)</th>\n",
       "      <th id=\"T_1587e_level0_col8\" class=\"col_heading level0 col8\" >MGS-NC(mu)(d+1)(EmpCov)</th>\n",
       "      <th id=\"T_1587e_level0_col9\" class=\"col_heading level0 col9\" >MGS(mu)(d+1)(EmpCov) DRFsk classique (mtry=def=sqrt)</th>\n",
       "    </tr>\n",
       "  </thead>\n",
       "  <tbody>\n",
       "    <tr>\n",
       "      <th id=\"T_1587e_level0_row0\" class=\"row_heading level0 row0\" >p@r=0.2</th>\n",
       "      <td id=\"T_1587e_row0_col0\" class=\"data row0 col0\" >0.009</td>\n",
       "      <td id=\"T_1587e_row0_col1\" class=\"data row0 col1\" >0.009</td>\n",
       "      <td id=\"T_1587e_row0_col2\" class=\"data row0 col2\" >0.011</td>\n",
       "      <td id=\"T_1587e_row0_col3\" class=\"data row0 col3\" >0.012</td>\n",
       "      <td id=\"T_1587e_row0_col4\" class=\"data row0 col4\" >0.007</td>\n",
       "      <td id=\"T_1587e_row0_col5\" class=\"data row0 col5\" >0.012</td>\n",
       "      <td id=\"T_1587e_row0_col6\" class=\"data row0 col6\" >0.008</td>\n",
       "      <td id=\"T_1587e_row0_col7\" class=\"data row0 col7\" >0.010</td>\n",
       "      <td id=\"T_1587e_row0_col8\" class=\"data row0 col8\" >0.014</td>\n",
       "      <td id=\"T_1587e_row0_col9\" class=\"data row0 col9\" >0.011</td>\n",
       "    </tr>\n",
       "    <tr>\n",
       "      <th id=\"T_1587e_level0_row1\" class=\"row_heading level0 row1\" >p@r=0.5</th>\n",
       "      <td id=\"T_1587e_row1_col0\" class=\"data row1 col0\" >0.006</td>\n",
       "      <td id=\"T_1587e_row1_col1\" class=\"data row1 col1\" >0.005</td>\n",
       "      <td id=\"T_1587e_row1_col2\" class=\"data row1 col2\" >0.004</td>\n",
       "      <td id=\"T_1587e_row1_col3\" class=\"data row1 col3\" >0.004</td>\n",
       "      <td id=\"T_1587e_row1_col4\" class=\"data row1 col4\" >0.003</td>\n",
       "      <td id=\"T_1587e_row1_col5\" class=\"data row1 col5\" >0.003</td>\n",
       "      <td id=\"T_1587e_row1_col6\" class=\"data row1 col6\" >0.005</td>\n",
       "      <td id=\"T_1587e_row1_col7\" class=\"data row1 col7\" >0.004</td>\n",
       "      <td id=\"T_1587e_row1_col8\" class=\"data row1 col8\" >0.003</td>\n",
       "      <td id=\"T_1587e_row1_col9\" class=\"data row1 col9\" >0.006</td>\n",
       "    </tr>\n",
       "    <tr>\n",
       "      <th id=\"T_1587e_level0_row2\" class=\"row_heading level0 row2\" >avg_pr_auc</th>\n",
       "      <td id=\"T_1587e_row2_col0\" class=\"data row2 col0\" >0.008</td>\n",
       "      <td id=\"T_1587e_row2_col1\" class=\"data row2 col1\" >0.005</td>\n",
       "      <td id=\"T_1587e_row2_col2\" class=\"data row2 col2\" >0.006</td>\n",
       "      <td id=\"T_1587e_row2_col3\" class=\"data row2 col3\" >0.006</td>\n",
       "      <td id=\"T_1587e_row2_col4\" class=\"data row2 col4\" >0.004</td>\n",
       "      <td id=\"T_1587e_row2_col5\" class=\"data row2 col5\" >0.006</td>\n",
       "      <td id=\"T_1587e_row2_col6\" class=\"data row2 col6\" >0.005</td>\n",
       "      <td id=\"T_1587e_row2_col7\" class=\"data row2 col7\" >0.006</td>\n",
       "      <td id=\"T_1587e_row2_col8\" class=\"data row2 col8\" >0.005</td>\n",
       "      <td id=\"T_1587e_row2_col9\" class=\"data row2 col9\" >0.005</td>\n",
       "    </tr>\n",
       "    <tr>\n",
       "      <th id=\"T_1587e_level0_row3\" class=\"row_heading level0 row3\" >roc_auc</th>\n",
       "      <td id=\"T_1587e_row3_col0\" class=\"data row3 col0\" >0.003</td>\n",
       "      <td id=\"T_1587e_row3_col1\" class=\"data row3 col1\" >0.004</td>\n",
       "      <td id=\"T_1587e_row3_col2\" class=\"data row3 col2\" >0.003</td>\n",
       "      <td id=\"T_1587e_row3_col3\" class=\"data row3 col3\" >0.004</td>\n",
       "      <td id=\"T_1587e_row3_col4\" class=\"data row3 col4\" >0.004</td>\n",
       "      <td id=\"T_1587e_row3_col5\" class=\"data row3 col5\" >0.003</td>\n",
       "      <td id=\"T_1587e_row3_col6\" class=\"data row3 col6\" >0.002</td>\n",
       "      <td id=\"T_1587e_row3_col7\" class=\"data row3 col7\" >0.002</td>\n",
       "      <td id=\"T_1587e_row3_col8\" class=\"data row3 col8\" >0.003</td>\n",
       "      <td id=\"T_1587e_row3_col9\" class=\"data row3 col9\" >0.003</td>\n",
       "    </tr>\n",
       "  </tbody>\n",
       "</table>\n"
      ],
      "text/plain": [
       "<pandas.io.formats.style.Styler at 0x7f55f0390b90>"
      ]
     },
     "execution_count": 31,
     "metadata": {},
     "output_type": "execute_result"
    }
   ],
   "source": [
    "df_final_std_bankmark.style.format(precision=3).highlight_max(props='font-weight:bold;color:#090E19', axis = 1)"
   ]
  },
  {
   "cell_type": "markdown",
   "id": "81d6b113-e9f0-4904-ab52-a60b5b19187a",
   "metadata": {},
   "source": [
    "## BankChurners :"
   ]
  },
  {
   "cell_type": "code",
   "execution_count": 32,
   "id": "816b0b1c-6d12-4df9-a7f5-5f1c0a506e52",
   "metadata": {},
   "outputs": [
    {
     "data": {
      "text/html": [
       "<style type=\"text/css\">\n",
       "#T_21f93_row0_col9, #T_21f93_row1_col7, #T_21f93_row2_col9, #T_21f93_row3_col5 {\n",
       "  font-weight: bold;\n",
       "  color: #090E19;\n",
       "}\n",
       "</style>\n",
       "<table id=\"T_21f93\">\n",
       "  <thead>\n",
       "    <tr>\n",
       "      <th class=\"blank level0\" >&nbsp;</th>\n",
       "      <th id=\"T_21f93_level0_col0\" class=\"col_heading level0 col0\" >None</th>\n",
       "      <th id=\"T_21f93_level0_col1\" class=\"col_heading level0 col1\" >CW</th>\n",
       "      <th id=\"T_21f93_level0_col2\" class=\"col_heading level0 col2\" >ROS</th>\n",
       "      <th id=\"T_21f93_level0_col3\" class=\"col_heading level0 col3\" >RUS</th>\n",
       "      <th id=\"T_21f93_level0_col4\" class=\"col_heading level0 col4\" >SmoteNC (K=5)</th>\n",
       "      <th id=\"T_21f93_level0_col5\" class=\"col_heading level0 col5\" >MGS(mu)(d+1)(EmpCov) 1-NN</th>\n",
       "      <th id=\"T_21f93_level0_col6\" class=\"col_heading level0 col6\" >MGS(mu)(d+1)(EmpCov) 5-NN</th>\n",
       "      <th id=\"T_21f93_level0_col7\" class=\"col_heading level0 col7\" >MGS-NC(mu)(5)(EmpCov)</th>\n",
       "      <th id=\"T_21f93_level0_col8\" class=\"col_heading level0 col8\" >MGS-NC(mu)(d+1)(EmpCov)</th>\n",
       "      <th id=\"T_21f93_level0_col9\" class=\"col_heading level0 col9\" >MGS(mu)(d+1)(EmpCov) DRFsk classique (mtry=def=sqrt)</th>\n",
       "    </tr>\n",
       "  </thead>\n",
       "  <tbody>\n",
       "    <tr>\n",
       "      <th id=\"T_21f93_level0_row0\" class=\"row_heading level0 row0\" >p@r=0.2</th>\n",
       "      <td id=\"T_21f93_row0_col0\" class=\"data row0 col0\" >0.894</td>\n",
       "      <td id=\"T_21f93_row0_col1\" class=\"data row0 col1\" >0.870</td>\n",
       "      <td id=\"T_21f93_row0_col2\" class=\"data row0 col2\" >0.847</td>\n",
       "      <td id=\"T_21f93_row0_col3\" class=\"data row0 col3\" >0.632</td>\n",
       "      <td id=\"T_21f93_row0_col4\" class=\"data row0 col4\" >0.850</td>\n",
       "      <td id=\"T_21f93_row0_col5\" class=\"data row0 col5\" >0.913</td>\n",
       "      <td id=\"T_21f93_row0_col6\" class=\"data row0 col6\" >0.910</td>\n",
       "      <td id=\"T_21f93_row0_col7\" class=\"data row0 col7\" >0.897</td>\n",
       "      <td id=\"T_21f93_row0_col8\" class=\"data row0 col8\" >0.908</td>\n",
       "      <td id=\"T_21f93_row0_col9\" class=\"data row0 col9\" >0.922</td>\n",
       "    </tr>\n",
       "    <tr>\n",
       "      <th id=\"T_21f93_level0_row1\" class=\"row_heading level0 row1\" >p@r=0.5</th>\n",
       "      <td id=\"T_21f93_row1_col0\" class=\"data row1 col0\" >0.623</td>\n",
       "      <td id=\"T_21f93_row1_col1\" class=\"data row1 col1\" >0.614</td>\n",
       "      <td id=\"T_21f93_row1_col2\" class=\"data row1 col2\" >0.570</td>\n",
       "      <td id=\"T_21f93_row1_col3\" class=\"data row1 col3\" >0.316</td>\n",
       "      <td id=\"T_21f93_row1_col4\" class=\"data row1 col4\" >0.583</td>\n",
       "      <td id=\"T_21f93_row1_col5\" class=\"data row1 col5\" >0.682</td>\n",
       "      <td id=\"T_21f93_row1_col6\" class=\"data row1 col6\" >0.661</td>\n",
       "      <td id=\"T_21f93_row1_col7\" class=\"data row1 col7\" >0.698</td>\n",
       "      <td id=\"T_21f93_row1_col8\" class=\"data row1 col8\" >0.680</td>\n",
       "      <td id=\"T_21f93_row1_col9\" class=\"data row1 col9\" >0.696</td>\n",
       "    </tr>\n",
       "    <tr>\n",
       "      <th id=\"T_21f93_level0_row2\" class=\"row_heading level0 row2\" >avg_pr_auc</th>\n",
       "      <td id=\"T_21f93_row2_col0\" class=\"data row2 col0\" >0.622</td>\n",
       "      <td id=\"T_21f93_row2_col1\" class=\"data row2 col1\" >0.608</td>\n",
       "      <td id=\"T_21f93_row2_col2\" class=\"data row2 col2\" >0.576</td>\n",
       "      <td id=\"T_21f93_row2_col3\" class=\"data row2 col3\" >0.394</td>\n",
       "      <td id=\"T_21f93_row2_col4\" class=\"data row2 col4\" >0.595</td>\n",
       "      <td id=\"T_21f93_row2_col5\" class=\"data row2 col5\" >0.663</td>\n",
       "      <td id=\"T_21f93_row2_col6\" class=\"data row2 col6\" >0.653</td>\n",
       "      <td id=\"T_21f93_row2_col7\" class=\"data row2 col7\" >0.655</td>\n",
       "      <td id=\"T_21f93_row2_col8\" class=\"data row2 col8\" >0.655</td>\n",
       "      <td id=\"T_21f93_row2_col9\" class=\"data row2 col9\" >0.666</td>\n",
       "    </tr>\n",
       "    <tr>\n",
       "      <th id=\"T_21f93_level0_row3\" class=\"row_heading level0 row3\" >roc_auc</th>\n",
       "      <td id=\"T_21f93_row3_col0\" class=\"data row3 col0\" >0.977</td>\n",
       "      <td id=\"T_21f93_row3_col1\" class=\"data row3 col1\" >0.971</td>\n",
       "      <td id=\"T_21f93_row3_col2\" class=\"data row3 col2\" >0.963</td>\n",
       "      <td id=\"T_21f93_row3_col3\" class=\"data row3 col3\" >0.941</td>\n",
       "      <td id=\"T_21f93_row3_col4\" class=\"data row3 col4\" >0.975</td>\n",
       "      <td id=\"T_21f93_row3_col5\" class=\"data row3 col5\" >0.984</td>\n",
       "      <td id=\"T_21f93_row3_col6\" class=\"data row3 col6\" >0.983</td>\n",
       "      <td id=\"T_21f93_row3_col7\" class=\"data row3 col7\" >0.979</td>\n",
       "      <td id=\"T_21f93_row3_col8\" class=\"data row3 col8\" >0.983</td>\n",
       "      <td id=\"T_21f93_row3_col9\" class=\"data row3 col9\" >0.983</td>\n",
       "    </tr>\n",
       "  </tbody>\n",
       "</table>\n"
      ],
      "text/plain": [
       "<pandas.io.formats.style.Styler at 0x7f55f0914210>"
      ]
     },
     "execution_count": 32,
     "metadata": {},
     "output_type": "execute_result"
    }
   ],
   "source": [
    "output_dir_path =  \"../saved_experiments_categorial_features/2024-06-19_BankChurners/2025/lgbm/data-runtimev2/subsample_to_1\" ## Fill it\n",
    "df_final_mean,df_final_std = compute_metrics_several_protocols(\n",
    "    output_dir=output_dir_path,\n",
    "    init_name_file='2024-11-30-lgbm_',\n",
    "    list_metric=list_metric,\n",
    "    bool_roc_auc_only=False,n_iter=20)\n",
    "df_final_mean.style.format(precision=3).highlight_max(props='font-weight:bold;color:#090E19', axis = 1)"
   ]
  },
  {
   "cell_type": "code",
   "execution_count": 33,
   "id": "215a1230-66f5-4376-a49c-98b48b7ba313",
   "metadata": {},
   "outputs": [
    {
     "data": {
      "text/html": [
       "<style type=\"text/css\">\n",
       "#T_80849_row0_col3, #T_80849_row1_col9, #T_80849_row2_col3, #T_80849_row3_col3 {\n",
       "  font-weight: bold;\n",
       "  color: #090E19;\n",
       "}\n",
       "</style>\n",
       "<table id=\"T_80849\">\n",
       "  <thead>\n",
       "    <tr>\n",
       "      <th class=\"blank level0\" >&nbsp;</th>\n",
       "      <th id=\"T_80849_level0_col0\" class=\"col_heading level0 col0\" >None</th>\n",
       "      <th id=\"T_80849_level0_col1\" class=\"col_heading level0 col1\" >CW</th>\n",
       "      <th id=\"T_80849_level0_col2\" class=\"col_heading level0 col2\" >ROS</th>\n",
       "      <th id=\"T_80849_level0_col3\" class=\"col_heading level0 col3\" >RUS</th>\n",
       "      <th id=\"T_80849_level0_col4\" class=\"col_heading level0 col4\" >SmoteNC (K=5)</th>\n",
       "      <th id=\"T_80849_level0_col5\" class=\"col_heading level0 col5\" >MGS(mu)(d+1)(EmpCov) 1-NN</th>\n",
       "      <th id=\"T_80849_level0_col6\" class=\"col_heading level0 col6\" >MGS(mu)(d+1)(EmpCov) 5-NN</th>\n",
       "      <th id=\"T_80849_level0_col7\" class=\"col_heading level0 col7\" >MGS-NC(mu)(5)(EmpCov)</th>\n",
       "      <th id=\"T_80849_level0_col8\" class=\"col_heading level0 col8\" >MGS-NC(mu)(d+1)(EmpCov)</th>\n",
       "      <th id=\"T_80849_level0_col9\" class=\"col_heading level0 col9\" >MGS(mu)(d+1)(EmpCov) DRFsk classique (mtry=def=sqrt)</th>\n",
       "    </tr>\n",
       "  </thead>\n",
       "  <tbody>\n",
       "    <tr>\n",
       "      <th id=\"T_80849_level0_row0\" class=\"row_heading level0 row0\" >p@r=0.2</th>\n",
       "      <td id=\"T_80849_row0_col0\" class=\"data row0 col0\" >0.051</td>\n",
       "      <td id=\"T_80849_row0_col1\" class=\"data row0 col1\" >0.056</td>\n",
       "      <td id=\"T_80849_row0_col2\" class=\"data row0 col2\" >0.061</td>\n",
       "      <td id=\"T_80849_row0_col3\" class=\"data row0 col3\" >0.123</td>\n",
       "      <td id=\"T_80849_row0_col4\" class=\"data row0 col4\" >0.053</td>\n",
       "      <td id=\"T_80849_row0_col5\" class=\"data row0 col5\" >0.050</td>\n",
       "      <td id=\"T_80849_row0_col6\" class=\"data row0 col6\" >0.048</td>\n",
       "      <td id=\"T_80849_row0_col7\" class=\"data row0 col7\" >0.038</td>\n",
       "      <td id=\"T_80849_row0_col8\" class=\"data row0 col8\" >0.057</td>\n",
       "      <td id=\"T_80849_row0_col9\" class=\"data row0 col9\" >0.054</td>\n",
       "    </tr>\n",
       "    <tr>\n",
       "      <th id=\"T_80849_level0_row1\" class=\"row_heading level0 row1\" >p@r=0.5</th>\n",
       "      <td id=\"T_80849_row1_col0\" class=\"data row1 col0\" >0.051</td>\n",
       "      <td id=\"T_80849_row1_col1\" class=\"data row1 col1\" >0.050</td>\n",
       "      <td id=\"T_80849_row1_col2\" class=\"data row1 col2\" >0.060</td>\n",
       "      <td id=\"T_80849_row1_col3\" class=\"data row1 col3\" >0.057</td>\n",
       "      <td id=\"T_80849_row1_col4\" class=\"data row1 col4\" >0.035</td>\n",
       "      <td id=\"T_80849_row1_col5\" class=\"data row1 col5\" >0.047</td>\n",
       "      <td id=\"T_80849_row1_col6\" class=\"data row1 col6\" >0.050</td>\n",
       "      <td id=\"T_80849_row1_col7\" class=\"data row1 col7\" >0.048</td>\n",
       "      <td id=\"T_80849_row1_col8\" class=\"data row1 col8\" >0.059</td>\n",
       "      <td id=\"T_80849_row1_col9\" class=\"data row1 col9\" >0.061</td>\n",
       "    </tr>\n",
       "    <tr>\n",
       "      <th id=\"T_80849_level0_row2\" class=\"row_heading level0 row2\" >avg_pr_auc</th>\n",
       "      <td id=\"T_80849_row2_col0\" class=\"data row2 col0\" >0.024</td>\n",
       "      <td id=\"T_80849_row2_col1\" class=\"data row2 col1\" >0.026</td>\n",
       "      <td id=\"T_80849_row2_col2\" class=\"data row2 col2\" >0.024</td>\n",
       "      <td id=\"T_80849_row2_col3\" class=\"data row2 col3\" >0.043</td>\n",
       "      <td id=\"T_80849_row2_col4\" class=\"data row2 col4\" >0.021</td>\n",
       "      <td id=\"T_80849_row2_col5\" class=\"data row2 col5\" >0.023</td>\n",
       "      <td id=\"T_80849_row2_col6\" class=\"data row2 col6\" >0.024</td>\n",
       "      <td id=\"T_80849_row2_col7\" class=\"data row2 col7\" >0.020</td>\n",
       "      <td id=\"T_80849_row2_col8\" class=\"data row2 col8\" >0.026</td>\n",
       "      <td id=\"T_80849_row2_col9\" class=\"data row2 col9\" >0.022</td>\n",
       "    </tr>\n",
       "    <tr>\n",
       "      <th id=\"T_80849_level0_row3\" class=\"row_heading level0 row3\" >roc_auc</th>\n",
       "      <td id=\"T_80849_row3_col0\" class=\"data row3 col0\" >0.005</td>\n",
       "      <td id=\"T_80849_row3_col1\" class=\"data row3 col1\" >0.005</td>\n",
       "      <td id=\"T_80849_row3_col2\" class=\"data row3 col2\" >0.006</td>\n",
       "      <td id=\"T_80849_row3_col3\" class=\"data row3 col3\" >0.008</td>\n",
       "      <td id=\"T_80849_row3_col4\" class=\"data row3 col4\" >0.004</td>\n",
       "      <td id=\"T_80849_row3_col5\" class=\"data row3 col5\" >0.003</td>\n",
       "      <td id=\"T_80849_row3_col6\" class=\"data row3 col6\" >0.003</td>\n",
       "      <td id=\"T_80849_row3_col7\" class=\"data row3 col7\" >0.003</td>\n",
       "      <td id=\"T_80849_row3_col8\" class=\"data row3 col8\" >0.002</td>\n",
       "      <td id=\"T_80849_row3_col9\" class=\"data row3 col9\" >0.002</td>\n",
       "    </tr>\n",
       "  </tbody>\n",
       "</table>\n"
      ],
      "text/plain": [
       "<pandas.io.formats.style.Styler at 0x7f55f03182d0>"
      ]
     },
     "execution_count": 33,
     "metadata": {},
     "output_type": "execute_result"
    }
   ],
   "source": [
    "df_final_std.style.format(precision=3).highlight_max(props='font-weight:bold;color:#090E19', axis = 1)"
   ]
  },
  {
   "cell_type": "markdown",
   "id": "3faa831b-c653-4ada-a1f4-7f7de3810267",
   "metadata": {},
   "source": [
    "<center><h1  style=\"color:white; background-color:#808b96; border-radius: 10px; padding:15px;\"> Runing time </h1></center>"
   ]
  },
  {
   "cell_type": "code",
   "execution_count": 5,
   "id": "91778685-99e1-4af9-86e2-d2342b30fde0",
   "metadata": {},
   "outputs": [],
   "source": [
    "def average_runing_time(output_dir_path,init_name_file,n_iter=50):\n",
    "    df_final = pd.DataFrame()\n",
    "    for i in range(n_iter):\n",
    "        name_file = init_name_file + str(i) + \".csv\"\n",
    "        curr_df = pd.read_csv(os.path.join(output_dir_path, \"runtime\" + name_file))\n",
    "        df_final = pd.concat([df_final,curr_df],axis=0)\n",
    "    return df_final.reset_index(drop=True)"
   ]
  },
  {
   "cell_type": "code",
   "execution_count": 24,
   "id": "5cf920fa-b03d-41c7-8b03-b4e47d0d819a",
   "metadata": {},
   "outputs": [
    {
     "data": {
      "text/html": [
       "<style type=\"text/css\">\n",
       "#T_aa74e_row0_col8 {\n",
       "  font-weight: bold;\n",
       "  color: #090E19;\n",
       "}\n",
       "</style>\n",
       "<table id=\"T_aa74e\">\n",
       "  <thead>\n",
       "    <tr>\n",
       "      <th class=\"blank level0\" >&nbsp;</th>\n",
       "      <th id=\"T_aa74e_level0_col0\" class=\"col_heading level0 col0\" >Unnamed: 0</th>\n",
       "      <th id=\"T_aa74e_level0_col1\" class=\"col_heading level0 col1\" >None</th>\n",
       "      <th id=\"T_aa74e_level0_col2\" class=\"col_heading level0 col2\" >CW</th>\n",
       "      <th id=\"T_aa74e_level0_col3\" class=\"col_heading level0 col3\" >ROS</th>\n",
       "      <th id=\"T_aa74e_level0_col4\" class=\"col_heading level0 col4\" >RUS</th>\n",
       "      <th id=\"T_aa74e_level0_col5\" class=\"col_heading level0 col5\" >SmoteNC (K=5)</th>\n",
       "      <th id=\"T_aa74e_level0_col6\" class=\"col_heading level0 col6\" >MGS(mu)(d+1)(EmpCov) 1-NN</th>\n",
       "      <th id=\"T_aa74e_level0_col7\" class=\"col_heading level0 col7\" >MGS(mu)(d+1)(EmpCov) 5-NN</th>\n",
       "      <th id=\"T_aa74e_level0_col8\" class=\"col_heading level0 col8\" >MGS-NC(mu)(d+1)(EmpCov)</th>\n",
       "      <th id=\"T_aa74e_level0_col9\" class=\"col_heading level0 col9\" >MGS(mu)(d+1)(EmpCov) DRFsk classique (mtry=def=sqrt)</th>\n",
       "    </tr>\n",
       "  </thead>\n",
       "  <tbody>\n",
       "    <tr>\n",
       "      <th id=\"T_aa74e_level0_row0\" class=\"row_heading level0 row0\" >0</th>\n",
       "      <td id=\"T_aa74e_row0_col0\" class=\"data row0 col0\" >0.000</td>\n",
       "      <td id=\"T_aa74e_row0_col1\" class=\"data row0 col1\" >1.294</td>\n",
       "      <td id=\"T_aa74e_row0_col2\" class=\"data row0 col2\" >1.338</td>\n",
       "      <td id=\"T_aa74e_row0_col3\" class=\"data row0 col3\" >1.919</td>\n",
       "      <td id=\"T_aa74e_row0_col4\" class=\"data row0 col4\" >0.288</td>\n",
       "      <td id=\"T_aa74e_row0_col5\" class=\"data row0 col5\" >4.214</td>\n",
       "      <td id=\"T_aa74e_row0_col6\" class=\"data row0 col6\" >7.767</td>\n",
       "      <td id=\"T_aa74e_row0_col7\" class=\"data row0 col7\" >8.050</td>\n",
       "      <td id=\"T_aa74e_row0_col8\" class=\"data row0 col8\" >16.274</td>\n",
       "      <td id=\"T_aa74e_row0_col9\" class=\"data row0 col9\" >5.869</td>\n",
       "    </tr>\n",
       "  </tbody>\n",
       "</table>\n"
      ],
      "text/plain": [
       "<pandas.io.formats.style.Styler at 0x7f55f286a7d0>"
      ]
     },
     "execution_count": 24,
     "metadata": {},
     "output_type": "execute_result"
    }
   ],
   "source": [
    "df = average_runing_time(output_dir_path=\"../saved_experiments_categorial_features/2024-06-19_BankMarketing/2025/lgbm1000/subsample_to_1\",\n",
    "                    init_name_file=\"2024-11-30-lgbm_\",\n",
    "                    n_iter=20)\n",
    "df.mean(axis=0).to_frame().T.style.format(precision=3).highlight_max(props='font-weight:bold;color:#090E19', axis = 1)"
   ]
  },
  {
   "cell_type": "code",
   "execution_count": 25,
   "id": "9c41edbf-6a56-4c0d-9466-ed26e05fdf88",
   "metadata": {},
   "outputs": [
    {
     "data": {
      "text/html": [
       "<style type=\"text/css\">\n",
       "#T_94b25_row0_col9 {\n",
       "  font-weight: bold;\n",
       "  color: #090E19;\n",
       "}\n",
       "</style>\n",
       "<table id=\"T_94b25\">\n",
       "  <thead>\n",
       "    <tr>\n",
       "      <th class=\"blank level0\" >&nbsp;</th>\n",
       "      <th id=\"T_94b25_level0_col0\" class=\"col_heading level0 col0\" >Unnamed: 0</th>\n",
       "      <th id=\"T_94b25_level0_col1\" class=\"col_heading level0 col1\" >None</th>\n",
       "      <th id=\"T_94b25_level0_col2\" class=\"col_heading level0 col2\" >CW</th>\n",
       "      <th id=\"T_94b25_level0_col3\" class=\"col_heading level0 col3\" >ROS</th>\n",
       "      <th id=\"T_94b25_level0_col4\" class=\"col_heading level0 col4\" >RUS</th>\n",
       "      <th id=\"T_94b25_level0_col5\" class=\"col_heading level0 col5\" >SmoteNC (K=5)</th>\n",
       "      <th id=\"T_94b25_level0_col6\" class=\"col_heading level0 col6\" >MGS(mu)(d+1)(EmpCov) 1-NN</th>\n",
       "      <th id=\"T_94b25_level0_col7\" class=\"col_heading level0 col7\" >MGS(mu)(d+1)(EmpCov) 5-NN</th>\n",
       "      <th id=\"T_94b25_level0_col8\" class=\"col_heading level0 col8\" >MGS-NC(mu)(d+1)(EmpCov)</th>\n",
       "      <th id=\"T_94b25_level0_col9\" class=\"col_heading level0 col9\" >MGS(mu)(d+1)(EmpCov) DRFsk classique (mtry=def=sqrt)</th>\n",
       "    </tr>\n",
       "  </thead>\n",
       "  <tbody>\n",
       "    <tr>\n",
       "      <th id=\"T_94b25_level0_row0\" class=\"row_heading level0 row0\" >0</th>\n",
       "      <td id=\"T_94b25_row0_col0\" class=\"data row0 col0\" >0.000</td>\n",
       "      <td id=\"T_94b25_row0_col1\" class=\"data row0 col1\" >0.022</td>\n",
       "      <td id=\"T_94b25_row0_col2\" class=\"data row0 col2\" >0.033</td>\n",
       "      <td id=\"T_94b25_row0_col3\" class=\"data row0 col3\" >0.088</td>\n",
       "      <td id=\"T_94b25_row0_col4\" class=\"data row0 col4\" >0.010</td>\n",
       "      <td id=\"T_94b25_row0_col5\" class=\"data row0 col5\" >0.054</td>\n",
       "      <td id=\"T_94b25_row0_col6\" class=\"data row0 col6\" >0.203</td>\n",
       "      <td id=\"T_94b25_row0_col7\" class=\"data row0 col7\" >0.086</td>\n",
       "      <td id=\"T_94b25_row0_col8\" class=\"data row0 col8\" >0.563</td>\n",
       "      <td id=\"T_94b25_row0_col9\" class=\"data row0 col9\" >1.342</td>\n",
       "    </tr>\n",
       "  </tbody>\n",
       "</table>\n"
      ],
      "text/plain": [
       "<pandas.io.formats.style.Styler at 0x7f55f031ab10>"
      ]
     },
     "execution_count": 25,
     "metadata": {},
     "output_type": "execute_result"
    }
   ],
   "source": [
    "df.std(axis=0).to_frame().T.style.format(precision=3).highlight_max(props='font-weight:bold;color:#090E19', axis = 1)"
   ]
  },
  {
   "cell_type": "code",
   "execution_count": 26,
   "id": "bc7de57c-2f95-4e3d-9aca-ca9794f1cac8",
   "metadata": {},
   "outputs": [
    {
     "data": {
      "text/html": [
       "<style type=\"text/css\">\n",
       "#T_30813_row0_col8 {\n",
       "  font-weight: bold;\n",
       "  color: #090E19;\n",
       "}\n",
       "</style>\n",
       "<table id=\"T_30813\">\n",
       "  <thead>\n",
       "    <tr>\n",
       "      <th class=\"blank level0\" >&nbsp;</th>\n",
       "      <th id=\"T_30813_level0_col0\" class=\"col_heading level0 col0\" >Unnamed: 0</th>\n",
       "      <th id=\"T_30813_level0_col1\" class=\"col_heading level0 col1\" >None</th>\n",
       "      <th id=\"T_30813_level0_col2\" class=\"col_heading level0 col2\" >CW</th>\n",
       "      <th id=\"T_30813_level0_col3\" class=\"col_heading level0 col3\" >ROS</th>\n",
       "      <th id=\"T_30813_level0_col4\" class=\"col_heading level0 col4\" >RUS</th>\n",
       "      <th id=\"T_30813_level0_col5\" class=\"col_heading level0 col5\" >SmoteNC (K=5)</th>\n",
       "      <th id=\"T_30813_level0_col6\" class=\"col_heading level0 col6\" >MGS(mu)(d+1)(EmpCov) 1-NN</th>\n",
       "      <th id=\"T_30813_level0_col7\" class=\"col_heading level0 col7\" >MGS(mu)(d+1)(EmpCov) 5-NN</th>\n",
       "      <th id=\"T_30813_level0_col8\" class=\"col_heading level0 col8\" >MGS-NC(mu)(d+1)(EmpCov)</th>\n",
       "      <th id=\"T_30813_level0_col9\" class=\"col_heading level0 col9\" >MGS(mu)(d+1)(EmpCov) DRFsk classique (mtry=def=sqrt)</th>\n",
       "    </tr>\n",
       "  </thead>\n",
       "  <tbody>\n",
       "    <tr>\n",
       "      <th id=\"T_30813_level0_row0\" class=\"row_heading level0 row0\" >0</th>\n",
       "      <td id=\"T_30813_row0_col0\" class=\"data row0 col0\" >0.000</td>\n",
       "      <td id=\"T_30813_row0_col1\" class=\"data row0 col1\" >0.296</td>\n",
       "      <td id=\"T_30813_row0_col2\" class=\"data row0 col2\" >0.333</td>\n",
       "      <td id=\"T_30813_row0_col3\" class=\"data row0 col3\" >0.494</td>\n",
       "      <td id=\"T_30813_row0_col4\" class=\"data row0 col4\" >0.060</td>\n",
       "      <td id=\"T_30813_row0_col5\" class=\"data row0 col5\" >0.852</td>\n",
       "      <td id=\"T_30813_row0_col6\" class=\"data row0 col6\" >1.217</td>\n",
       "      <td id=\"T_30813_row0_col7\" class=\"data row0 col7\" >1.245</td>\n",
       "      <td id=\"T_30813_row0_col8\" class=\"data row0 col8\" >2.158</td>\n",
       "      <td id=\"T_30813_row0_col9\" class=\"data row0 col9\" >0.893</td>\n",
       "    </tr>\n",
       "  </tbody>\n",
       "</table>\n"
      ],
      "text/plain": [
       "<pandas.io.formats.style.Styler at 0x7f55f0929e50>"
      ]
     },
     "execution_count": 26,
     "metadata": {},
     "output_type": "execute_result"
    }
   ],
   "source": [
    "df = average_runing_time(output_dir_path=\"../saved_experiments_categorial_features/2024-06-19_BankChurners/2025/lgbm1000/subsample_to_1\",\n",
    "                    init_name_file=\"2024-11-30-lgbm_\",\n",
    "                    n_iter=20)\n",
    "df.mean(axis=0).to_frame().T.style.format(precision=3).highlight_max(props='font-weight:bold;color:#090E19', axis = 1)"
   ]
  },
  {
   "cell_type": "code",
   "execution_count": 27,
   "id": "77d1cc89-cd06-4836-a7b5-d848c60a73b0",
   "metadata": {},
   "outputs": [
    {
     "data": {
      "text/html": [
       "<style type=\"text/css\">\n",
       "#T_e3290_row0_col5 {\n",
       "  font-weight: bold;\n",
       "  color: #090E19;\n",
       "}\n",
       "</style>\n",
       "<table id=\"T_e3290\">\n",
       "  <thead>\n",
       "    <tr>\n",
       "      <th class=\"blank level0\" >&nbsp;</th>\n",
       "      <th id=\"T_e3290_level0_col0\" class=\"col_heading level0 col0\" >Unnamed: 0</th>\n",
       "      <th id=\"T_e3290_level0_col1\" class=\"col_heading level0 col1\" >None</th>\n",
       "      <th id=\"T_e3290_level0_col2\" class=\"col_heading level0 col2\" >CW</th>\n",
       "      <th id=\"T_e3290_level0_col3\" class=\"col_heading level0 col3\" >ROS</th>\n",
       "      <th id=\"T_e3290_level0_col4\" class=\"col_heading level0 col4\" >RUS</th>\n",
       "      <th id=\"T_e3290_level0_col5\" class=\"col_heading level0 col5\" >SmoteNC (K=5)</th>\n",
       "      <th id=\"T_e3290_level0_col6\" class=\"col_heading level0 col6\" >MGS(mu)(d+1)(EmpCov) 1-NN</th>\n",
       "      <th id=\"T_e3290_level0_col7\" class=\"col_heading level0 col7\" >MGS(mu)(d+1)(EmpCov) 5-NN</th>\n",
       "      <th id=\"T_e3290_level0_col8\" class=\"col_heading level0 col8\" >MGS-NC(mu)(d+1)(EmpCov)</th>\n",
       "      <th id=\"T_e3290_level0_col9\" class=\"col_heading level0 col9\" >MGS(mu)(d+1)(EmpCov) DRFsk classique (mtry=def=sqrt)</th>\n",
       "    </tr>\n",
       "  </thead>\n",
       "  <tbody>\n",
       "    <tr>\n",
       "      <th id=\"T_e3290_level0_row0\" class=\"row_heading level0 row0\" >0</th>\n",
       "      <td id=\"T_e3290_row0_col0\" class=\"data row0 col0\" >0.000</td>\n",
       "      <td id=\"T_e3290_row0_col1\" class=\"data row0 col1\" >0.015</td>\n",
       "      <td id=\"T_e3290_row0_col2\" class=\"data row0 col2\" >0.022</td>\n",
       "      <td id=\"T_e3290_row0_col3\" class=\"data row0 col3\" >0.032</td>\n",
       "      <td id=\"T_e3290_row0_col4\" class=\"data row0 col4\" >0.003</td>\n",
       "      <td id=\"T_e3290_row0_col5\" class=\"data row0 col5\" >0.069</td>\n",
       "      <td id=\"T_e3290_row0_col6\" class=\"data row0 col6\" >0.056</td>\n",
       "      <td id=\"T_e3290_row0_col7\" class=\"data row0 col7\" >0.038</td>\n",
       "      <td id=\"T_e3290_row0_col8\" class=\"data row0 col8\" >0.051</td>\n",
       "      <td id=\"T_e3290_row0_col9\" class=\"data row0 col9\" >0.033</td>\n",
       "    </tr>\n",
       "  </tbody>\n",
       "</table>\n"
      ],
      "text/plain": [
       "<pandas.io.formats.style.Styler at 0x7f55f0929d90>"
      ]
     },
     "execution_count": 27,
     "metadata": {},
     "output_type": "execute_result"
    }
   ],
   "source": [
    "df.std(axis=0).to_frame().T.style.format(precision=3).highlight_max(props='font-weight:bold;color:#090E19', axis = 1)"
   ]
  },
  {
   "cell_type": "code",
   "execution_count": null,
   "id": "5e4891c5-d7b1-4065-b8c8-d8700e2d4542",
   "metadata": {},
   "outputs": [],
   "source": []
  },
  {
   "cell_type": "code",
   "execution_count": null,
   "id": "854eca6f-2425-49d3-9fc5-713d05de69c5",
   "metadata": {},
   "outputs": [],
   "source": []
  }
 ],
 "metadata": {
  "kernelspec": {
   "display_name": "Python 3 (ipykernel)",
   "language": "python",
   "name": "python3"
  },
  "language_info": {
   "codemirror_mode": {
    "name": "ipython",
    "version": 3
   },
   "file_extension": ".py",
   "mimetype": "text/x-python",
   "name": "python",
   "nbconvert_exporter": "python",
   "pygments_lexer": "ipython3",
   "version": "3.11.9"
  }
 },
 "nbformat": 4,
 "nbformat_minor": 5
}
