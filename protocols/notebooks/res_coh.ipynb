{
 "cells": [
  {
   "cell_type": "markdown",
   "id": "e15a7d05-662b-4873-817c-557675314c55",
   "metadata": {},
   "source": [
    "<center><h1  style=\"color:white; background-color:#000000; border-radius: 0px; padding:25px;\"> MGS-GRF </h1></center>"
   ]
  },
  {
   "cell_type": "markdown",
   "id": "71e88386-51c1-41aa-aac4-46f65789b390",
   "metadata": {},
   "source": [
    "This notebook produces the results from section 4.2."
   ]
  },
  {
   "cell_type": "code",
   "execution_count": 2,
   "id": "45fc9572-0d03-492e-b131-78cf24bb3295",
   "metadata": {},
   "outputs": [],
   "source": [
    "import os\n",
    "import sys\n",
    "sys.path.insert(1, os.path.abspath(os.path.join(os.getcwd(), os.pardir)))\n",
    "from pathlib import Path\n",
    "from collections import Counter\n",
    "\n",
    "import scipy\n",
    "import numpy as np\n",
    "import pandas as pd\n",
    "import matplotlib.pyplot as plt\n",
    "import matplotlib as mpl\n",
    "from sklearn.metrics import precision_score, recall_score, roc_auc_score,balanced_accuracy_score,average_precision_score\n",
    "\n",
    "from validation.classif_experiments import (compute_metrics, compute_metrics_several_protocols,\n",
    "                                            prec_at_recall_version3, prec_at_recall_version3_02)\n",
    "\n",
    "from matplotlib.cm import ScalarMappable"
   ]
  },
  {
   "cell_type": "code",
   "execution_count": 3,
   "id": "13ba0373-df1d-45d7-8a48-f6cede231cdf",
   "metadata": {},
   "outputs": [],
   "source": [
    "list_metric = [\n",
    "    (prec_at_recall_version3_02,'p@r=0.2','proba'),\n",
    "    (prec_at_recall_version3,'p@r=0.5','proba'),\n",
    "    (average_precision_score,'avg_pr_auc', 'proba'),\n",
    "    (roc_auc_score,'roc_auc','proba') \n",
    "]"
   ]
  },
  {
   "cell_type": "code",
   "execution_count": 4,
   "id": "3181b799-3eb6-434e-972a-d8b01aa756da",
   "metadata": {},
   "outputs": [],
   "source": [
    "def compute_metric_and_incoherent(output_dir,list_metric,curr_metric= \"avg_pr_auc\",strategy_name = \"SmoteNC (K=5)\",\n",
    "                                  n_iter=20,categorical_features= [-2,-1],init_name_file=\"2027-01-07-lgbm_\"):\n",
    "\n",
    "    list_metric_none=[]\n",
    "    list_metric_strategy=[]\n",
    "    list_ncso=[]\n",
    "    list_ncss=[]\n",
    "    for i in range(n_iter):\n",
    "        name_file=init_name_file+str(i)+\".npy\"\n",
    "        df_final_mean,df_final_std =compute_metrics(output_dir=output_dir,name_file=name_file,list_metric=list_metric,n_fold=1)\n",
    "        strategy_value = df_final_mean.loc[[curr_metric],[strategy_name]].to_numpy().ravel()[0]\n",
    "        none_value = df_final_mean.loc[[curr_metric],['None']].to_numpy().ravel()[0]\n",
    "        list_metric_none.append(none_value)\n",
    "        list_metric_strategy.append(strategy_value)\n",
    "        \n",
    "        X_train = np.load(os.path.join(output_dir, \"xtrain\" + name_file),allow_pickle=True)\n",
    "        y_train = np.load(os.path.join(output_dir, \"ytrain\" + name_file))\n",
    "        X_res = np.load(os.path.join(output_dir, \"xres\" +strategy_name+ name_file),allow_pickle=True)\n",
    "        y_res = np.load(os.path.join(output_dir, \"yres\" +strategy_name+ name_file),allow_pickle=True)\n",
    "        X_train_minority_comb = [str(xxx) for xxx in X_train[y_train==1][:,categorical_features]]\n",
    "        counter_train = Counter(X_train_minority_comb)\n",
    "        X_res_minority_comb = [str(xxx) for xxx in X_res[y_res==1][:,categorical_features]]\n",
    "        counter_res = Counter(X_res_minority_comb)\n",
    "    \n",
    "        ncso = 0\n",
    "        train_keys = counter_train.keys()\n",
    "        for key in counter_res.keys():\n",
    "            if key not in train_keys:\n",
    "                ncso += counter_res[key]\n",
    "        list_ncso.append(ncso/ sum(counter_res.values())) ## Compute and save ncso\n",
    "        \n",
    "        ncss = 0\n",
    "        n_original = sum(counter_train.values())\n",
    "        train_keys = counter_train.keys()\n",
    "        for key in counter_res.keys():\n",
    "            if key not in train_keys:\n",
    "                ncss += counter_res[key]\n",
    "        \n",
    "        list_ncss.append(ncss / (sum(counter_res.values())-n_original) ) ## Compute and save ncss\n",
    "    return list_metric_none, list_metric_strategy, list_ncso, list_ncss"
   ]
  },
  {
   "cell_type": "markdown",
   "id": "4833d10b-3bbf-4ec8-8196-53fc3f53d306",
   "metadata": {},
   "source": [
    "## Results over seeral runs :"
   ]
  },
  {
   "cell_type": "code",
   "execution_count": 5,
   "id": "d22cf231-f3c1-4e56-ba50-4e8dde2ff8fd",
   "metadata": {},
   "outputs": [
    {
     "data": {
      "text/html": [
       "<style type=\"text/css\">\n",
       "#T_c790f_row0_col0, #T_c790f_row1_col8, #T_c790f_row2_col8, #T_c790f_row3_col8 {\n",
       "  font-weight: bold;\n",
       "  color: #090E19;\n",
       "}\n",
       "</style>\n",
       "<table id=\"T_c790f\">\n",
       "  <thead>\n",
       "    <tr>\n",
       "      <th class=\"blank level0\" >&nbsp;</th>\n",
       "      <th id=\"T_c790f_level0_col0\" class=\"col_heading level0 col0\" >None</th>\n",
       "      <th id=\"T_c790f_level0_col1\" class=\"col_heading level0 col1\" >CW</th>\n",
       "      <th id=\"T_c790f_level0_col2\" class=\"col_heading level0 col2\" >ROS</th>\n",
       "      <th id=\"T_c790f_level0_col3\" class=\"col_heading level0 col3\" >RUS</th>\n",
       "      <th id=\"T_c790f_level0_col4\" class=\"col_heading level0 col4\" >SmoteNC (K=5)</th>\n",
       "      <th id=\"T_c790f_level0_col5\" class=\"col_heading level0 col5\" >MGS(mu)(d+1)(EmpCov) 1-NN</th>\n",
       "      <th id=\"T_c790f_level0_col6\" class=\"col_heading level0 col6\" >MGS(mu)(d+1)(EmpCov) 5-NN</th>\n",
       "      <th id=\"T_c790f_level0_col7\" class=\"col_heading level0 col7\" >MGS-NC(mu)(d+1)(EmpCov)</th>\n",
       "      <th id=\"T_c790f_level0_col8\" class=\"col_heading level0 col8\" >MGS(mu)(d+1)(EmpCov) DRFsk classique (mtry=def=sqrt)</th>\n",
       "    </tr>\n",
       "  </thead>\n",
       "  <tbody>\n",
       "    <tr>\n",
       "      <th id=\"T_c790f_level0_row0\" class=\"row_heading level0 row0\" >p@r=0.2</th>\n",
       "      <td id=\"T_c790f_row0_col0\" class=\"data row0 col0\" >0.994</td>\n",
       "      <td id=\"T_c790f_row0_col1\" class=\"data row0 col1\" >0.991</td>\n",
       "      <td id=\"T_c790f_row0_col2\" class=\"data row0 col2\" >0.985</td>\n",
       "      <td id=\"T_c790f_row0_col3\" class=\"data row0 col3\" >0.883</td>\n",
       "      <td id=\"T_c790f_row0_col4\" class=\"data row0 col4\" >0.989</td>\n",
       "      <td id=\"T_c790f_row0_col5\" class=\"data row0 col5\" >0.987</td>\n",
       "      <td id=\"T_c790f_row0_col6\" class=\"data row0 col6\" >0.982</td>\n",
       "      <td id=\"T_c790f_row0_col7\" class=\"data row0 col7\" >0.988</td>\n",
       "      <td id=\"T_c790f_row0_col8\" class=\"data row0 col8\" >0.991</td>\n",
       "    </tr>\n",
       "    <tr>\n",
       "      <th id=\"T_c790f_level0_row1\" class=\"row_heading level0 row1\" >p@r=0.5</th>\n",
       "      <td id=\"T_c790f_row1_col0\" class=\"data row1 col0\" >0.974</td>\n",
       "      <td id=\"T_c790f_row1_col1\" class=\"data row1 col1\" >0.964</td>\n",
       "      <td id=\"T_c790f_row1_col2\" class=\"data row1 col2\" >0.961</td>\n",
       "      <td id=\"T_c790f_row1_col3\" class=\"data row1 col3\" >0.729</td>\n",
       "      <td id=\"T_c790f_row1_col4\" class=\"data row1 col4\" >0.971</td>\n",
       "      <td id=\"T_c790f_row1_col5\" class=\"data row1 col5\" >0.980</td>\n",
       "      <td id=\"T_c790f_row1_col6\" class=\"data row1 col6\" >0.958</td>\n",
       "      <td id=\"T_c790f_row1_col7\" class=\"data row1 col7\" >0.973</td>\n",
       "      <td id=\"T_c790f_row1_col8\" class=\"data row1 col8\" >0.981</td>\n",
       "    </tr>\n",
       "    <tr>\n",
       "      <th id=\"T_c790f_level0_row2\" class=\"row_heading level0 row2\" >avg_pr_auc</th>\n",
       "      <td id=\"T_c790f_row2_col0\" class=\"data row2 col0\" >0.903</td>\n",
       "      <td id=\"T_c790f_row2_col1\" class=\"data row2 col1\" >0.903</td>\n",
       "      <td id=\"T_c790f_row2_col2\" class=\"data row2 col2\" >0.893</td>\n",
       "      <td id=\"T_c790f_row2_col3\" class=\"data row2 col3\" >0.699</td>\n",
       "      <td id=\"T_c790f_row2_col4\" class=\"data row2 col4\" >0.860</td>\n",
       "      <td id=\"T_c790f_row2_col5\" class=\"data row2 col5\" >0.952</td>\n",
       "      <td id=\"T_c790f_row2_col6\" class=\"data row2 col6\" >0.870</td>\n",
       "      <td id=\"T_c790f_row2_col7\" class=\"data row2 col7\" >0.922</td>\n",
       "      <td id=\"T_c790f_row2_col8\" class=\"data row2 col8\" >0.954</td>\n",
       "    </tr>\n",
       "    <tr>\n",
       "      <th id=\"T_c790f_level0_row3\" class=\"row_heading level0 row3\" >roc_auc</th>\n",
       "      <td id=\"T_c790f_row3_col0\" class=\"data row3 col0\" >0.975</td>\n",
       "      <td id=\"T_c790f_row3_col1\" class=\"data row3 col1\" >0.977</td>\n",
       "      <td id=\"T_c790f_row3_col2\" class=\"data row3 col2\" >0.975</td>\n",
       "      <td id=\"T_c790f_row3_col3\" class=\"data row3 col3\" >0.935</td>\n",
       "      <td id=\"T_c790f_row3_col4\" class=\"data row3 col4\" >0.962</td>\n",
       "      <td id=\"T_c790f_row3_col5\" class=\"data row3 col5\" >0.993</td>\n",
       "      <td id=\"T_c790f_row3_col6\" class=\"data row3 col6\" >0.970</td>\n",
       "      <td id=\"T_c790f_row3_col7\" class=\"data row3 col7\" >0.984</td>\n",
       "      <td id=\"T_c790f_row3_col8\" class=\"data row3 col8\" >0.993</td>\n",
       "    </tr>\n",
       "  </tbody>\n",
       "</table>\n"
      ],
      "text/plain": [
       "<pandas.io.formats.style.Styler at 0x7924f3e80350>"
      ]
     },
     "execution_count": 5,
     "metadata": {},
     "output_type": "execute_result"
    }
   ],
   "source": [
    "output_dir_path =  \"../saved_experiments_categorial_features/sim_coh/2025/lgbm/5ksamples/case2\" ## Fill it\n",
    "df_final_mean_bankmark,df_final_std_bankmark = compute_metrics_several_protocols(\n",
    "    output_dir=output_dir_path,\n",
    "    init_name_file='2027-01-07-lgbm_',\n",
    "    list_metric=list_metric,\n",
    "    bool_roc_auc_only=False,n_iter=50,n_fold=1)\n",
    "df_final_mean_bankmark.style.format(precision=3).highlight_max(props='font-weight:bold;color:#090E19', axis = 1)"
   ]
  },
  {
   "cell_type": "code",
   "execution_count": 6,
   "id": "4587dd6a-517c-462f-8891-bcc648622522",
   "metadata": {},
   "outputs": [
    {
     "data": {
      "text/html": [
       "<style type=\"text/css\">\n",
       "#T_8b753_row0_col3, #T_8b753_row1_col3, #T_8b753_row2_col3, #T_8b753_row3_col3 {\n",
       "  font-weight: bold;\n",
       "  color: #090E19;\n",
       "}\n",
       "</style>\n",
       "<table id=\"T_8b753\">\n",
       "  <thead>\n",
       "    <tr>\n",
       "      <th class=\"blank level0\" >&nbsp;</th>\n",
       "      <th id=\"T_8b753_level0_col0\" class=\"col_heading level0 col0\" >None</th>\n",
       "      <th id=\"T_8b753_level0_col1\" class=\"col_heading level0 col1\" >CW</th>\n",
       "      <th id=\"T_8b753_level0_col2\" class=\"col_heading level0 col2\" >ROS</th>\n",
       "      <th id=\"T_8b753_level0_col3\" class=\"col_heading level0 col3\" >RUS</th>\n",
       "      <th id=\"T_8b753_level0_col4\" class=\"col_heading level0 col4\" >SmoteNC (K=5)</th>\n",
       "      <th id=\"T_8b753_level0_col5\" class=\"col_heading level0 col5\" >MGS(mu)(d+1)(EmpCov) 1-NN</th>\n",
       "      <th id=\"T_8b753_level0_col6\" class=\"col_heading level0 col6\" >MGS(mu)(d+1)(EmpCov) 5-NN</th>\n",
       "      <th id=\"T_8b753_level0_col7\" class=\"col_heading level0 col7\" >MGS-NC(mu)(d+1)(EmpCov)</th>\n",
       "      <th id=\"T_8b753_level0_col8\" class=\"col_heading level0 col8\" >MGS(mu)(d+1)(EmpCov) DRFsk classique (mtry=def=sqrt)</th>\n",
       "    </tr>\n",
       "  </thead>\n",
       "  <tbody>\n",
       "    <tr>\n",
       "      <th id=\"T_8b753_level0_row0\" class=\"row_heading level0 row0\" >p@r=0.2</th>\n",
       "      <td id=\"T_8b753_row0_col0\" class=\"data row0 col0\" >0.018</td>\n",
       "      <td id=\"T_8b753_row0_col1\" class=\"data row0 col1\" >0.023</td>\n",
       "      <td id=\"T_8b753_row0_col2\" class=\"data row0 col2\" >0.030</td>\n",
       "      <td id=\"T_8b753_row0_col3\" class=\"data row0 col3\" >0.113</td>\n",
       "      <td id=\"T_8b753_row0_col4\" class=\"data row0 col4\" >0.019</td>\n",
       "      <td id=\"T_8b753_row0_col5\" class=\"data row0 col5\" >0.024</td>\n",
       "      <td id=\"T_8b753_row0_col6\" class=\"data row0 col6\" >0.028</td>\n",
       "      <td id=\"T_8b753_row0_col7\" class=\"data row0 col7\" >0.026</td>\n",
       "      <td id=\"T_8b753_row0_col8\" class=\"data row0 col8\" >0.019</td>\n",
       "    </tr>\n",
       "    <tr>\n",
       "      <th id=\"T_8b753_level0_row1\" class=\"row_heading level0 row1\" >p@r=0.5</th>\n",
       "      <td id=\"T_8b753_row1_col0\" class=\"data row1 col0\" >0.039</td>\n",
       "      <td id=\"T_8b753_row1_col1\" class=\"data row1 col1\" >0.067</td>\n",
       "      <td id=\"T_8b753_row1_col2\" class=\"data row1 col2\" >0.051</td>\n",
       "      <td id=\"T_8b753_row1_col3\" class=\"data row1 col3\" >0.166</td>\n",
       "      <td id=\"T_8b753_row1_col4\" class=\"data row1 col4\" >0.023</td>\n",
       "      <td id=\"T_8b753_row1_col5\" class=\"data row1 col5\" >0.018</td>\n",
       "      <td id=\"T_8b753_row1_col6\" class=\"data row1 col6\" >0.047</td>\n",
       "      <td id=\"T_8b753_row1_col7\" class=\"data row1 col7\" >0.023</td>\n",
       "      <td id=\"T_8b753_row1_col8\" class=\"data row1 col8\" >0.020</td>\n",
       "    </tr>\n",
       "    <tr>\n",
       "      <th id=\"T_8b753_level0_row2\" class=\"row_heading level0 row2\" >avg_pr_auc</th>\n",
       "      <td id=\"T_8b753_row2_col0\" class=\"data row2 col0\" >0.054</td>\n",
       "      <td id=\"T_8b753_row2_col1\" class=\"data row2 col1\" >0.055</td>\n",
       "      <td id=\"T_8b753_row2_col2\" class=\"data row2 col2\" >0.056</td>\n",
       "      <td id=\"T_8b753_row2_col3\" class=\"data row2 col3\" >0.121</td>\n",
       "      <td id=\"T_8b753_row2_col4\" class=\"data row2 col4\" >0.041</td>\n",
       "      <td id=\"T_8b753_row2_col5\" class=\"data row2 col5\" >0.025</td>\n",
       "      <td id=\"T_8b753_row2_col6\" class=\"data row2 col6\" >0.045</td>\n",
       "      <td id=\"T_8b753_row2_col7\" class=\"data row2 col7\" >0.030</td>\n",
       "      <td id=\"T_8b753_row2_col8\" class=\"data row2 col8\" >0.023</td>\n",
       "    </tr>\n",
       "    <tr>\n",
       "      <th id=\"T_8b753_level0_row3\" class=\"row_heading level0 row3\" >roc_auc</th>\n",
       "      <td id=\"T_8b753_row3_col0\" class=\"data row3 col0\" >0.014</td>\n",
       "      <td id=\"T_8b753_row3_col1\" class=\"data row3 col1\" >0.012</td>\n",
       "      <td id=\"T_8b753_row3_col2\" class=\"data row3 col2\" >0.014</td>\n",
       "      <td id=\"T_8b753_row3_col3\" class=\"data row3 col3\" >0.030</td>\n",
       "      <td id=\"T_8b753_row3_col4\" class=\"data row3 col4\" >0.012</td>\n",
       "      <td id=\"T_8b753_row3_col5\" class=\"data row3 col5\" >0.005</td>\n",
       "      <td id=\"T_8b753_row3_col6\" class=\"data row3 col6\" >0.013</td>\n",
       "      <td id=\"T_8b753_row3_col7\" class=\"data row3 col7\" >0.008</td>\n",
       "      <td id=\"T_8b753_row3_col8\" class=\"data row3 col8\" >0.005</td>\n",
       "    </tr>\n",
       "  </tbody>\n",
       "</table>\n"
      ],
      "text/plain": [
       "<pandas.io.formats.style.Styler at 0x7924f09e50d0>"
      ]
     },
     "execution_count": 6,
     "metadata": {},
     "output_type": "execute_result"
    }
   ],
   "source": [
    "df_final_std_bankmark.style.format(precision=3).highlight_max(props='font-weight:bold;color:#090E19', axis = 1)"
   ]
  },
  {
   "cell_type": "code",
   "execution_count": null,
   "id": "49aea366-1f46-4e66-b334-a853b0014c53",
   "metadata": {},
   "outputs": [],
   "source": [
    "list_metric_none1, list_metric_strategy1, list_ncso1, list_ncss1 = compute_metric_and_incoherent(\n",
    "    output_dir=\"../saved_experiments_categorial_features/sim_coh/2025/lgbm/5ksamples/case2\",\n",
    "    list_metric=list_metric,curr_metric= \"avg_pr_auc\",strategy_name = \"SmoteNC (K=5)\", #MGS(mu)(d+1)(EmpCov) 5-NN #SmoteNC (K=5)\n",
    "    n_iter=50,categorical_features= [-2,-1],init_name_file=\"2027-01-07-lgbm_\")\n",
    "print(\"Mean CSO for this case : \",np.mean(list_ncss1))\n",
    "print(\"std : \",np.std(list_ncss1))"
   ]
  },
  {
   "cell_type": "code",
   "execution_count": null,
   "id": "1c382a5a-f517-410f-9c0f-44b04d0ce7b1",
   "metadata": {},
   "outputs": [],
   "source": [
    "list_metric_none1, list_metric_strategy1, list_ncso1, list_ncss1 = compute_metric_and_incoherent(\n",
    "    output_dir=\"../saved_experiments_categorial_features/sim_coh/2025/lgbm/5ksamples/case2\",\n",
    "    list_metric=list_metric,curr_metric= \"avg_pr_auc\",strategy_name = \"MGS(mu)(d+1)(EmpCov) 5-NN\", #MGS(mu)(d+1)(EmpCov) 5-NN #SmoteNC (K=5)\n",
    "    n_iter=50,categorical_features= [-2,-1],init_name_file=\"2027-01-07-lgbm_\")\n",
    "print(\"Mean CSO for this case : \",np.mean(list_ncss1))\n",
    "print(\"std : \",np.std(list_ncss1))"
   ]
  },
  {
   "cell_type": "code",
   "execution_count": null,
   "id": "89e4ffa3-2c5b-44b3-86f8-0239697c21db",
   "metadata": {},
   "outputs": [],
   "source": [
    "list_metric_none1, list_metric_strategy1, list_ncso1, list_ncss1 = compute_metric_and_incoherent(\n",
    "    output_dir=\"../saved_experiments_categorial_features/sim_coh/2025/lgbm/5ksamples/case2\",\n",
    "    list_metric=list_metric,curr_metric= \"avg_pr_auc\",strategy_name = \"MGS-NC(mu)(d+1)(EmpCov)\", #MGS(mu)(d+1)(EmpCov) 5-NN #SmoteNC (K=5)\n",
    "    n_iter=50,categorical_features= [-2,-1],init_name_file=\"2027-01-07-lgbm_\")\n",
    "print(\"Mean CSO for this case : \",np.mean(list_ncss1))\n",
    "print(\"std : \",np.std(list_ncss1))"
   ]
  },
  {
   "cell_type": "markdown",
   "id": "a86b244c-341d-49b8-8724-d7c2138ad82f",
   "metadata": {},
   "source": [
    "## Plots :"
   ]
  },
  {
   "cell_type": "code",
   "execution_count": null,
   "id": "368ab17a-e38b-4ebd-b91b-f459685d4c5e",
   "metadata": {},
   "outputs": [],
   "source": [
    "list_metric_none1, list_metric_strategy1, list_ncso1, list_ncss1 = compute_metric_and_incoherent(\n",
    "    output_dir=\"../saved_experiments_categorial_features/sim_coh/2025/lgbm/5ksamples/case1\",\n",
    "    list_metric=list_metric,curr_metric= \"avg_pr_auc\",strategy_name = \"MGS(mu)(d+1)(EmpCov) 5-NN\", #MGS(mu)(d+1)(EmpCov) 5-NN #SmoteNC (K=5)\n",
    "    n_iter=50,categorical_features= [-2,-1],init_name_file=\"2027-01-07-lgbm_\")"
   ]
  },
  {
   "cell_type": "code",
   "execution_count": null,
   "id": "506bc0a0-7dae-4c05-8954-5fb94abac1e6",
   "metadata": {},
   "outputs": [],
   "source": [
    "list_metric_none2, list_metric_strategy2, list_ncso2, list_ncss2 = compute_metric_and_incoherent(\n",
    "    output_dir=\"../saved_experiments_categorial_features/sim_coh/2025/lgbm/5ksamples/case2\",\n",
    "    list_metric=list_metric,curr_metric= \"avg_pr_auc\",strategy_name = \"MGS(mu)(d+1)(EmpCov) 5-NN\",\n",
    "    n_iter=50,categorical_features= [-2,-1],init_name_file=\"2027-01-07-lgbm_\")"
   ]
  },
  {
   "cell_type": "code",
   "execution_count": null,
   "id": "d23b583d-32d5-42b7-b78e-cd4231df2243",
   "metadata": {},
   "outputs": [],
   "source": [
    "list_metric_none3, list_metric_strategy3, list_ncso3, list_ncss3 = compute_metric_and_incoherent(\n",
    "    output_dir=\"../saved_experiments_categorial_features/sim_coh/2025/lgbm/5ksamples/case3\",\n",
    "    list_metric=list_metric,curr_metric= \"avg_pr_auc\",strategy_name = \"MGS(mu)(d+1)(EmpCov) 5-NN\",\n",
    "    n_iter=50,categorical_features= [-2,-1],init_name_file=\"2027-01-07-lgbm_\")"
   ]
  },
  {
   "cell_type": "code",
   "execution_count": null,
   "id": "2750336a-c31d-45fa-9e8b-2e6158c102b9",
   "metadata": {},
   "outputs": [],
   "source": [
    "list_metric_none4, list_metric_strategy4, list_ncso4, list_ncss4 = compute_metric_and_incoherent(\n",
    "    output_dir=\"../saved_experiments_categorial_features/sim_coh/2025/lgbm/5ksamples/case4\",\n",
    "    list_metric=list_metric,curr_metric= \"avg_pr_auc\",strategy_name = \"MGS(mu)(d+1)(EmpCov) 5-NN\",\n",
    "    n_iter=50,categorical_features= [-2,-1],init_name_file=\"2027-01-07-lgbm_\")"
   ]
  },
  {
   "cell_type": "code",
   "execution_count": null,
   "id": "5ce25dbe-a27b-4857-b3ad-02267b410661",
   "metadata": {},
   "outputs": [],
   "source": [
    "list_metric_none5, list_metric_strategy5, list_ncso5, list_ncss5 = compute_metric_and_incoherent(\n",
    "    output_dir=\"../saved_experiments_categorial_features/sim_coh/2025/lgbm/5ksamples/case5\",\n",
    "    list_metric=list_metric,curr_metric= \"avg_pr_auc\",strategy_name = \"MGS(mu)(d+1)(EmpCov) 5-NN\",\n",
    "    n_iter=50,categorical_features= [-2,-1],init_name_file=\"2027-01-07-lgbm_\") #n_iter=35 for uniform"
   ]
  },
  {
   "cell_type": "code",
   "execution_count": null,
   "id": "faf7e43e-5ed4-4b5f-af8e-330f6e734c10",
   "metadata": {},
   "outputs": [],
   "source": [
    "## Normal case only\n",
    "list_metric_none6, list_metric_strategy6, list_ncso6, list_ncss6 = compute_metric_and_incoherent(\n",
    "    output_dir=\"../saved_experiments_categorial_features/sim_coh/2025/lgbm/5ksamples/case6\",\n",
    "    list_metric=list_metric,curr_metric= \"avg_pr_auc\",strategy_name = \"MGS(mu)(d+1)(EmpCov) 5-NN\",\n",
    "    n_iter=50,categorical_features= [-2,-1],init_name_file=\"2027-01-07-lgbm_\") #n_iter=35 for uniform"
   ]
  },
  {
   "cell_type": "code",
   "execution_count": null,
   "id": "650a3fb1-1001-4054-bc80-39ad5857b0a2",
   "metadata": {},
   "outputs": [],
   "source": [
    "list_metric_none_drf_1, list_metric_drf_1, list_ncso_drf_1, list_ncss_drf_1 = compute_metric_and_incoherent(\n",
    "    output_dir=\"../saved_experiments_categorial_features/sim_coh/2025/lgbm/5ksamples/case1\",\n",
    "    list_metric=list_metric,curr_metric= \"avg_pr_auc\",strategy_name = \"MGS(mu)(d+1)(EmpCov) 1-NN\",  #MGS(mu)(d+1)(EmpCov) DRFsk classique (mtry=def=sqrt) #MGS(mu)(d+1)(EmpCov) 1-NN \n",
    "    n_iter=50,categorical_features= [-2,-1],init_name_file=\"2027-01-07-lgbm_\")\n",
    "\n",
    "list_metric_none_drf_2, list_metric_drf_2, list_ncso_drf_2, list_ncss_drf_2 = compute_metric_and_incoherent(\n",
    "    output_dir=\"../saved_experiments_categorial_features/sim_coh/2025/lgbm/5ksamples/case2\",\n",
    "    list_metric=list_metric,curr_metric= \"avg_pr_auc\",strategy_name = \"MGS(mu)(d+1)(EmpCov) 1-NN\",\n",
    "    n_iter=50,categorical_features= [-2,-1],init_name_file=\"2027-01-07-lgbm_\")\n",
    "\n",
    "list_metric_none_drf_3, list_metric_drf_3, list_ncso_drf_3, list_ncss_drf_3 = compute_metric_and_incoherent(\n",
    "    output_dir=\"../saved_experiments_categorial_features/sim_coh/2025/lgbm/5ksamples/case3\",\n",
    "    list_metric=list_metric,curr_metric= \"avg_pr_auc\",strategy_name = \"MGS(mu)(d+1)(EmpCov) 1-NN\",\n",
    "    n_iter=50,categorical_features= [-2,-1],init_name_file=\"2027-01-07-lgbm_\")\n",
    "\n",
    "list_metric_none_drf_4, list_metric_drf_4, list_ncso_drf_4, list_ncss_drf_4 = compute_metric_and_incoherent(\n",
    "    output_dir=\"../saved_experiments_categorial_features/sim_coh/2025/lgbm/5ksamples/case4\",\n",
    "    list_metric=list_metric,curr_metric= \"avg_pr_auc\",strategy_name = \"MGS(mu)(d+1)(EmpCov) 1-NN\",\n",
    "    n_iter=50,categorical_features= [-2,-1],init_name_file=\"2027-01-07-lgbm_\")\n",
    "\n",
    "list_metric_none_drf_5, list_metric_drf_5, list_ncso_drf_5, list_ncss_drf_5 = compute_metric_and_incoherent(\n",
    "    output_dir=\"../saved_experiments_categorial_features/sim_coh/2025/lgbm/5ksamples/case5\",\n",
    "    list_metric=list_metric,curr_metric= \"avg_pr_auc\",strategy_name = \"MGS(mu)(d+1)(EmpCov) 1-NN\",\n",
    "    n_iter=50,categorical_features= [-2,-1],init_name_file=\"2027-01-07-lgbm_\")\n",
    "\n",
    "list_metric_none_drf_6, list_metric_drf_6, list_ncso_drf_6, list_ncss_drf_6 = compute_metric_and_incoherent(\n",
    "    output_dir=\"../saved_experiments_categorial_features/sim_coh/2025/lgbm/5ksamples/case6\",\n",
    "    list_metric=list_metric,curr_metric= \"avg_pr_auc\",strategy_name = \"MGS(mu)(d+1)(EmpCov) 1-NN\",\n",
    "    n_iter=50,categorical_features= [-2,-1],init_name_file=\"2027-01-07-lgbm_\")"
   ]
  },
  {
   "cell_type": "code",
   "execution_count": null,
   "id": "c1033061-e8a3-41a0-bd54-9746b36e4ff5",
   "metadata": {},
   "outputs": [],
   "source": [
    "list_metric_none = []\n",
    "list_metric_none.extend(list_metric_none1)\n",
    "list_metric_none.extend(list_metric_none2)\n",
    "list_metric_none.extend(list_metric_none3)\n",
    "list_metric_none.extend(list_metric_none4)\n",
    "list_metric_none.extend(list_metric_none5)\n",
    "list_metric_none.extend(list_metric_none6)\n",
    "array_metric_none = np.array(list_metric_none)\n",
    "\n",
    "list_metric_strategy = []\n",
    "list_metric_strategy.extend(list_metric_strategy1)\n",
    "list_metric_strategy.extend(list_metric_strategy2)\n",
    "list_metric_strategy.extend(list_metric_strategy3)\n",
    "list_metric_strategy.extend(list_metric_strategy4)\n",
    "list_metric_strategy.extend(list_metric_strategy5)\n",
    "list_metric_strategy.extend(list_metric_strategy6)\n",
    "array_metric_smote = np.array(list_metric_strategy)\n",
    "\n",
    "\n",
    "list_ncso = []\n",
    "list_ncso.extend(list_ncso1)\n",
    "list_ncso.extend(list_ncso2)\n",
    "list_ncso.extend(list_ncso3)\n",
    "list_ncso.extend(list_ncso4)\n",
    "list_ncso.extend(list_ncso5)\n",
    "list_ncso.extend(list_ncso6)\n",
    "array_ncso = np.array(list_ncso)\n",
    "\n",
    "list_ncss = []\n",
    "list_ncss.extend(list_ncss1)\n",
    "list_ncss.extend(list_ncss2)\n",
    "list_ncss.extend(list_ncss3)\n",
    "list_ncss.extend(list_ncss4)\n",
    "list_ncss.extend(list_ncss5)\n",
    "list_ncss.extend(list_ncss6)\n",
    "array_ncss = np.array(list_ncss)\n"
   ]
  },
  {
   "cell_type": "code",
   "execution_count": null,
   "id": "89b7ead9-5b41-4dc8-b7a5-8657f5115fd8",
   "metadata": {},
   "outputs": [],
   "source": [
    "list_metric_none_drf = []\n",
    "list_metric_none_drf.extend(list_metric_none_drf_1)\n",
    "list_metric_none_drf.extend(list_metric_none_drf_2)\n",
    "list_metric_none_drf.extend(list_metric_none_drf_3)\n",
    "list_metric_none_drf.extend(list_metric_none_drf_4)\n",
    "list_metric_none_drf.extend(list_metric_none_drf_5)\n",
    "list_metric_none_drf.extend(list_metric_none_drf_6)\n",
    "array_metric_none_drf = np.array(list_metric_none_drf)\n",
    "\n",
    "\n",
    "list_metric_drf = []\n",
    "list_metric_drf.extend(list_metric_drf_1)\n",
    "list_metric_drf.extend(list_metric_drf_2)\n",
    "list_metric_drf.extend(list_metric_drf_3)\n",
    "list_metric_drf.extend(list_metric_drf_4)\n",
    "list_metric_drf.extend(list_metric_drf_5)\n",
    "list_metric_drf.extend(list_metric_drf_6)\n",
    "array_metric_drf = np.array(list_metric_drf)\n",
    "\n",
    "\n",
    "list_ncso_drf = []\n",
    "list_ncso_drf.extend(list_ncso_drf_1)\n",
    "list_ncso_drf.extend(list_ncso_drf_2)\n",
    "list_ncso_drf.extend(list_ncso_drf_3)\n",
    "list_ncso_drf.extend(list_ncso_drf_4)\n",
    "list_ncso_drf.extend(list_ncso_drf_5)\n",
    "list_ncso_drf.extend(list_ncso_drf_6)\n",
    "array_ncso_drf = np.array(list_ncso_drf)\n",
    "\n",
    "list_ncss_drf = []\n",
    "list_ncss_drf.extend(list_ncss_drf_1)\n",
    "list_ncss_drf.extend(list_ncss_drf_2)\n",
    "list_ncss_drf.extend(list_ncss_drf_3)\n",
    "list_ncss_drf.extend(list_ncss_drf_4)\n",
    "list_ncss_drf.extend(list_ncss_drf_5)\n",
    "list_ncss_drf.extend(list_ncss_drf_6)\n",
    "array_ncss_drf = np.array(list_ncss_drf)"
   ]
  },
  {
   "cell_type": "code",
   "execution_count": null,
   "id": "538a0330-9016-4409-8894-fd567615cd91",
   "metadata": {},
   "outputs": [],
   "source": [
    "from sklearn.linear_model import LinearRegression"
   ]
  },
  {
   "cell_type": "code",
   "execution_count": null,
   "id": "4ab04520-e496-4f34-b620-df659ece37b1",
   "metadata": {},
   "outputs": [],
   "source": [
    "x_grid = np.arange(-0.1,1.1,0.01)\n",
    "lin_reg_smote = LinearRegression()\n",
    "lin_reg_smote.fit(array_metric_none.reshape(-1, 1),array_metric_smote)\n",
    "pred_lin_reg_smote = lin_reg_smote.predict(x_grid.reshape(-1, 1))"
   ]
  },
  {
   "cell_type": "code",
   "execution_count": null,
   "id": "19fa8e03-e1d6-4fbd-a375-7a8e49f7a120",
   "metadata": {},
   "outputs": [],
   "source": [
    "x_grid = np.arange(-0.1,1.1,0.01)\n",
    "lin_reg_drf = LinearRegression()\n",
    "lin_reg_drf.fit(array_metric_none.reshape(-1, 1),array_metric_drf)\n",
    "pred_lin_reg_drf = lin_reg_drf.predict(x_grid.reshape(-1, 1))"
   ]
  },
  {
   "cell_type": "code",
   "execution_count": null,
   "id": "b4c950f5-5202-43b6-b15b-a3c766aaf853",
   "metadata": {},
   "outputs": [],
   "source": [
    "plt.figure(figsize=(9, 6))\n",
    "zs = np.concatenate([1-array_ncss, 1-array_ncss_drf,], axis=0)\n",
    "min_, max_ = zs.min(), zs.max()\n",
    "\n",
    "plt.scatter(array_metric_none,array_metric_smote,label=\"MGS-5NN\",c=1-array_ncss,cmap=\"Blues\",marker='s')\n",
    "plt.clim(min_, max_)\n",
    "plt.scatter(array_metric_none,array_metric_drf,label=\"MGS-1NN\",c=1-array_ncss_drf,cmap=\"Blues\",marker='o') #RdYlGn\n",
    "plt.clim(min_, max_)\n",
    "#cax = fig.add_axes([0.94, 0.1, 0.05, 0.75])  # [left, bottom, width 5% of figure width, height 75% of figure height]\n",
    "plt.colorbar().set_label('Coh',fontsize=15,labelpad=-30,y=1.05,rotation=0)\n",
    "plt.plot(x_grid,pred_lin_reg_smote,c='blue',linestyle='-') #label=\"SMOTE-NC fit\"\n",
    "\n",
    "\n",
    "plt.plot(x_grid,pred_lin_reg_drf,c='blue',linestyle='--')  #label=\"MGS-GRF fit\"\n",
    "plt.plot(x_grid,x_grid,c='grey',alpha=0.8)\n",
    "\n",
    "\n",
    "plt.xlabel(\"PR AUC None\",fontsize=20)\n",
    "plt.ylabel(\"PR AUC strategy\",fontsize=20)\n",
    "plt.title(\"\")\n",
    "plt.xlim([-0.01,1.01])\n",
    "plt.ylim([-0.01,1.01])\n",
    "plt.legend(bbox_to_anchor =(0.5,-0.28),ncol=4, loc='lower center',fontsize=20) #handlelength=0.5\n",
    "plt.savefig(\"sim2-normalv2-lin-2.pdf\",bbox_inches='tight')\n",
    "plt.show()"
   ]
  },
  {
   "cell_type": "code",
   "execution_count": null,
   "id": "fe30b413-f5dc-452f-ab1b-bf58ca2ff2f2",
   "metadata": {},
   "outputs": [],
   "source": [
    "from sklearn.preprocessing import PolynomialFeatures"
   ]
  },
  {
   "cell_type": "code",
   "execution_count": null,
   "id": "d6d99dc0-7885-4091-a0e9-9cbe494d3c45",
   "metadata": {},
   "outputs": [],
   "source": [
    "x_grid = np.arange(-0.1,1.1,0.01)\n",
    "poly = PolynomialFeatures(degree=2)\n",
    "array_metric_none_poly = poly.fit_transform(array_metric_none.reshape(-1, 1))\n",
    "x_grid_poly = poly.transform(x_grid.reshape(-1, 1))\n",
    "lin_reg_smote_poly = LinearRegression()\n",
    "lin_reg_smote_poly.fit(array_metric_none_poly,array_metric_smote)\n",
    "pred_lin_reg_poly_smote = lin_reg_smote_poly.predict(x_grid_poly)"
   ]
  },
  {
   "cell_type": "code",
   "execution_count": null,
   "id": "ee6f93f6-9f38-449c-925b-0ea23879b2c0",
   "metadata": {},
   "outputs": [],
   "source": [
    "x_grid = np.arange(-0.1,1.1,0.01)\n",
    "poly = PolynomialFeatures(degree=2)\n",
    "array_metric_none_poly = poly.fit_transform(array_metric_none.reshape(-1, 1))\n",
    "x_grid_poly = poly.transform(x_grid.reshape(-1, 1))\n",
    "lin_reg_drf_poly = LinearRegression()\n",
    "lin_reg_drf_poly.fit(array_metric_none_poly,array_metric_drf)\n",
    "pred_lin_reg_poly_drf = lin_reg_drf_poly.predict(x_grid_poly)"
   ]
  },
  {
   "cell_type": "code",
   "execution_count": null,
   "id": "2fe60c4e-e2a0-4760-a477-ce32f70aea6f",
   "metadata": {
    "scrolled": true
   },
   "outputs": [],
   "source": [
    "plt.figure(figsize=(9, 6))\n",
    "zs = np.concatenate([1-array_ncss, 1-array_ncss_drf,], axis=0)\n",
    "min_, max_ = zs.min(), zs.max()\n",
    "\n",
    "plt.scatter(array_metric_none,array_metric_smote,label=\"MGS-5NN\",c=1-array_ncss,cmap=\"Blues\",marker='s')\n",
    "plt.clim(min_, max_)\n",
    "plt.scatter(array_metric_none,array_metric_drf,label=\"MGS-1NN\",c=1-array_ncss_drf,cmap=\"Blues\",marker='o') #RdYlGn\n",
    "plt.clim(min_, max_)\n",
    "#cax = fig.add_axes([0.94, 0.1, 0.05, 0.75])  # [left, bottom, width 5% of figure width, height 75% of figure height]\n",
    "plt.colorbar().set_label('Coh',fontsize=15,labelpad=-30,y=1.05,rotation=0)\n",
    "plt.plot(x_grid,pred_lin_reg_poly_smote,c='blue',linestyle='-') #label=\"SMOTE-NC fit\"\n",
    "\n",
    "\n",
    "plt.plot(x_grid,pred_lin_reg_poly_drf,c='blue',linestyle='--')  #label=\"MGS-GRF fit\"\n",
    "plt.plot(x_grid,x_grid,c='grey',alpha=0.8)\n",
    "\n",
    "\n",
    "plt.xlabel(\"PR AUC None\",fontsize=20)\n",
    "plt.ylabel(\"PR AUC strategy\",fontsize=20)\n",
    "plt.title(\"\")\n",
    "plt.xlim([-0.01,1.01])\n",
    "plt.ylim([-0.01,1.01])\n",
    "plt.legend(bbox_to_anchor =(0.5,-0.28),ncol=4, loc='lower center',fontsize=20) #handlelength=0.5\n",
    "plt.savefig(\"sim2-normalv2-quadratic-2.pdf\",bbox_inches='tight')\n",
    "plt.show()"
   ]
  },
  {
   "cell_type": "markdown",
   "id": "6df03787-dd8f-4f24-b99c-7f43e0056447",
   "metadata": {},
   "source": [
    "## Runing time derivation :"
   ]
  },
  {
   "cell_type": "code",
   "execution_count": null,
   "id": "10364662-c8ee-4b2d-a5fd-d32660aeaabd",
   "metadata": {},
   "outputs": [],
   "source": [
    "def average_runing_time(output_dir_path,init_name_file,n_iter=50):\n",
    "    df_final = pd.DataFrame()\n",
    "    for i in range(n_iter):\n",
    "        name_file = init_name_file + str(i) + \".csv\"\n",
    "        curr_df = pd.read_csv(os.path.join(output_dir_path, \"runtime\" + name_file))\n",
    "        df_final = pd.concat([df_final,curr_df],axis=0)\n",
    "    return df_final.reset_index(drop=True)\n"
   ]
  },
  {
   "cell_type": "code",
   "execution_count": null,
   "id": "5650a486-aa0a-463d-a822-fe5a84edf0a2",
   "metadata": {},
   "outputs": [],
   "source": [
    "df = average_runing_time(output_dir_path=\"../saved_experiments_categorial_features/sim_coh/2025/lgbm/5ksamples/case2\",\n",
    "                    init_name_file=\"2027-01-07-lgbm_\",\n",
    "                    n_iter=50)\n",
    "df.mean(axis=0).to_frame().T.style.format(precision=2).highlight_max(props='font-weight:bold;color:#090E19', axis = 1)"
   ]
  },
  {
   "cell_type": "code",
   "execution_count": null,
   "id": "d55ed74b-ee9c-4f8e-a489-c39e1d05404c",
   "metadata": {},
   "outputs": [],
   "source": [
    "df.std(axis=0).to_frame().T.style.format(precision=2).highlight_max(props='font-weight:bold;color:#090E19', axis = 1)"
   ]
  },
  {
   "cell_type": "code",
   "execution_count": null,
   "id": "2e2f86c6-843a-418d-b56c-a15e8881f2d9",
   "metadata": {},
   "outputs": [],
   "source": [
    "df = average_runing_time(output_dir_path=\"../saved_experiments_categorial_features/sim_coh/2025/lgbm/5ksamples/case2\",\n",
    "                    init_name_file=\"2027-01-07-lgbm_\",\n",
    "                    n_iter=50)\n",
    "df.mean(axis=0).to_frame().T.style.format(precision=2).highlight_max(props='font-weight:bold;color:#090E19', axis = 1)"
   ]
  },
  {
   "cell_type": "code",
   "execution_count": null,
   "id": "be88d8cc-1688-4390-96c1-dc1cb104848c",
   "metadata": {},
   "outputs": [],
   "source": [
    "df.std(axis=0).to_frame().T.style.format(precision=2).highlight_max(props='font-weight:bold;color:#090E19', axis = 1)"
   ]
  },
  {
   "cell_type": "markdown",
   "id": "80367ede-b5e4-4c06-896b-cc7b6d3f5ae2",
   "metadata": {},
   "source": [
    "## Plot samp ratio :"
   ]
  },
  {
   "cell_type": "code",
   "execution_count": null,
   "id": "6b937d9d-b591-4537-ad2d-9146a969c2af",
   "metadata": {},
   "outputs": [],
   "source": [
    "def compute_runs_over_samp(list_samps,strategies,init_output_dir_path,init_name_file,n_iter=20,n_fold=5):\n",
    "    array_res_mean = np.zeros((len(list_samps),len(strategies)))\n",
    "    array_res_std = np.zeros((len(list_samps),len(strategies)))\n",
    "    \n",
    "    for i,samp in enumerate(list_samps) :\n",
    "        output_dir_path =init_output_dir_path +str(samp)\n",
    "        df_final_mean,df_final_std = compute_metrics_several_protocols(\n",
    "            output_dir=output_dir_path,\n",
    "            init_name_file=init_name_file,\n",
    "            list_metric=list_metric,\n",
    "            bool_roc_auc_only=False,n_iter=n_iter,n_fold=n_fold)\n",
    "        for j,strat in enumerate(strategies) :\n",
    "            array_res_mean[i,j] = df_final_mean.loc['avg_pr_auc'][strat]\n",
    "            array_res_std[i,j] = df_final_std.loc['avg_pr_auc'][strat]\n",
    "    \n",
    "    array_res_mean_with_dim = np.hstack((np.array(list_samps).reshape(-1,1),array_res_mean))\n",
    "    array_res_std_with_dim = np.hstack((np.array(list_samps).reshape(-1,1),array_res_std))\n",
    "    columns_with_dim = ['n_samples_min']\n",
    "    columns_with_dim.extend(strategies)\n",
    "    df_res_mean= pd.DataFrame(array_res_mean_with_dim,columns=columns_with_dim)\n",
    "    df_res_std= pd.DataFrame(array_res_std_with_dim,columns=columns_with_dim)\n",
    "    return df_res_mean,df_res_std\n",
    "    \n",
    "def plot_(df,df_std,xlim=[-0.1,510],ylim=[0.55,1.0],fontsize=20,plot_error_fill=False,title='',\n",
    "         name_strats_to_plot= None,to_save=False,name_file_saving='img.pdf'):\n",
    "    plt.figure(figsize=(12,8))\n",
    "    list_start = df.columns.tolist()[1:]\n",
    "    list_fmt= ['o','v','^','s','*','8']*((len(list_start) // 6)+1)\n",
    "    list_colors = ['#1f77b4', '#ff7f0e', '#2ca02c', '#d62728', '#9467bd', '#8c564b', '#e377c2',\n",
    "                   '#7f7f7f', '#bcbd22', '#17becf'] *((len(list_start) // 10)+1)\n",
    "    for i,strat in enumerate(list_start):\n",
    "        if plot_error_fill:\n",
    "            if name_strats_to_plot :\n",
    "                name_strat= name_strats_to_plot[i]\n",
    "            else:\n",
    "                name_strat=strat\n",
    "            #plt.errorbar(df[['n_samples_min']].values.ravel(),df[[strat]].values.ravel(),\n",
    "            #                 yerr=df_std[[strat]].values.ravel(),fmt=list_fmt[i], markersize=3,elinewidth=0.5, capsize=6,label=name_strat\n",
    "            #                )\n",
    "            plt.plot(df[['n_samples_min']].values.ravel(),df[[strat]].values.ravel(), \n",
    "                     marker=list_fmt[i],linestyle=\"--\", label=name_strat,c=list_colors[i],\n",
    "                    )\n",
    "            plt.fill_between(df[['n_samples_min']].values.ravel(),df[[strat]].values.ravel()- df_std[[strat]].values.ravel(),\n",
    "                             df[[strat]].values.ravel()+ df_std[[strat]].values.ravel(),color=list_colors[i], alpha=0.2\n",
    "                            )\n",
    "        else:\n",
    "            plt.plot(df[['n_samples_min']],df[[strat]],linestyle=\"--\")\n",
    "            plt.scatter(df[['n_samples_min']],df[[strat]],label=strat)\n",
    "\n",
    "    plt.axvline(x = 3600, color = 'gray',alpha=0.8, label = 'Equilibrium')\n",
    "    plt.xlim(xlim)\n",
    "    plt.ylim(ylim)\n",
    "    plt.title(title,fontsize=fontsize)\n",
    "    plt.xlabel(\"n final\",fontsize=fontsize)\n",
    "    plt.ylabel(\"PR AUC\",fontsize=fontsize)\n",
    "    #plt.legend(fontsize=fontsize)\n",
    "    plt.legend(bbox_to_anchor =(0.5,-0.38),ncol=3, loc='lower center',fontsize=fontsize)\n",
    "    if to_save:\n",
    "        plt.savefig(name_file_saving,bbox_inches='tight')\n",
    "    plt.show()"
   ]
  },
  {
   "cell_type": "code",
   "execution_count": null,
   "id": "7d194682-3ec8-4d35-a8f3-b7922e8ae6da",
   "metadata": {},
   "outputs": [],
   "source": [
    "df_res_mean,df_res_std = compute_runs_over_samp(list_samps=[200, 750, 1000, 1500, 2000, 2500, 3000, 3600, 5000], \n",
    "                             strategies=['None','SmoteNC (K=5)','MGS(mu)(d+1)(EmpCov) 1-NN',\n",
    "                                         'MGS(mu)(d+1)(EmpCov) 5-NN','MGS(mu)(d+1)(EmpCov) DRFsk classique (mtry=def=sqrt)',],\n",
    "                             init_output_dir_path=\"../saved_experiments_categorial_features/sim_coh/2025/lgbm/5ksamples/case6/\",\n",
    "                             init_name_file='2027-01-07-lgbm_', n_fold=1,n_iter=50)"
   ]
  },
  {
   "cell_type": "code",
   "execution_count": null,
   "id": "900d5d9a-be1f-44de-a834-69ddf49491a4",
   "metadata": {},
   "outputs": [],
   "source": [
    "plot_(df=df_res_mean,\n",
    "      df_std=df_res_std,\n",
    "      xlim=[100,5500],ylim=[0.,1.02],plot_error_fill=True,fontsize=20,\n",
    "     name_strats_to_plot =['None','SMOTE-NC','MGS-1NN','MGS-kNN','MGS-GRF'],\n",
    "     title=\"\",to_save=True,name_file_saving='2025-images/sim1-samp-ratio.pdf')"
   ]
  },
  {
   "cell_type": "code",
   "execution_count": null,
   "id": "091fe453-f54e-4b93-baf2-092a70ede999",
   "metadata": {},
   "outputs": [],
   "source": [
    "df_res_mean,df_res_std = compute_runs_over_samp(list_samps=[450, 750, 1000, 1500, 2000, 2500, 3000, 3600, 5000, 6000], \n",
    "                             strategies=['None','SmoteNC (K=5)','MGS(mu)(d+1)(EmpCov) 1-NN',\n",
    "                                         'MGS(mu)(d+1)(EmpCov) 5-NN','MGS(mu)(d+1)(EmpCov) DRFsk classique (mtry=def=sqrt)',],\n",
    "                             init_output_dir_path=\"../saved_experiments_categorial_features/sim_coh/2025/lgbm/5ksamples/case4/\",\n",
    "                             init_name_file='2027-01-07-lgbm_', n_fold=1,n_iter=50)"
   ]
  },
  {
   "cell_type": "code",
   "execution_count": null,
   "id": "bdbe36f1-a10e-4871-8c70-15b2e99150b4",
   "metadata": {
    "scrolled": true
   },
   "outputs": [],
   "source": [
    "plot_(df=df_res_mean,\n",
    "      df_std=df_res_std,\n",
    "      xlim=[100,5500],ylim=[0.,1.01],plot_error_fill=True,fontsize=20,\n",
    "     name_strats_to_plot =['None','SMOTE-NC','MGS-1NN','MGS-kNN','MGS-GRF'],\n",
    "     title=\"\",to_save=True,name_file_saving='2025-images/sim1-samp-ratio.pdf')"
   ]
  },
  {
   "cell_type": "code",
   "execution_count": null,
   "id": "c1c45c03-976d-4f6e-ba7e-7091fb4ed6f0",
   "metadata": {},
   "outputs": [],
   "source": [
    "df_res_mean,df_res_std = compute_runs_over_samp(list_samps=[450, 750, 1000, 1500, 2000, 2500, 3000, 3600, 5000, 6000], \n",
    "                             strategies=['None','SmoteNC (K=5)','MGS(mu)(d+1)(EmpCov) 1-NN',\n",
    "                                         'MGS(mu)(d+1)(EmpCov) 5-NN','MGS(mu)(d+1)(EmpCov) DRFsk classique (mtry=def=sqrt)',],\n",
    "                             init_output_dir_path=\"../saved_experiments_categorial_features/sim_coh/2025/lgbm/5ksamples/case5/\",\n",
    "                             init_name_file='2027-01-07-lgbm_', n_fold=1,n_iter=50)"
   ]
  },
  {
   "cell_type": "code",
   "execution_count": null,
   "id": "31aa627c-8e68-4d29-ae73-e9ae1df60a9f",
   "metadata": {},
   "outputs": [],
   "source": [
    "plot_(df=df_res_mean,\n",
    "      df_std=df_res_std,\n",
    "      xlim=[100,5500],ylim=[0.,1.01],plot_error_fill=True,fontsize=20,\n",
    "     name_strats_to_plot =['None','SMOTE-NC','MGS-1NN','MGS-kNN','MGS-GRF'],\n",
    "     title=\"\",to_save=True,name_file_saving='2025-images/sim1-samp-ratio.pdf')"
   ]
  },
  {
   "cell_type": "code",
   "execution_count": null,
   "id": "f2e70a02-3e1d-47f8-a6f7-ebeaf0df98b4",
   "metadata": {},
   "outputs": [],
   "source": []
  }
 ],
 "metadata": {
  "kernelspec": {
   "display_name": "Python 3 (ipykernel)",
   "language": "python",
   "name": "python3"
  },
  "language_info": {
   "codemirror_mode": {
    "name": "ipython",
    "version": 3
   },
   "file_extension": ".py",
   "mimetype": "text/x-python",
   "name": "python",
   "nbconvert_exporter": "python",
   "pygments_lexer": "ipython3",
   "version": "3.11.9"
  }
 },
 "nbformat": 4,
 "nbformat_minor": 5
}
