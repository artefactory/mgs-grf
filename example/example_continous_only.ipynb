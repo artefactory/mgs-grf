{
 "cells": [
  {
   "cell_type": "markdown",
   "metadata": {},
   "source": [
    "<center><h1  style=\"color:white; background-color:#000000; border-radius: 0px; padding:25px;\"> Oversampling mixed data-set with MGS-GRF </h1></center>"
   ]
  },
  {
   "cell_type": "markdown",
   "metadata": {},
   "source": [
    "This notebook illustrates the way of uysing our propposed method with an example."
   ]
  },
  {
   "cell_type": "code",
   "execution_count": null,
   "metadata": {},
   "outputs": [],
   "source": [
    "import os\n",
    "import sys\n",
    "sys.path.insert(1, os.path.abspath(os.path.join(os.getcwd(), os.pardir)))\n",
    "from pathlib import Path\n",
    "from collections import Counter"
   ]
  },
  {
   "cell_type": "code",
   "execution_count": null,
   "metadata": {},
   "outputs": [],
   "source": [
    "import lightgbm as lgb\n",
    "import numpy as np\n",
    "from sklearn.model_selection import train_test_split\n",
    "from sklearn.metrics import average_precision_score\n",
    "\n",
    "from mgs_grf import MGSGRFOverSampler"
   ]
  },
  {
   "cell_type": "markdown",
   "metadata": {},
   "source": [
    "<center><h1  style=\"color:white; background-color:#808b96; border-radius: 10px; padding:15px;\"> BankChurners data </h1></center>"
   ]
  },
  {
   "cell_type": "markdown",
   "metadata": {},
   "source": [
    "## Import data and split\n"
   ]
  },
  {
   "cell_type": "code",
   "execution_count": null,
   "metadata": {},
   "outputs": [],
   "source": [
    "## Import of the original data\n",
    "from experiments.data.data import load_BankChurners_data_\n",
    "\n",
    "X, y = load_BankChurners_data_()\n",
    "numeric_features = [0,2,7,8,9,10,11,12,13,14,15,16,17,18]\n",
    "X = X[:,numeric_features]"
   ]
  },
  {
   "cell_type": "code",
   "execution_count": null,
   "metadata": {},
   "outputs": [],
   "source": [
    "## Splitting the data intro train and test set\n",
    "X_train_imbalanced, X_test, y_train_imbalanced, y_test = train_test_split(X, y, test_size=0.2, random_state=0)\n",
    "print(\"Bankchurners 1% imbalance ratio : \", Counter(y_train_imbalanced))"
   ]
  },
  {
   "cell_type": "markdown",
   "metadata": {},
   "source": [
    "## Apply MGS-GRF and compare to applying no rebalacing strategies"
   ]
  },
  {
   "cell_type": "code",
   "execution_count": null,
   "metadata": {},
   "outputs": [],
   "source": [
    "## Apply MGS-GRF procedure to oversample the data\n",
    "mgs_grf = MGSGRFOverSampler(K=len(numeric_features), random_state=0)\n",
    "X_train_balanced, y_train_balanced = mgs_grf.fit_resample(X_train_imbalanced, y_train_imbalanced)\n",
    "print(\"Augmented data : \", Counter(y_train_balanced))"
   ]
  },
  {
   "cell_type": "code",
   "execution_count": null,
   "metadata": {},
   "outputs": [],
   "source": [
    "## Encode the categorical variables\n",
    "enc = OneHotEncoder(handle_unknown=\"ignore\", sparse_output=False)\n",
    "X_train_balanced_enc = np.hstack((X_train_balanced[:,numeric_features],\n",
    "                                  enc.fit_transform(X_train_balanced[:,categorical_features])))\n",
    "X_test_enc = np.hstack((X_test[:,numeric_features], enc.transform(X_test[:,categorical_features])))\n",
    "\n",
    "# Fit the final classifier on the augmented data\n",
    "clf = lgb.LGBMClassifier(n_estimators=100, verbosity=-1, random_state=0)\n",
    "clf.fit(X_train_balanced_enc, y_train_balanced)\n",
    "\n",
    "## Evaluation on test set\n",
    "y_pred_probas_mgs_grf = clf.predict_proba(X_test_enc)[:,1]\n",
    "print(\"PR AUC induced by MGS-GRF : \", average_precision_score(y_test, y_pred_probas_mgs_grf))"
   ]
  },
  {
   "cell_type": "code",
   "execution_count": null,
   "metadata": {},
   "outputs": [],
   "source": [
    "## Comparison when applying no rebalancing strategy\n",
    "X_train_imbalanced_enc = np.hstack((X_train_imbalanced[:,numeric_features],\n",
    "                                    enc.fit_transform(X_train_imbalanced[:,categorical_features])))\n",
    "clf_imbalanced = lgb.LGBMClassifier(n_estimators=100, verbosity=-1, random_state=0)\n",
    "clf_imbalanced.fit(X_train_imbalanced_enc, y_train_imbalanced)\n",
    "\n",
    "y_pred_probas_imbalanced = clf_imbalanced.predict_proba(X_test_enc)[:,1]\n",
    "print(\"PR AUC induced by applying no rebalancing strategy : \", average_precision_score(y_test, y_pred_probas_imbalanced))"
   ]
  },
  {
   "cell_type": "markdown",
   "metadata": {},
   "source": [
    "<center><h1  style=\"color:white; background-color:#808b96; border-radius: 10px; padding:15px;\"> END </h1></center>"
   ]
  }
 ],
 "metadata": {
  "kernelspec": {
   "display_name": "Python 3 (ipykernel)",
   "language": "python",
   "name": "python3"
  },
  "language_info": {
   "codemirror_mode": {
    "name": "ipython",
    "version": 3
   },
   "file_extension": ".py",
   "mimetype": "text/x-python",
   "name": "python",
   "nbconvert_exporter": "python",
   "pygments_lexer": "ipython3",
   "version": "3.13.5"
  }
 },
 "nbformat": 4,
 "nbformat_minor": 4
}
