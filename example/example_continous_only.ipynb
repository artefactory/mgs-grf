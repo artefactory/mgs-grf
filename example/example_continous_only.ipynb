{
 "cells": [
  {
   "cell_type": "markdown",
   "metadata": {},
   "source": [
    "<center><h1  style=\"color:white; background-color:#000000; border-radius: 0px; padding:25px;\"> Oversampling mixed data-set with MGS-GRF </h1></center>"
   ]
  },
  {
   "cell_type": "markdown",
   "metadata": {},
   "source": [
    "This notebook illustrates the way of uysing our propposed method with an example."
   ]
  },
  {
   "cell_type": "code",
   "execution_count": 1,
   "metadata": {},
   "outputs": [],
   "source": [
    "import os\n",
    "import sys\n",
    "sys.path.insert(1, os.path.abspath(os.path.join(os.getcwd(), os.pardir)))\n",
    "from pathlib import Path\n",
    "from collections import Counter"
   ]
  },
  {
   "cell_type": "code",
   "execution_count": 2,
   "metadata": {},
   "outputs": [],
   "source": [
    "import lightgbm as lgb\n",
    "import numpy as np\n",
    "from sklearn.model_selection import train_test_split\n",
    "from sklearn.metrics import average_precision_score\n",
    "\n",
    "from mgs_grf import MGSGRFOverSampler"
   ]
  },
  {
   "cell_type": "markdown",
   "metadata": {},
   "source": [
    "<center><h1  style=\"color:white; background-color:#808b96; border-radius: 10px; padding:15px;\"> BankChurners data </h1></center>"
   ]
  },
  {
   "cell_type": "markdown",
   "metadata": {},
   "source": [
    "## Import data and split\n"
   ]
  },
  {
   "cell_type": "code",
   "execution_count": 3,
   "metadata": {},
   "outputs": [],
   "source": [
    "## Import of the original data\n",
    "from experiments.data.data import load_BankChurners_data_\n",
    "\n",
    "X, y = load_BankChurners_data_()\n",
    "numeric_features = [0,2,7,8,9,10,11,12,13,14,15,16,17,18]\n",
    "X = X[:,numeric_features]"
   ]
  },
  {
   "cell_type": "code",
   "execution_count": 4,
   "metadata": {},
   "outputs": [
    {
     "name": "stdout",
     "output_type": "stream",
     "text": [
      "Bankchurners 1% imbalance ratio :  Counter({0: 6802, 1: 66})\n"
     ]
    }
   ],
   "source": [
    "## Splitting the data intro train and test set\n",
    "X_train_imbalanced, X_test, y_train_imbalanced, y_test = train_test_split(X, y, test_size=0.2, random_state=0)\n",
    "print(\"Bankchurners 1% imbalance ratio : \", Counter(y_train_imbalanced))"
   ]
  },
  {
   "cell_type": "code",
   "execution_count": 5,
   "metadata": {},
   "outputs": [
    {
     "data": {
      "text/plain": [
       "array([[59, 1, 51, ..., 103, 0.717, 0.071],\n",
       "       [48, 2, 27, ..., 80, 0.86, 0.339],\n",
       "       [57, 1, 41, ..., 75, 0.562, 0.696],\n",
       "       ...,\n",
       "       [44, 4, 34, ..., 68, 0.619, 0.632],\n",
       "       [50, 3, 38, ..., 41, 0.64, 0.187],\n",
       "       [59, 1, 53, ..., 33, 0.32, 0.346]], dtype=object)"
      ]
     },
     "execution_count": 5,
     "metadata": {},
     "output_type": "execute_result"
    }
   ],
   "source": [
    "X_train_imbalanced"
   ]
  },
  {
   "cell_type": "markdown",
   "metadata": {},
   "source": [
    "## Apply MGS-GRF and compare to applying no rebalacing strategies"
   ]
  },
  {
   "cell_type": "code",
   "execution_count": 6,
   "metadata": {},
   "outputs": [
    {
     "name": "stdout",
     "output_type": "stream",
     "text": [
      "Augmented data :  Counter({0: 6802, 1: 6802})\n"
     ]
    },
    {
     "name": "stderr",
     "output_type": "stream",
     "text": [
      "/home/abdoulaye_sakho/S2/mgs-grf/mgs_grf/over_sampling.py:372: UserWarning: MGSGRFOverSampler called with continuous features only.\n",
      "  warnings.warn('MGSGRFOverSampler called with continuous features only.')\n"
     ]
    }
   ],
   "source": [
    "## Apply MGS-GRF procedure to oversample the data\n",
    "mgs_grf = MGSGRFOverSampler(random_state=0)\n",
    "X_train_balanced, y_train_balanced = mgs_grf.fit_resample(X_train_imbalanced, y_train_imbalanced)\n",
    "print(\"Augmented data : \", Counter(y_train_balanced))"
   ]
  },
  {
   "cell_type": "code",
   "execution_count": 7,
   "metadata": {},
   "outputs": [
    {
     "name": "stdout",
     "output_type": "stream",
     "text": [
      "PR AUC induced by MGS-GRF :  0.5993393573877037\n"
     ]
    },
    {
     "name": "stderr",
     "output_type": "stream",
     "text": [
      "/home/abdoulaye_sakho/miniconda3/envs/dev_env/lib/python3.11/site-packages/sklearn/utils/deprecation.py:151: FutureWarning: 'force_all_finite' was renamed to 'ensure_all_finite' in 1.6 and will be removed in 1.8.\n",
      "  warnings.warn(\n",
      "/home/abdoulaye_sakho/miniconda3/envs/dev_env/lib/python3.11/site-packages/sklearn/utils/deprecation.py:151: FutureWarning: 'force_all_finite' was renamed to 'ensure_all_finite' in 1.6 and will be removed in 1.8.\n",
      "  warnings.warn(\n"
     ]
    }
   ],
   "source": [
    "# Fit the final classifier on the augmented data\n",
    "clf = lgb.LGBMClassifier(n_estimators=100, verbosity=-1, random_state=0)\n",
    "clf.fit(X_train_balanced, y_train_balanced)\n",
    "\n",
    "## Evaluation on test set\n",
    "y_pred_probas_mgs_grf = clf.predict_proba(X_test)[:,1]\n",
    "print(\"PR AUC induced by MGS-GRF : \", average_precision_score(y_test, y_pred_probas_mgs_grf))"
   ]
  },
  {
   "cell_type": "code",
   "execution_count": 8,
   "metadata": {},
   "outputs": [
    {
     "name": "stderr",
     "output_type": "stream",
     "text": [
      "/home/abdoulaye_sakho/miniconda3/envs/dev_env/lib/python3.11/site-packages/sklearn/utils/deprecation.py:151: FutureWarning: 'force_all_finite' was renamed to 'ensure_all_finite' in 1.6 and will be removed in 1.8.\n",
      "  warnings.warn(\n"
     ]
    },
    {
     "name": "stdout",
     "output_type": "stream",
     "text": [
      "PR AUC induced by applying no rebalancing strategy :  0.44497912661955746\n"
     ]
    },
    {
     "name": "stderr",
     "output_type": "stream",
     "text": [
      "/home/abdoulaye_sakho/miniconda3/envs/dev_env/lib/python3.11/site-packages/sklearn/utils/deprecation.py:151: FutureWarning: 'force_all_finite' was renamed to 'ensure_all_finite' in 1.6 and will be removed in 1.8.\n",
      "  warnings.warn(\n"
     ]
    }
   ],
   "source": [
    "## Comparison when applying no rebalancing strategy\n",
    "clf_imbalanced = lgb.LGBMClassifier(n_estimators=100, verbosity=-1, random_state=0)\n",
    "clf_imbalanced.fit(X_train_imbalanced, y_train_imbalanced)\n",
    "\n",
    "y_pred_probas_imbalanced = clf_imbalanced.predict_proba(X_test)[:,1]\n",
    "print(\"PR AUC induced by applying no rebalancing strategy : \", average_precision_score(y_test, y_pred_probas_imbalanced))"
   ]
  },
  {
   "cell_type": "markdown",
   "metadata": {},
   "source": [
    "<center><h1  style=\"color:white; background-color:#808b96; border-radius: 10px; padding:15px;\"> END </h1></center>"
   ]
  },
  {
   "cell_type": "markdown",
   "metadata": {},
   "source": []
  }
 ],
 "metadata": {
  "kernelspec": {
   "display_name": "Python 3 (ipykernel)",
   "language": "python",
   "name": "python3"
  },
  "language_info": {
   "codemirror_mode": {
    "name": "ipython",
    "version": 3
   },
   "file_extension": ".py",
   "mimetype": "text/x-python",
   "name": "python",
   "nbconvert_exporter": "python",
   "pygments_lexer": "ipython3",
   "version": "3.11.9"
  }
 },
 "nbformat": 4,
 "nbformat_minor": 4
}
