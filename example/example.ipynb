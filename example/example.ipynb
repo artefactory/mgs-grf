{
 "cells": [
  {
   "cell_type": "markdown",
   "metadata": {},
   "source": [
    "<center><h1  style=\"color:white; background-color:#000000; border-radius: 0px; padding:25px;\"> MGS-GRF </h1></center>"
   ]
  },
  {
   "cell_type": "markdown",
   "metadata": {},
   "source": [
    "This notebook illustrates the way of uysing our propposed method with an example."
   ]
  },
  {
   "cell_type": "code",
   "execution_count": null,
   "metadata": {},
   "outputs": [],
   "source": [
    "import os\n",
    "import sys\n",
    "sys.path.insert(1, os.path.abspath(os.path.join(os.getcwd(), os.pardir)))\n",
    "from pathlib import Path\n",
    "from collections import Counter\n",
    "\n",
    "import numpy as np\n",
    "from sklearn.model_selection import train_test_split\n",
    "from sklearn.metrics import average_precision_score\n",
    "from sklearn.preprocessing import OneHotEncoder\n",
    "\n",
    "from validation.classif_experiments import read_subsampling_indices, subsample_to_ratio_indices\n",
    "from data.data import load_BankChurners_data\n",
    "import lightgbm as lgb"
   ]
  },
  {
   "cell_type": "code",
   "execution_count": null,
   "metadata": {},
   "outputs": [],
   "source": [
    "from mgs_grf.over_sampling import MGSGRFOverSampler\n",
    "from mgs_grf.forest_for_categorical import DrfSk"
   ]
  },
  {
   "cell_type": "markdown",
   "metadata": {},
   "source": [
    "<center><h1  style=\"color:white; background-color:#808b96; border-radius: 10px; padding:15px;\"> BankChurners data </h1></center>"
   ]
  },
  {
   "cell_type": "code",
   "execution_count": null,
   "metadata": {},
   "outputs": [],
   "source": [
    "output_dir_path = \"../saved_experiments_categorial_features/BankChurners_example\"\n",
    "Path(output_dir_path).mkdir(parents=True, exist_ok=True)"
   ]
  },
  {
   "cell_type": "code",
   "execution_count": null,
   "metadata": {},
   "outputs": [],
   "source": [
    "## Import of the original data\n",
    "initial_X,initial_y = load_BankChurners_data()\n",
    "numeric_features = [0,2,7,8,9,10,11,12,13,14,15,16,17,18]\n",
    "categorical_features = [1,3,4,5,6]\n",
    "\n",
    "## Decreasing the imbalance ratio from 20% to 1%.\n",
    "indices_kept_1 = subsample_to_ratio_indices(X=initial_X,y=initial_y,ratio=0.01,seed_sub=5,output_dir_subsampling=output_dir_path,\n",
    "                                            name_subsampling_file='BankChurners_sub_original_to_1')\n",
    "X, y = initial_X[indices_kept_1],initial_y[indices_kept_1]\n",
    "print(\"Bankchurners 1% imbalance ratio : \", Counter(y))\n",
    "\n",
    "## Splitting the data intro train and test set\n",
    "X_train, X_test, y_train, y_test = train_test_split(X, y, test_size=0.2, random_state=0)"
   ]
  },
  {
   "cell_type": "code",
   "execution_count": null,
   "metadata": {},
   "outputs": [],
   "source": [
    "## Apply MGS-GRF procedure to oversample the data\n",
    "mgs_grf = MGSGRFOverSampler(K=len(numeric_features),categorical_features=categorical_features, Classifier=DrfSk(),random_state=0)\n",
    "balanced_X, balanced_y = mgs_grf.fit_resample(X_train,y_train)\n",
    "print(\"Augmented data : \", Counter(balanced_y))\n",
    "\n",
    "## Encode the categorical variables\n",
    "enc = OneHotEncoder(handle_unknown='ignore',sparse_output=False)\n",
    "balanced_X_encoded = enc.fit_transform(balanced_X[:,categorical_features])\n",
    "balanced_X_final = np.hstack((balanced_X[:,numeric_features],balanced_X_encoded))\n",
    "clf_mgs = lgb.LGBMClassifier(n_estimators=100,verbosity=-1, random_state=0)\n",
    "# Fit the final classifier on the augmented data\n",
    "clf_mgs.fit(balanced_X_final, balanced_y)\n",
    "\n",
    "## Evaluation on test set\n",
    "X_test_enc = enc.transform(X_test[:,categorical_features])\n",
    "X_test_final = np.hstack((X_test[:,numeric_features],X_test_enc))\n",
    "y_pred_probas_mgs_grf = clf_mgs.predict_proba(X_test_final)[:,1]\n",
    "print(\"PR AUC induced by MGS-GRF : \", average_precision_score(y_test, y_pred_probas_mgs_grf))"
   ]
  },
  {
   "cell_type": "code",
   "execution_count": null,
   "metadata": {},
   "outputs": [],
   "source": [
    "## Comparison when applying no rebalancing strategy\n",
    "enc = OneHotEncoder(handle_unknown='ignore',sparse_output=False)\n",
    "X_train_encoded = enc.fit_transform(X_train[:,categorical_features])\n",
    "X_train_final = np.hstack((X_train[:,numeric_features],X_train_encoded))\n",
    "clf_none = lgb.LGBMClassifier(n_estimators=100,verbosity=-1, random_state=0)\n",
    "clf_none.fit(X_train_final, y_train)\n",
    "\n",
    "X_test_enc = enc.transform(X_test[:,categorical_features])\n",
    "X_test_final = np.hstack((X_test[:,numeric_features],X_test_enc))\n",
    "y_pred_probas_none = clf_none.predict_proba(X_test_final)[:,1]\n",
    "print(\"PR AUC induced by applying no rebalncing strategy : \", average_precision_score(y_test, y_pred_probas_none))"
   ]
  },
  {
   "cell_type": "markdown",
   "metadata": {},
   "source": [
    "<center><h1  style=\"color:white; background-color:#808b96; border-radius: 10px; padding:15px;\"> END </h1></center>"
   ]
  }
 ],
 "metadata": {
  "kernelspec": {
   "display_name": "Python 3 (ipykernel)",
   "language": "python",
   "name": "python3"
  },
  "language_info": {
   "codemirror_mode": {
    "name": "ipython",
    "version": 3
   },
   "file_extension": ".py",
   "mimetype": "text/x-python",
   "name": "python",
   "nbconvert_exporter": "python",
   "pygments_lexer": "ipython3",
   "version": "3.11.9"
  }
 },
 "nbformat": 4,
 "nbformat_minor": 4
}
